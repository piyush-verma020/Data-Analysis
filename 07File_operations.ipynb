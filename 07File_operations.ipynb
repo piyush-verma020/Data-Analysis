{
 "cells": [
  {
   "cell_type": "code",
   "execution_count": 1,
   "id": "082bc44b-24ce-49f6-a670-b109d93e15d0",
   "metadata": {},
   "outputs": [],
   "source": [
    "import os\n",
    "import time\n",
    "import math"
   ]
  },
  {
   "cell_type": "markdown",
   "id": "c5d9ddc8",
   "metadata": {},
   "source": [
    "## Changing the directory\n",
    "To change the directory form c to d use **os/chdir('directory_name')**. I used it because my jupyter was installed in the c drive and the file i downloaded for the code was in the d drive and also don't forget to give double backslashes it take \\p as an escape character"
   ]
  },
  {
   "cell_type": "code",
   "execution_count": null,
   "id": "8cb91b92-c21e-4d46-becd-ccc92dd54f2d",
   "metadata": {},
   "outputs": [],
   "source": [
    "os.chdir('D:\\\\python')"
   ]
  },
  {
   "cell_type": "markdown",
   "id": "f1e9f8e2",
   "metadata": {},
   "source": [
    "os.getcwd() just tells us which directory is corently working"
   ]
  },
  {
   "cell_type": "code",
   "execution_count": null,
   "id": "eeca8e16-148d-4591-a3d3-ee71e667c8dc",
   "metadata": {},
   "outputs": [],
   "source": [
    "os.getcwd()"
   ]
  },
  {
   "cell_type": "markdown",
   "id": "8a6d650d",
   "metadata": {},
   "source": [
    "os.listdir() just tells us all the names of the file present in that directory"
   ]
  },
  {
   "cell_type": "code",
   "execution_count": null,
   "id": "f30b4d5d-9e81-4857-9580-57957704172e",
   "metadata": {},
   "outputs": [],
   "source": [
    "os.listdir()"
   ]
  },
  {
   "cell_type": "markdown",
   "id": "48c34e86-aa7b-4f32-a8e1-627ef04837c7",
   "metadata": {},
   "source": [
    "## Parse header\n",
    "It only gets the header line and return it"
   ]
  },
  {
   "cell_type": "code",
   "execution_count": null,
   "id": "c9074754-02eb-45d1-8909-3438c90cc40f",
   "metadata": {},
   "outputs": [],
   "source": [
    "def parse_header(headerline):\n",
    "    return [h.strip() for h in headerline.strip().split(',')]"
   ]
  },
  {
   "cell_type": "markdown",
   "id": "28ee6c94-cb34-4932-b22c-4ef3f723ff45",
   "metadata": {},
   "source": [
    "## Parse values\n",
    "It gets all the values from the file and converts the string values to float and if the values in the file are missing the empty values are filled up with 0 and it returns the list of values"
   ]
  },
  {
   "cell_type": "code",
   "execution_count": null,
   "id": "29ea2644-003a-42b3-9903-33b0071e260e",
   "metadata": {},
   "outputs": [],
   "source": [
    "def parse_values(data_line):\n",
    "    values = []\n",
    "    for item in data_line.strip().split(','):\n",
    "        if item.strip() == '':\n",
    "            values.append(0.0)\n",
    "        else:\n",
    "            values.append(float(item))\n",
    "    return values"
   ]
  },
  {
   "cell_type": "markdown",
   "id": "dd361256-70f4-4c4f-b5e8-659b2addb746",
   "metadata": {},
   "source": [
    "## Read file \n",
    "It opens up the file asked by the user and accepts the values from the **parse header** and **parse values** which are list but with **zip** function we combine the received values along with the respective header into a dictionary and it return the dictionary"
   ]
  },
  {
   "cell_type": "code",
   "execution_count": null,
   "id": "6f1054b6-315a-4aa8-9bfd-78d6987e7ecd",
   "metadata": {},
   "outputs": [],
   "source": [
    "def read_file(path):\n",
    "    with open(path) as f:\n",
    "        lines = f.readlines()\n",
    "\n",
    "    header = parse_header(lines[0])\n",
    "\n",
    "    data_dicts = []\n",
    "\n",
    "    for i in range(1, len(lines)):\n",
    "        if lines[i].strip() == \"\":\n",
    "            continue\n",
    "        values = parse_values(lines[i])\n",
    "        while len(values) < len(header):\n",
    "            values.append(0.0)\n",
    "        row_dict = dict(zip(header, values))\n",
    "        data_dicts.append(row_dict)\n",
    "\n",
    "    return data_dicts"
   ]
  },
  {
   "cell_type": "code",
   "execution_count": null,
   "id": "a534212f-caa8-44c5-87bf-b03ace04547d",
   "metadata": {},
   "outputs": [],
   "source": [
    "def calculate_loan_emi(amount, duration, rate, downpayment=0):\n",
    "    loan_amount = amount - downpayment\n",
    "    if rate == 0:\n",
    "        emi = loan_amount / duration\n",
    "    else:\n",
    "        emi = loan_amount * rate * ((1 + rate) ** duration) / (((1 + rate) ** duration) - 1)\n",
    "    emi = math.ceil(emi)\n",
    "    return emi"
   ]
  },
  {
   "cell_type": "code",
   "execution_count": null,
   "id": "6cc2c7ae-8983-4d37-b9fb-0d90c7cfcce3",
   "metadata": {},
   "outputs": [],
   "source": [
    "def writing_data(rows):\n",
    "    file_name = input(\"Enter the file where you wish to put the details on: \")\n",
    "    with open(file_name, 'w') as f:\n",
    "        f.write(\"amount,duration,rate,down_payment,emi\\n\")\n",
    "        for row in rows:\n",
    "            f.write(f\"{row['amount']},{row['duration']},{row['rate']},{row['down_payment']},{row['emi']}\\n\")"
   ]
  },
  {
   "cell_type": "markdown",
   "id": "1eb651dc-265d-41e7-b4c0-87644c42da10",
   "metadata": {},
   "source": [
    "## Main line of code\n",
    "In the following lines, the user is asked to provide details about how many files they wish to modify. Then, the program takes one file at a time and performs the respective actions. Yes, we could have taken all the file names at once in a list, and as the loop progresses, it would automatically process the file names one by one."
   ]
  },
  {
   "cell_type": "code",
   "execution_count": null,
   "id": "a48be980-be5b-4c91-a9f5-547fc9432748",
   "metadata": {},
   "outputs": [],
   "source": [
    "number_of_files = int(input(\"Enter the number of file you wish to be operated: \"))\n",
    "i = 1\n",
    "while i <= number_of_files:\n",
    "    file_name = input(\"Enter the name of the file you wish to open: \")\n",
    "    rows = read_file(file_name)\n",
    "    print(\"Parsed Data:\")\n",
    "    print(rows)\n",
    "    for loan in rows:\n",
    "        amount = float(loan.get('amount', 0) or 0)\n",
    "        duration = int(loan.get('duration', 0) or 1)  # Avoiding division by zero\n",
    "        rate = float(loan.get('rate', 0) or 0) / 12   # Converting the annual rate into months\n",
    "        down_payment = float(loan.get('down_payment', 0) or 0)\n",
    "    \n",
    "        loan['emi'] = calculate_loan_emi(amount, duration, rate, down_payment)\n",
    "    \n",
    "    print(\"\\nData with EMI:\")\n",
    "    \n",
    "    for row in rows:\n",
    "        print(row)\n",
    "    \n",
    "    print(\"Writing the data into the file: \", end=\"\")\n",
    "    l = ['.', '..', '...']\n",
    "    \n",
    "    for dots in l:\n",
    "        print(f\"\\rWriting the data into the file: {dots}\", end=\"\", flush=True)\n",
    "        time.sleep(0.5)\n",
    "    \n",
    "    writing_data(rows)\n",
    "    print(\"\\nDone!\")\n",
    "    i += 1"
   ]
  },
  {
   "cell_type": "code",
   "execution_count": null,
   "id": "9ec8d688-6f69-4b12-af4c-ed1afcf74e57",
   "metadata": {},
   "outputs": [],
   "source": []
  }
 ],
 "metadata": {
  "kernelspec": {
   "display_name": "Python 3 (ipykernel)",
   "language": "python",
   "name": "python3"
  },
  "language_info": {
   "codemirror_mode": {
    "name": "ipython",
    "version": 3
   },
   "file_extension": ".py",
   "mimetype": "text/x-python",
   "name": "python",
   "nbconvert_exporter": "python",
   "pygments_lexer": "ipython3",
   "version": "3.13.2"
  }
 },
 "nbformat": 4,
 "nbformat_minor": 5
}
