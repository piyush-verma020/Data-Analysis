{
 "cells": [
  {
   "cell_type": "markdown",
   "id": "f968bbcd-768d-4e38-b7dc-b01419a9c510",
   "metadata": {},
   "source": [
    "## Exercise 02\n",
    "\n",
    "Radha is planning to buy house that costs $1,260,000. She considering two options to finance her purchase:\n",
    "\n",
    "- Option 1: Make an immediate down payment of $300,000, and take loan 8-year loan with an interest rate of 10% per annum(compounded monthly) for the remaining amount.\n",
    "\n",
    "- Option 2: Take a 10-year loan with an interest rate of 8% per annum(compounded monthly) for the entire amount.\n",
    "\n",
    "Both these loans have to paid back in equal monthly installments (EMIS). Which loan has a lower EMI among the two?\n",
    "\n",
    "Since we need to compare the EMIs for two loan options, it might be helpful to define a function to calculate the EMI for a loan, given inputs like the cost of the house, the down payment, duration of the loan, rate of interest etc. We'll build this function step by step.\n",
    "\n",
    "To begin, let's write a simple function that calculates the EMI on the entire cost of the house, assuming that the loan has to be paid back in one year, and there is no interest or down payment"
   ]
  },
  {
   "cell_type": "code",
   "execution_count": 13,
   "id": "66082b0e-5209-4860-bf9a-0ebf5e4a641e",
   "metadata": {},
   "outputs": [
    {
     "name": "stdout",
     "output_type": "stream",
     "text": [
      "Option 1 EMI: $14567.20\n",
      "Option 2 EMI: $15287.28\n"
     ]
    }
   ],
   "source": [
    "def emi_cal(amount):\n",
    "    amount -= 300000\n",
    "    r = 0.10 / 12\n",
    "    n = 8 * 12\n",
    "    emi = (amount * r * (1 + r)**n) / ((1 + r)**n - 1)\n",
    "    return emi\n",
    "\n",
    "def emi_calculator(amount):\n",
    "    r = 0.08 / 12\n",
    "    n = 10 * 12\n",
    "    emi = (amount * r * (1 + r)**n) / ((1 + r)**n - 1)\n",
    "    return emi\n",
    "\n",
    "amount = 1260000\n",
    "emi1 = emi_cal(amount)\n",
    "emi2 = emi_calculator(amount)\n",
    "\n",
    "print(f\"Option 1 EMI: ${emi1:.2f}\")\n",
    "print(f\"Option 2 EMI: ${emi2:.2f}\")\n"
   ]
  },
  {
   "cell_type": "markdown",
   "id": "9215037c-a53a-4223-9993-cdcf8f90c5f1",
   "metadata": {},
   "source": [
    "## Exercise 03\n",
    "\n",
    "Shaun is currenly paying back a home loan for nouse a few years go. The cost of the house was $800,000. Shaun made a down payment of 25% of the cost, and financed the remaining amount using a 6-year loan with an interest rate of 78 per annum (compounded monthly). Shaun is now buying a car worth $60,000, which he is planning to finance using a 1-year loan with an interest rate of 128 per annum. Both loans are paid back in EMIs. What is the total monthly payment Shaun makes towards loan repayment?"
   ]
  },
  {
   "cell_type": "code",
   "execution_count": 5,
   "id": "891dbda6-fee1-4326-af3a-7fc97bdc0e67",
   "metadata": {},
   "outputs": [],
   "source": [
    "def Home_Loan(cost, down_payment,r, loan_period):\n",
    "    down_payment = (down_payment / 100) * cost\n",
    "    loan = cost - down_payment\n",
    "    r = (r / 100) / 12\n",
    "    loan_period = loan_period * 12\n",
    "    EMI = loan * ((r * (1 + r)**loan_period) / ((1 + r)**loan_period -1))\n",
    "    return EMI\n",
    "\n",
    "def Car_Loan(car_cost, r, duration):\n",
    "    rate = (r / 100) / 12\n",
    "    term = duration * 12\n",
    "    EMI = car_cost * ((rate * (1 + rate)**term) / (( 1 + rate)**term - 1))\n",
    "    return EMI"
   ]
  },
  {
   "cell_type": "code",
   "execution_count": 6,
   "id": "6bbedb19-5d53-4068-adaf-df3943205224",
   "metadata": {},
   "outputs": [
    {
     "name": "stdin",
     "output_type": "stream",
     "text": [
      "Enter the cost of the house:  800000\n",
      "Enter the what percent of the house was already paid:  25\n",
      "Enter the rate of interest:  78\n",
      "Enter the loan term you have applied for:  6\n",
      "Enter the cost of the car you bought recently:  60000\n",
      "Enter the rate of interest:  128\n",
      "Enter the loan term you have applied for:  1\n"
     ]
    },
    {
     "name": "stdout",
     "output_type": "stream",
     "text": [
      "Previously you where paying an amount of $39423.23393998181\n",
      "After your car loan you monthly EMI has been increased to $48518.60422916715\n"
     ]
    }
   ],
   "source": [
    "try:\n",
    "    cost = int(input(\"Enter the cost of the house: \"))\n",
    "    payment = int(input(\"Enter the what percent of the house was already paid: \"))\n",
    "    rate = int(input(\"Enter the rate of interest: \"))\n",
    "    duration = int(input(\"Enter the loan term you have applied for: \"))\n",
    "\n",
    "    car_cost = int(input(\"Enter the cost of the car you bought recently: \"))\n",
    "    r = int(input(\"Enter the rate of interest: \"))\n",
    "    time_period = int(input(\"Enter the loan term you have applied for: \"))\n",
    "\n",
    "    home_EMI = Home_Loan(cost, payment, rate, duration)\n",
    "\n",
    "    car_EMI = Car_Loan(car_cost, r, time_period)\n",
    "\n",
    "    print(f\"Previously you where paying an amount of ${home_EMI}\")\n",
    "    print(f\"After your car loan you monthly EMI has been increased to ${home_EMI + car_EMI}\")\n",
    "    \n",
    "except ValueError as v:\n",
    "    print(f\"There was an error with the value input {v}\")\n",
    "except Exception as e:\n",
    "    print(e)"
   ]
  },
  {
   "cell_type": "code",
   "execution_count": null,
   "id": "2ea01b99-9cd7-49f6-bab0-892b0419ac8a",
   "metadata": {},
   "outputs": [],
   "source": []
  }
 ],
 "metadata": {
  "kernelspec": {
   "display_name": "Python 3 (ipykernel)",
   "language": "python",
   "name": "python3"
  },
  "language_info": {
   "codemirror_mode": {
    "name": "ipython",
    "version": 3
   },
   "file_extension": ".py",
   "mimetype": "text/x-python",
   "name": "python",
   "nbconvert_exporter": "python",
   "pygments_lexer": "ipython3",
   "version": "3.13.2"
  }
 },
 "nbformat": 4,
 "nbformat_minor": 5
}
