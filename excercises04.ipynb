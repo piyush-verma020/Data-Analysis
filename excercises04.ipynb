{
 "cells": [
  {
   "cell_type": "markdown",
   "id": "94333ddd-0c98-47e7-81da-a075d5819351",
   "metadata": {},
   "source": [
    "## Excercise 04\n",
    "\n",
    "We're expressing the yield of apples as a weighted sum of the temperature, rainfall and humidity. \n",
    "Obviously, this is an approximation, since the actual relation may not necessarily be linear. \n",
    "But a simple linear model like this often works well in practice.\n",
    "\n",
    "Based on some statical analysis of historical data, we might we able to come up with reasonable \n",
    "values for the weights **wl**, **w2** and **w3**. Here's an example set of values:"
   ]
  },
  {
   "cell_type": "code",
   "execution_count": 14,
   "id": "3925b63e-2ee9-4974-a41d-c539d7ab0716",
   "metadata": {},
   "outputs": [],
   "source": [
    "weights = {\"Temp[F]\": 0.3, \"Rainfall(mm)\": 0.2, \"Humidity\": 0.5}"
   ]
  },
  {
   "cell_type": "markdown",
   "id": "bb60d029-8d33-459f-a9a7-aeba889598b7",
   "metadata": {},
   "source": [
    "Given some climate data we can now predict what the yeild of apple in a region might look like.   \n",
    "Here's some sample data:"
   ]
  },
  {
   "cell_type": "code",
   "execution_count": 15,
   "id": "6200d35f-0920-40da-8a68-fb339864f17b",
   "metadata": {},
   "outputs": [
    {
     "data": {
      "text/html": [
       "<div>\n",
       "<style scoped>\n",
       "    .dataframe tbody tr th:only-of-type {\n",
       "        vertical-align: middle;\n",
       "    }\n",
       "\n",
       "    .dataframe tbody tr th {\n",
       "        vertical-align: top;\n",
       "    }\n",
       "\n",
       "    .dataframe thead th {\n",
       "        text-align: right;\n",
       "    }\n",
       "</style>\n",
       "<table border=\"1\" class=\"dataframe\">\n",
       "  <thead>\n",
       "    <tr style=\"text-align: right;\">\n",
       "      <th></th>\n",
       "      <th>Region</th>\n",
       "      <th>Temp.(F)</th>\n",
       "      <th>Rainfall (mm)</th>\n",
       "      <th>Humidity (%)</th>\n",
       "    </tr>\n",
       "  </thead>\n",
       "  <tbody>\n",
       "    <tr>\n",
       "      <th>0</th>\n",
       "      <td>Kanto</td>\n",
       "      <td>73</td>\n",
       "      <td>67</td>\n",
       "      <td>43</td>\n",
       "    </tr>\n",
       "    <tr>\n",
       "      <th>1</th>\n",
       "      <td>Johto</td>\n",
       "      <td>91</td>\n",
       "      <td>88</td>\n",
       "      <td>64</td>\n",
       "    </tr>\n",
       "    <tr>\n",
       "      <th>2</th>\n",
       "      <td>Hoenn</td>\n",
       "      <td>87</td>\n",
       "      <td>134</td>\n",
       "      <td>58</td>\n",
       "    </tr>\n",
       "    <tr>\n",
       "      <th>3</th>\n",
       "      <td>Sinnoh</td>\n",
       "      <td>102</td>\n",
       "      <td>43</td>\n",
       "      <td>37</td>\n",
       "    </tr>\n",
       "    <tr>\n",
       "      <th>4</th>\n",
       "      <td>Unova</td>\n",
       "      <td>69</td>\n",
       "      <td>96</td>\n",
       "      <td>70</td>\n",
       "    </tr>\n",
       "  </tbody>\n",
       "</table>\n",
       "</div>"
      ],
      "text/plain": [
       "   Region  Temp.(F)  Rainfall (mm)  Humidity (%)\n",
       "0   Kanto        73             67            43\n",
       "1   Johto        91             88            64\n",
       "2   Hoenn        87            134            58\n",
       "3  Sinnoh       102             43            37\n",
       "4   Unova        69             96            70"
      ]
     },
     "execution_count": 15,
     "metadata": {},
     "output_type": "execute_result"
    }
   ],
   "source": [
    "import pandas as pd\n",
    "\n",
    "data = {\n",
    "        'Region' : ['Kanto', 'Johto', 'Hoenn', 'Sinnoh', 'Unova'],\n",
    "        'Temp.(F)' : [73, 91, 87, 102, 69],\n",
    "        'Rainfall (mm)' : [67, 88, 134, 43, 96],\n",
    "        'Humidity (%)' : [43, 64, 58, 37, 70]\n",
    "}\n",
    "df = pd.DataFrame(data)\n",
    "df"
   ]
  },
  {
   "cell_type": "markdown",
   "id": "2746a580-0bea-4f1b-beb2-c0ad26e23a21",
   "metadata": {},
   "source": [
    "In order to begin, we could  first define some variables to record some climate data for a region."
   ]
  },
  {
   "cell_type": "code",
   "execution_count": 16,
   "id": "e1ae405c-9c04-42b0-b9bb-2731dd4e8d9b",
   "metadata": {},
   "outputs": [],
   "source": [
    "my_dict : dict = {\"Region\" : [], \"Temp[F]\" : [], \"Rainfall(mm)\" : [], \"Humidity\" : []}"
   ]
  },
  {
   "cell_type": "code",
   "execution_count": 17,
   "id": "907f8352-53f9-4f62-ab08-37ba80ced4da",
   "metadata": {},
   "outputs": [
    {
     "name": "stdin",
     "output_type": "stream",
     "text": [
      "Enter the value of Region for entry 1:  Kanto\n",
      "Enter the value of Region for entry 2:  Johto\n",
      "Enter the value of Region for entry 3:  Hoenn\n",
      "Enter the value of Region for entry 4:  Sinnoh\n",
      "Enter the value of Region for entry 5:  Unova\n",
      "Enter the value of Temp[F] for entry 1:  73\n",
      "Enter the value of Temp[F] for entry 2:  91\n",
      "Enter the value of Temp[F] for entry 3:  87\n",
      "Enter the value of Temp[F] for entry 4:  102\n",
      "Enter the value of Temp[F] for entry 5:  69\n",
      "Enter the value of Rainfall(mm) for entry 1:  67\n",
      "Enter the value of Rainfall(mm) for entry 2:  88\n",
      "Enter the value of Rainfall(mm) for entry 3:  134\n",
      "Enter the value of Rainfall(mm) for entry 4:  43\n",
      "Enter the value of Rainfall(mm) for entry 5:  96\n",
      "Enter the value of Humidity for entry 1:  43\n",
      "Enter the value of Humidity for entry 2:  64\n",
      "Enter the value of Humidity for entry 3:  58\n",
      "Enter the value of Humidity for entry 4:  37\n",
      "Enter the value of Humidity for entry 5:  70\n"
     ]
    }
   ],
   "source": [
    "for key in my_dict:\n",
    "    for i in range(5):\n",
    "        val = input(f\"Enter the value of {key} for entry {i + 1}: \")\n",
    "        if key != \"Region\":\n",
    "            val = int(val)\n",
    "        my_dict[key].append(val)"
   ]
  },
  {
   "cell_type": "code",
   "execution_count": 18,
   "id": "e33f0dfc-6c3f-401a-85fa-e5372497161a",
   "metadata": {},
   "outputs": [],
   "source": [
    "n = len(next(iter(my_dict.values())))"
   ]
  },
  {
   "cell_type": "code",
   "execution_count": 19,
   "id": "3ae0cf69-ef2c-40d2-98b8-1384be1d7074",
   "metadata": {},
   "outputs": [
    {
     "name": "stdout",
     "output_type": "stream",
     "text": [
      "For Region 'Kanto': 56.80\n",
      "For Region 'Johto': 76.90\n",
      "For Region 'Hoenn': 81.90\n",
      "For Region 'Sinnoh': 57.70\n",
      "For Region 'Unova': 74.90\n"
     ]
    }
   ],
   "source": [
    "for i in range(n):\n",
    "    terms = []\n",
    "    total = 0\n",
    "    for key in weights:\n",
    "        value = my_dict[key][i]\n",
    "        weight = weights[key]\n",
    "        term = value * weight\n",
    "        total += term\n",
    "        terms.append(f\"{value}*{weight}\")\n",
    "    region = my_dict[\"Region\"][i]\n",
    "    print(f\"For Region '{region}': {total:.2f}\")\n"
   ]
  },
  {
   "cell_type": "code",
   "execution_count": null,
   "id": "46f1744d-3998-4ee0-bf78-e5aaaefeca1f",
   "metadata": {},
   "outputs": [],
   "source": []
  }
 ],
 "metadata": {
  "kernelspec": {
   "display_name": "Python 3 (ipykernel)",
   "language": "python",
   "name": "python3"
  },
  "language_info": {
   "codemirror_mode": {
    "name": "ipython",
    "version": 3
   },
   "file_extension": ".py",
   "mimetype": "text/x-python",
   "name": "python",
   "nbconvert_exporter": "python",
   "pygments_lexer": "ipython3",
   "version": "3.13.2"
  }
 },
 "nbformat": 4,
 "nbformat_minor": 5
}
