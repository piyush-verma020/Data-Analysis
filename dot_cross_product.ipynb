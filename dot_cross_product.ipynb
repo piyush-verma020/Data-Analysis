{
 "cells": [
  {
   "cell_type": "code",
   "execution_count": 1,
   "id": "0fbe3762-2a15-4152-a8ba-c416de58fb9b",
   "metadata": {},
   "outputs": [],
   "source": [
    "import numpy as np\n",
    "\n",
    "def get_matrix(rows, cols):\n",
    "    matrix = []\n",
    "    for i in range(rows):\n",
    "        row_data = []\n",
    "        for j in range(cols):\n",
    "            value = int(input(f\"Enter the value for ({i+1},{j+1}): \"))\n",
    "            row_data.append(value)\n",
    "        matrix.append(row_data)\n",
    "    return np.array(matrix)"
   ]
  },
  {
   "cell_type": "code",
   "execution_count": null,
   "id": "111fda79-9ffd-4f90-b783-1a8b535b7cdc",
   "metadata": {},
   "outputs": [
    {
     "name": "stdin",
     "output_type": "stream",
     "text": [
      "Enter the number of rows for the first matrix:  3\n",
      "Enter the number of columns for the first matrix:  3\n",
      "Enter the number of rows for the second matrix:  3\n",
      "Enter the number of columns for the second matrix:  3\n"
     ]
    },
    {
     "name": "stdout",
     "output_type": "stream",
     "text": [
      "\n",
      "Enter values for the first matrix:\n"
     ]
    },
    {
     "name": "stdin",
     "output_type": "stream",
     "text": [
      "Enter the value for (1,1):  1\n",
      "Enter the value for (1,2):  2\n",
      "Enter the value for (1,3):  3\n",
      "Enter the value for (2,1):  4\n",
      "Enter the value for (2,2):  5\n",
      "Enter the value for (2,3):  6\n",
      "Enter the value for (3,1):  7\n",
      "Enter the value for (3,2):  8\n",
      "Enter the value for (3,3):  9\n"
     ]
    },
    {
     "name": "stdout",
     "output_type": "stream",
     "text": [
      "\n",
      "Enter values for the second matrix:\n"
     ]
    }
   ],
   "source": [
    "try:\n",
    "    row = int(input(\"Enter the number of rows for the first matrix: \"))\n",
    "    col = int(input(\"Enter the number of columns for the first matrix: \"))\n",
    "    row2 = int(input(\"Enter the number of rows for the second matrix: \"))\n",
    "    col2 = int(input(\"Enter the number of columns for the second matrix: \"))\n",
    "\n",
    "    if row > 5 or row2 > 5:\n",
    "        raise ValueError(\"Rows should not exceed 5.\")\n",
    "\n",
    "    print(\"\\nEnter values for the first matrix:\")\n",
    "    matrix1 = get_matrix(row, col)\n",
    "\n",
    "    print(\"\\nEnter values for the second matrix:\")\n",
    "    matrix2 = get_matrix(row2, col2)\n",
    "\n",
    "    print(\"\\nFirst matrix:\")\n",
    "    print(matrix1)\n",
    "\n",
    "    print(\"\\nSecond matrix:\")\n",
    "    print(matrix2)\n",
    "\n",
    "    print(\"Which operation do you wish to do \\n1. Cross product \\n2. Dot product \")\n",
    "    choice = int(input(\"Enter your choice: \"))\n",
    "    if choice == 1:\n",
    "        print(np.cross(matrix1,matrix2))\n",
    "    elif choice == 2:\n",
    "        print(np.dot(matrix1,matrix2))\n",
    "\n",
    "except ValueError as v:\n",
    "    print(f\"Value error: {v}\")\n",
    "except Exception as e:\n",
    "    print(f\"An error occurred: {e}\")"
   ]
  },
  {
   "cell_type": "code",
   "execution_count": null,
   "id": "e331e6cf-f1b7-454d-8ba6-5c9a5b550ab7",
   "metadata": {},
   "outputs": [],
   "source": []
  }
 ],
 "metadata": {
  "kernelspec": {
   "display_name": "Python 3 (ipykernel)",
   "language": "python",
   "name": "python3"
  },
  "language_info": {
   "codemirror_mode": {
    "name": "ipython",
    "version": 3
   },
   "file_extension": ".py",
   "mimetype": "text/x-python",
   "name": "python",
   "nbconvert_exporter": "python",
   "pygments_lexer": "ipython3",
   "version": "3.13.2"
  }
 },
 "nbformat": 4,
 "nbformat_minor": 5
}
