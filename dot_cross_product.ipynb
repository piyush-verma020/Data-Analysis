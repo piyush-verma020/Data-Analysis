{
 "cells": [
  {
   "cell_type": "code",
   "execution_count": null,
   "id": "0fbe3762-2a15-4152-a8ba-c416de58fb9b",
   "metadata": {},
   "outputs": [],
   "source": [
    "import numpy as np\n",
    "\n",
    "def get_matrix(rows, cols):\n",
    "    matrix = []\n",
    "    for i in range(rows):\n",
    "        row_data = []\n",
    "        for j in range(cols):\n",
    "            value = int(input(f\"Enter the value for ({i+1},{j+1}): \"))\n",
    "            row_data.append(value)\n",
    "        matrix.append(row_data)\n",
    "    return np.array(matrix)"
   ]
  },
  {
   "cell_type": "code",
   "execution_count": null,
   "id": "111fda79-9ffd-4f90-b783-1a8b535b7cdc",
   "metadata": {},
   "outputs": [
    {
     "name": "stdout",
     "output_type": "stream",
     "text": [
      "Enter the number of rows for the first matrix:  3\n",
      "Enter the number of columns for the first matrix:  3\n",
      "Enter the number of rows for the second matrix:  3\n",
      "Enter the number of columns for the second matrix:  2\n"
     ]
    },
    {
     "name": "stdout",
     "output_type": "stream",
     "text": [
      "\n",
      "Enter values for the first matrix:\n"
     ]
    },
    {
     "name": "stdout",
     "output_type": "stream",
     "text": [
      "Enter the value for (1,1):  1\n",
      "Enter the value for (1,2):  2\n",
      "Enter the value for (1,3):  3\n",
      "Enter the value for (2,1):  4\n",
      "Enter the value for (2,2):  5\n",
      "Enter the value for (2,3):  6\n",
      "Enter the value for (3,1):  7\n",
      "Enter the value for (3,2):  8\n",
      "Enter the value for (3,3):  9\n"
     ]
    },
    {
     "name": "stdout",
     "output_type": "stream",
     "text": [
      "\n",
      "Enter values for the second matrix:\n"
     ]
    },
    {
     "name": "stdout",
     "output_type": "stream",
     "text": [
      "Enter the value for (1,1):  1\n",
      "Enter the value for (1,2):  2\n",
      "Enter the value for (2,1):  3\n",
      "Enter the value for (2,2):  4\n",
      "Enter the value for (3,1):  5\n",
      "Enter the value for (3,2):  6\n"
     ]
    },
    {
     "name": "stdout",
     "output_type": "stream",
     "text": [
      "\n",
      "First matrix:\n",
      "[[1 2 3]\n",
      " [4 5 6]\n",
      " [7 8 9]]\n",
      "\n",
      "Second matrix:\n",
      "[[1 2]\n",
      " [3 4]\n",
      " [5 6]]\n",
      "Which operation do you wish to do:\n",
      "1. Cross product\n",
      "2. Dot product\n",
      "3. Matrix multiplication\n"
     ]
    },
    {
     "name": "stdout",
     "output_type": "stream",
     "text": [
      "Enter your choice:  3\n"
     ]
    },
    {
     "name": "stdout",
     "output_type": "stream",
     "text": [
      "Matrix multiplication:\n",
      "[[ 22  28]\n",
      " [ 49  64]\n",
      " [ 76 100]]\n"
     ]
    }
   ],
   "source": [
    "try:\n",
    "    row = int(input(\"Enter the number of rows for the first matrix: \"))\n",
    "    col = int(input(\"Enter the number of columns for the first matrix: \"))\n",
    "    row2 = int(input(\"Enter the number of rows for the second matrix: \"))\n",
    "    col2 = int(input(\"Enter the number of columns for the second matrix: \"))\n",
    "        \n",
    "    print(\"\\nEnter values for the first matrix:\")\n",
    "    matrix1 = get_matrix(row, col)\n",
    "    \n",
    "    print(\"\\nEnter values for the second matrix:\")\n",
    "    matrix2 = get_matrix(row2, col2)\n",
    "\n",
    "    print(\"\\nFirst matrix:\")\n",
    "    print(matrix1)\n",
    "\n",
    "    print(\"\\nSecond matrix:\")\n",
    "    print(matrix2)\n",
    "\n",
    "    print(\"Which operation do you wish to do:\")\n",
    "    print(\"1. Cross product\")\n",
    "    print(\"2. Dot product\")\n",
    "    print(\"3. Matrix multiplication(eg. (3 x 3) x (3 x n)\")\n",
    "    choice = int(input(\"Enter your choice: \"))\n",
    "\n",
    "    if choice == 1:\n",
    "        if matrix1.shape == (3,) and matrix2.shape == (3,):\n",
    "            print(\"Cross product:\")\n",
    "            print(np.cross(matrix1, matrix2))\n",
    "        else:\n",
    "            raise ValueError(\"Cross product is only defined for 3-element vectors.\")\n",
    "    elif choice == 2:\n",
    "        if matrix1.shape[1] != matrix2.shape[0]:\n",
    "            raise ValueError(\"Dot product: matrix1 columns must equal matrix2 rows.\")\n",
    "        print(\"Dot product:\")\n",
    "        print(np.dot(matrix1, matrix2))\n",
    "    elif choice == 3:\n",
    "        if matrix1.shape[1] != matrix2.shape[0]:\n",
    "            raise ValueError(\"Matrix multiplication: matrix1 columns must equal matrix2 rows.\")\n",
    "        print(\"Matrix multiplication:\")\n",
    "        print(np.matmul(matrix1, matrix2))\n",
    "    else:\n",
    "        print(\"Invalid choice.\")\n",
    "\n",
    "except Exception as e:\n",
    "    print(f\"An error occurred: {e}\")"
   ]
  }
 ],
 "metadata": {
  "kernelspec": {
   "display_name": "Python 3 (ipykernel)",
   "language": "python",
   "name": "python3"
  },
  "language_info": {
   "codemirror_mode": {
    "name": "ipython",
    "version": 3
   },
   "file_extension": ".py",
   "mimetype": "text/x-python",
   "name": "python",
   "nbconvert_exporter": "python",
   "pygments_lexer": "ipython3",
   "version": "3.13.2"
  }
 },
 "nbformat": 4,
 "nbformat_minor": 5
}
