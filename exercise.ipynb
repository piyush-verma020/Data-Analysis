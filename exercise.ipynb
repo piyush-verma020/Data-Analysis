{
 "cells": [
  {
   "cell_type": "code",
   "execution_count": 2,
   "id": "ffd77e1c-5ca3-4d44-82eb-b13c1e7ea09c",
   "metadata": {},
   "outputs": [
    {
     "name": "stdout",
     "output_type": "stream",
     "text": [
      "Requirement already satisfied: pandas in c:\\users\\lenovo\\appdata\\local\\programs\\python\\python313\\lib\\site-packages (2.2.3)\n",
      "Requirement already satisfied: numpy>=1.26.0 in c:\\users\\lenovo\\appdata\\local\\programs\\python\\python313\\lib\\site-packages (from pandas) (2.2.5)\n",
      "Requirement already satisfied: python-dateutil>=2.8.2 in c:\\users\\lenovo\\appdata\\local\\programs\\python\\python313\\lib\\site-packages (from pandas) (2.9.0.post0)\n",
      "Requirement already satisfied: pytz>=2020.1 in c:\\users\\lenovo\\appdata\\local\\programs\\python\\python313\\lib\\site-packages (from pandas) (2025.2)\n",
      "Requirement already satisfied: tzdata>=2022.7 in c:\\users\\lenovo\\appdata\\local\\programs\\python\\python313\\lib\\site-packages (from pandas) (2025.2)\n",
      "Requirement already satisfied: six>=1.5 in c:\\users\\lenovo\\appdata\\local\\programs\\python\\python313\\lib\\site-packages (from python-dateutil>=2.8.2->pandas) (1.17.0)\n",
      "Note: you may need to restart the kernel to use updated packages.\n"
     ]
    }
   ],
   "source": [
    "pip install pandas"
   ]
  },
  {
   "cell_type": "markdown",
   "id": "3a356368-b8b5-4980-a5ba-8911c62d247a",
   "metadata": {},
   "source": [
    "## Exercise - Data Analysis for Vacation Planning \n",
    "You are planning a leisure trip(vacation) and you have to decide which city you wish to vist. You have \n",
    "shortlisted 4 cities, and identified the cost of return flight, daily cost and weekly car rental cost\n",
    "(a car has to be rented for a full weeks, even if you return the car before the week ends)"
   ]
  },
  {
   "cell_type": "code",
   "execution_count": 9,
   "id": "101f6a02-73e4-406e-bc51-9787b16495a9",
   "metadata": {},
   "outputs": [
    {
     "data": {
      "text/html": [
       "<div>\n",
       "<style scoped>\n",
       "    .dataframe tbody tr th:only-of-type {\n",
       "        vertical-align: middle;\n",
       "    }\n",
       "\n",
       "    .dataframe tbody tr th {\n",
       "        vertical-align: top;\n",
       "    }\n",
       "\n",
       "    .dataframe thead th {\n",
       "        text-align: right;\n",
       "    }\n",
       "</style>\n",
       "<table border=\"1\" class=\"dataframe\">\n",
       "  <thead>\n",
       "    <tr style=\"text-align: right;\">\n",
       "      <th></th>\n",
       "      <th>City</th>\n",
       "      <th>Return Flights($)</th>\n",
       "      <th>Hostel per day($)</th>\n",
       "      <th>Weekly Car Rentals($)</th>\n",
       "    </tr>\n",
       "  </thead>\n",
       "  <tbody>\n",
       "    <tr>\n",
       "      <th>0</th>\n",
       "      <td>Paris</td>\n",
       "      <td>200</td>\n",
       "      <td>20</td>\n",
       "      <td>200</td>\n",
       "    </tr>\n",
       "    <tr>\n",
       "      <th>1</th>\n",
       "      <td>London</td>\n",
       "      <td>250</td>\n",
       "      <td>30</td>\n",
       "      <td>120</td>\n",
       "    </tr>\n",
       "    <tr>\n",
       "      <th>2</th>\n",
       "      <td>Dubai</td>\n",
       "      <td>370</td>\n",
       "      <td>15</td>\n",
       "      <td>80</td>\n",
       "    </tr>\n",
       "    <tr>\n",
       "      <th>3</th>\n",
       "      <td>Mumbai</td>\n",
       "      <td>450</td>\n",
       "      <td>10</td>\n",
       "      <td>70</td>\n",
       "    </tr>\n",
       "  </tbody>\n",
       "</table>\n",
       "</div>"
      ],
      "text/plain": [
       "     City  Return Flights($)  Hostel per day($)  Weekly Car Rentals($)\n",
       "0   Paris                200                 20                    200\n",
       "1  London                250                 30                    120\n",
       "2   Dubai                370                 15                     80\n",
       "3  Mumbai                450                 10                     70"
      ]
     },
     "execution_count": 9,
     "metadata": {},
     "output_type": "execute_result"
    }
   ],
   "source": [
    "import pandas as pd\n",
    "\n",
    "data = {\n",
    "        'City' : ['Paris', 'London', 'Dubai', 'Mumbai'],\n",
    "        'Return Flights($)' : [200, 250, 370, 450],\n",
    "        'Hostel per day($)' : [20, 30, 15, 10],\n",
    "        'Weekly Car Rentals($)' : [200, 120, 80, 70]\n",
    "}\n",
    "df = pd.DataFrame(data)\n",
    "df"
   ]
  },
  {
   "cell_type": "markdown",
   "id": "d3fbff3e-aca4-4f11-a6aa-9d87db460227",
   "metadata": {},
   "source": [
    "Answer the following questions using the data given above:\n",
    "\n",
    "1. If you're planning a 1-week long trip, which city should you visit to spend the least amount of money?\n",
    "\n",
    "2. How does the answer to the previous question change if you change the duration of the trip to 4 days\n",
    "    ,10 days or 2 weeks?\n",
    "\n",
    "3. If your total budget for the trip is $1000, which city should you visit to maximize the duration of\n",
    "    your trip? Which city should you visit if you want to minimize the duration?\n",
    "\n",
    "4. How does the answer to the previous question change if your budget is $600, $2000 or $1500?\n",
    "\n",
    "*Hint* :- *In order to answer the questions, it will help to define a function **cost_of_trip** with relevent \n",
    "input like **flight cost, hotel rate, car rental rate and duration of the trip**. You may find the **math.ceil** \n",
    "function useful for calculating the total cost of car rental*"
   ]
  },
  {
   "cell_type": "code",
   "execution_count": 84,
   "id": "8c294898-d503-43f8-9a58-12b3d73c6dcd",
   "metadata": {},
   "outputs": [],
   "source": [
    "import math\n",
    "\n",
    "def cost_of_trip(flight_cost, hostel_rate, car_rental_rate, duration):\n",
    "    weeks = math.ceil(duration / 7)\n",
    "    hostel_cost = hostel_rate * duration\n",
    "    car_rental_cost = car_rental_rate * weeks\n",
    "    total = flight_cost + hostel_cost + car_rental_cost\n",
    "    return total\n"
   ]
  },
  {
   "cell_type": "code",
   "execution_count": 85,
   "id": "8c2092b2-5574-4391-a663-73c46c96155c",
   "metadata": {},
   "outputs": [
    {
     "name": "stdin",
     "output_type": "stream",
     "text": [
      "Enter your budget:  1000\n",
      "How many days do you want to travel:  12\n"
     ]
    }
   ],
   "source": [
    "# Input\n",
    "budget = int(input(\"Enter your budget: \"))\n",
    "trip_duration = int(input(\"How many days do you want to travel: \"))"
   ]
  },
  {
   "cell_type": "code",
   "execution_count": 86,
   "id": "8138c844-3cc8-498f-b224-3ffd6f7f7684",
   "metadata": {},
   "outputs": [],
   "source": [
    "# City data\n",
    "cities = {\n",
    "    'Paris': {'flight': 200, 'hostel': 20, 'car': 200},\n",
    "    'London': {'flight': 250, 'hostel': 30, 'car': 120},\n",
    "    'Dubai': {'flight': 370, 'hostel': 15, 'car': 80},\n",
    "    'Mumbai': {'flight': 450, 'hostel': 10, 'car': 70}\n",
    "}"
   ]
  },
  {
   "cell_type": "code",
   "execution_count": 87,
   "id": "7665883b-7ad4-4607-ba93-bfefdc0f8d70",
   "metadata": {},
   "outputs": [],
   "source": [
    "# Store affordable cities\n",
    "affordable_cities = {}\n",
    "\n",
    "for city, data in cities.items():\n",
    "    total_cost = cost_of_trip(data['flight'], data['hostel'], data['car'], trip_duration)\n",
    "    if total_cost <= budget:\n",
    "        affordable_cities[city] = {\n",
    "            'Total Cost': total_cost,\n",
    "            'Duration': trip_duration,\n",
    "            'Flight': data['flight'],\n",
    "            'Hostel (per day)': data['hostel'],\n",
    "            'Car Rental (per week)': data['car']\n",
    "        }"
   ]
  },
  {
   "cell_type": "code",
   "execution_count": 89,
   "id": "8f13f80b-48a5-4480-abd7-c238526edd1a",
   "metadata": {},
   "outputs": [
    {
     "name": "stdout",
     "output_type": "stream",
     "text": [
      "\n",
      "Cities you can visit within your budget:\n",
      "\n",
      "Paris\n",
      "  Total Cost: 840\n",
      "  Duration: 12\n",
      "  Flight: 200\n",
      "  Hostel (per day): 20\n",
      "  Car Rental (per week): 200\n",
      "\n",
      "London\n",
      "  Total Cost: 850\n",
      "  Duration: 12\n",
      "  Flight: 250\n",
      "  Hostel (per day): 30\n",
      "  Car Rental (per week): 120\n",
      "\n",
      "Dubai\n",
      "  Total Cost: 710\n",
      "  Duration: 12\n",
      "  Flight: 370\n",
      "  Hostel (per day): 15\n",
      "  Car Rental (per week): 80\n",
      "\n",
      "Mumbai\n",
      "  Total Cost: 710\n",
      "  Duration: 12\n",
      "  Flight: 450\n",
      "  Hostel (per day): 10\n",
      "  Car Rental (per week): 70\n",
      "\n"
     ]
    }
   ],
   "source": [
    "# Output\n",
    "if not affordable_cities:\n",
    "    print(\"Sorry, no cities are within your budget.\")\n",
    "else:\n",
    "    print(\"\\nCities you can visit within your budget:\\n\")\n",
    "    for city, details in affordable_cities.items():\n",
    "        print(f\"{city}\")\n",
    "        for key, value in details.items():\n",
    "            print(f\"  {key}: {value}\")\n",
    "        print()\n"
   ]
  }
 ],
 "metadata": {
  "kernelspec": {
   "display_name": "Python 3 (ipykernel)",
   "language": "python",
   "name": "python3"
  },
  "language_info": {
   "codemirror_mode": {
    "name": "ipython",
    "version": 3
   },
   "file_extension": ".py",
   "mimetype": "text/x-python",
   "name": "python",
   "nbconvert_exporter": "python",
   "pygments_lexer": "ipython3",
   "version": "3.13.2"
  }
 },
 "nbformat": 4,
 "nbformat_minor": 5
}
