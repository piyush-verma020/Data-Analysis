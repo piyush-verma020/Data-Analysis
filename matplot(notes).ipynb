{
 "cells": [
  {
   "cell_type": "markdown",
   "id": "8f1b7b15-d04d-47e4-8b43-85450d6e993c",
   "metadata": {},
   "source": [
    "## Basic Ploting with Pandas\n",
    "\n",
    "While we typically use a library like **matplotlib** or **seaborn** to plot graphs in Jupyter Notebook, Pandas DataFrames and Series also provide a handy **.plot()** method for quick and easy plotting.."
   ]
  },
  {
   "cell_type": "code",
   "execution_count": null,
   "id": "dd8c3596-364b-4a95-ac3c-319510954445",
   "metadata": {},
   "outputs": [],
   "source": [
    "from urllib.request import urlretrieve\n",
    "import pandas as pd"
   ]
  },
  {
   "cell_type": "code",
   "execution_count": null,
   "id": "2c25eed1-37ac-42da-82b0-433a7ed703c9",
   "metadata": {},
   "outputs": [],
   "source": [
    "## let's download a data frame for instance\n",
    "#italy_covid_url = 'https://gist.githubusercontent.com/aakashns/f6a004fa20c84fec53262f9a8bfee775/raw/f309558b1cf5103424cef58e2ecb8704dcd4d74c/italy-covid-daywise.csv'\n",
    "\n",
    "## Save the file with the correct filename\n",
    "#urlretrieve(italy_covid_url, 'italy-covid-daywise.csv')\n",
    "\n",
    "covid_df = pd.read_csv('italy-covid-daywise.csv')"
   ]
  },
  {
   "cell_type": "code",
   "execution_count": null,
   "id": "d150fa6b-2b72-4993-8cff-43c5f2194c71",
   "metadata": {},
   "outputs": [],
   "source": [
    "covid_df"
   ]
  },
  {
   "cell_type": "code",
   "execution_count": null,
   "id": "a7ad4209-a67f-4cb5-9856-9e57685511dd",
   "metadata": {},
   "outputs": [],
   "source": [
    "covid_df['total_cases'] = covid_df.new_cases.cumsum()\n",
    "covid_df['total_deaths'] = covid_df.new_deaths.cumsum()\n",
    "covid_df['total_tests'] = covid_df.new_tests.cumsum()"
   ]
  },
  {
   "cell_type": "code",
   "execution_count": null,
   "id": "678a8779-1fdc-44a4-a1e9-03e6af3d25ff",
   "metadata": {},
   "outputs": [],
   "source": [
    "covid_df"
   ]
  },
  {
   "cell_type": "code",
   "execution_count": null,
   "id": "0b1329f2-9417-45c3-9077-83ade8c90dc2",
   "metadata": {},
   "outputs": [],
   "source": [
    "covid_df.new_cases.plot();"
   ]
  },
  {
   "cell_type": "markdown",
   "id": "9a80bfff-908f-48ce-8a7b-e183a1dcf3ae",
   "metadata": {},
   "source": [
    "Although this plot shows the overall trend, it's hard to tell when and where the peak occurred, as there are no dates on the X-axis.\n",
    "We can use the date column as the index of the DataFrame to address this issue"
   ]
  },
  {
   "cell_type": "code",
   "execution_count": null,
   "id": "7379fcd4-8b50-4c7f-b55c-adbcca6d00f8",
   "metadata": {},
   "outputs": [],
   "source": [
    "covid_df.date"
   ]
  },
  {
   "cell_type": "markdown",
   "id": "ef7f288f-8aba-474a-8117-2d2e5b4cbce8",
   "metadata": {},
   "source": [
    "Since the dtype of the dates column is object, we need to convert it into a proper datetime format so that we can use it to plot graphs."
   ]
  },
  {
   "cell_type": "code",
   "execution_count": null,
   "id": "d1a975de-abcd-4fd3-bfe6-58b42570b1de",
   "metadata": {},
   "outputs": [],
   "source": [
    "covid_df['date'] = pd.to_datetime(covid_df.date)"
   ]
  },
  {
   "cell_type": "code",
   "execution_count": null,
   "id": "ad506561-11c0-484f-b9e0-fc139add4ad4",
   "metadata": {},
   "outputs": [],
   "source": [
    "covid_df.date"
   ]
  },
  {
   "cell_type": "code",
   "execution_count": null,
   "id": "d215516d-21a4-4cb9-85e2-8ceafec805ca",
   "metadata": {},
   "outputs": [],
   "source": [
    "covid_df"
   ]
  },
  {
   "cell_type": "code",
   "execution_count": null,
   "id": "d1563b4b-c59a-4d38-8a66-1c9903414f37",
   "metadata": {},
   "outputs": [],
   "source": [
    "covid_df['year'] = pd.DatetimeIndex(covid_df.date).year\n",
    "covid_df['month'] = pd.DatetimeIndex(covid_df.date).month\n",
    "covid_df['day'] = pd.DatetimeIndex(covid_df.date).day\n",
    "covid_df['weekday'] = pd.DatetimeIndex(covid_df.date).weekday"
   ]
  },
  {
   "cell_type": "code",
   "execution_count": null,
   "id": "87d1acdc-c9c8-48a9-b65f-8ecdbe148b3f",
   "metadata": {
    "jupyter": {
     "source_hidden": true
    }
   },
   "outputs": [],
   "source": [
    "covid_df['month_name'] = covid_df['date'].dt.month_name()"
   ]
  },
  {
   "cell_type": "code",
   "execution_count": null,
   "id": "8e94a163-a742-4e4f-a51d-73634028b205",
   "metadata": {},
   "outputs": [],
   "source": [
    "covid_month_df = covid_df.groupby('month_name')[['new_cases', 'new_tests', 'new_deaths']].sum()"
   ]
  },
  {
   "cell_type": "code",
   "execution_count": null,
   "id": "79558cc5-686a-437d-905b-76221e0fbc8f",
   "metadata": {},
   "outputs": [],
   "source": [
    "# Defining the correct order of months\n",
    "month_order = ['January', 'February', 'March', 'April', 'May', 'June', 'July', 'August', 'September', 'October', 'November', 'December']"
   ]
  },
  {
   "cell_type": "code",
   "execution_count": null,
   "id": "9dc29702-2142-4980-af23-c92af2bef31d",
   "metadata": {},
   "outputs": [],
   "source": [
    "# Making sure 'month_name' column exists and is ordered correctly\n",
    "covid_df['month_name'] = pd.Categorical(covid_df['month_name'], categories=month_order, ordered=True)"
   ]
  },
  {
   "cell_type": "code",
   "execution_count": null,
   "id": "d830a3e9-33f2-4d4f-851e-5402d0f7eb96",
   "metadata": {},
   "outputs": [],
   "source": [
    "covid_month_df = covid_df.groupby('month_name')[['new_cases', 'new_tests', 'new_deaths']].sum().sort_index()"
   ]
  },
  {
   "cell_type": "code",
   "execution_count": null,
   "id": "d63eab65-e8a1-4e35-8f4f-168a52f85d27",
   "metadata": {},
   "outputs": [],
   "source": [
    "covid_month_df"
   ]
  },
  {
   "cell_type": "code",
   "execution_count": null,
   "id": "da06eb13-5c5a-4954-8397-996d4de65e48",
   "metadata": {},
   "outputs": [],
   "source": [
    "covid_df"
   ]
  },
  {
   "cell_type": "code",
   "execution_count": null,
   "id": "0f011d4d-54cd-4442-b524-7c541c29624c",
   "metadata": {},
   "outputs": [],
   "source": [
    "covid_df['weekday_name'] = covid_df['date'].dt.day_name()"
   ]
  },
  {
   "cell_type": "code",
   "execution_count": null,
   "id": "6781f792-6ad9-4cc8-9454-15731ab257cb",
   "metadata": {},
   "outputs": [],
   "source": [
    "covid_df.set_index('date', inplace = True)"
   ]
  },
  {
   "cell_type": "code",
   "execution_count": null,
   "id": "06e882fa-e11f-4c20-8228-9bcece5285a6",
   "metadata": {},
   "outputs": [],
   "source": [
    "covid_df"
   ]
  },
  {
   "cell_type": "code",
   "execution_count": null,
   "id": "bf4e7e2c-268f-4a24-96c7-6e800be18025",
   "metadata": {},
   "outputs": [],
   "source": [
    "covid_df.plot()"
   ]
  },
  {
   "cell_type": "code",
   "execution_count": null,
   "id": "02acffd7-4169-4cf1-897f-2970dd9fe2e6",
   "metadata": {},
   "outputs": [],
   "source": [
    "covid_df.new_cases.plot();"
   ]
  },
  {
   "cell_type": "markdown",
   "id": "c06b8467-6a01-41da-a4d3-0bfe21e98376",
   "metadata": {},
   "source": [
    "## Note:\n",
    "**covid_df.set_index('date', inplace = True)**\n",
    "\n",
    "The above line could be written in a single line like:\n",
    "\n",
    "**covid_df.set_index('date').plot()**\n",
    "\n",
    "But if you use:\n",
    "**covid_df.set_index('date', inplace = True).plot()**\n",
    "        **OR**\n",
    "**covid_df.set_index('date', inplace = True).plot();**\n",
    "\n",
    "this will cause an error causew when you use .set_index(..., inplace=True), the method modifies the DataFrame in place and returns None. So trying to chain .plot() immediately after that will raise an error like:\n",
    "\n",
    "**AttributeError: 'NoneType' object has no attribute 'plot'**\n",
    "\n",
    "You can't use .plot() directly after .set_index(..., inplace=True) because:\n",
    "\n",
    "* .set_index(..., inplace=True) returns None (it just modifies the DataFrame itself).\n",
    "\n",
    "* So you're effectively doing None.plot(), which causes an error."
   ]
  },
  {
   "cell_type": "markdown",
   "id": "233a8c25-21bc-4324-aaa3-768cc69545e6",
   "metadata": {},
   "source": [
    "The index pf the Data Frame doesn't have to be numeric. We could also turn the date into index which will also allow us to get the data for a specific data\n",
    "whle using the **.loc** method"
   ]
  },
  {
   "cell_type": "code",
   "execution_count": null,
   "id": "6f9ded5a-b18f-4b2d-95d6-335e62629ff7",
   "metadata": {},
   "outputs": [],
   "source": [
    "covid_df.loc['2020-09-01']"
   ]
  },
  {
   "cell_type": "code",
   "execution_count": null,
   "id": "15c0c120-8627-48ae-903b-b29e6c034851",
   "metadata": {},
   "outputs": [],
   "source": [
    "covid_df.new_cases"
   ]
  },
  {
   "cell_type": "code",
   "execution_count": null,
   "id": "3f5ae322-0384-4a51-abe1-fed85129e6f8",
   "metadata": {},
   "outputs": [],
   "source": [
    "covid_df.new_cases.plot()\n",
    "covid_df.new_deaths.plot();"
   ]
  },
  {
   "cell_type": "markdown",
   "id": "8efbc43b-a980-414e-87a1-0429840625ad",
   "metadata": {},
   "source": [
    "## Why does this work without error?\n",
    "\n",
    "**covid_df.new_cases.plot()\n",
    "covid_df.new_deaths.plot();**\n",
    "\n",
    "1. To suppress the output in Jupyter Notebooks\n",
    "   the semicolon hides the text output like:\n",
    "       **<matplotlib.axes._subplots.AxesSubplot at 0x000001...>**\n",
    "   \n",
    "2. To separate multiple statements on the same line\n",
    "\n",
    "**Why no error even if you skip the semicolon?**\n",
    "\n",
    "Because Python doesn't need it at the end of a line. Both of these are fine:\n",
    "\n",
    "**covid_df.new_cases.plot() and covid_df.new_deaths.plot()**\n",
    "\n",
    "Basically the semicolon is just cosmetic in this context — it doesn't affect the behavior of the plot itself.\n",
    "\n",
    "### Summary\n",
    "\n",
    "* The semicolon is not required, it just suppresses output in notebooks.\n",
    "\n",
    "* That's why both lines work — the semicolon in the second is optional.\n",
    "\n",
    "* You could remove it entirely, or add one to both — it won’t change the plots."
   ]
  },
  {
   "cell_type": "code",
   "execution_count": null,
   "id": "c2b59c7c-afe9-49c8-8b87-349b00741ec7",
   "metadata": {},
   "outputs": [],
   "source": [
    "covid_df.total_tests.plot()\n",
    "covid_df.total_deaths.plot();"
   ]
  },
  {
   "cell_type": "code",
   "execution_count": null,
   "id": "cc4935dc-56f8-4061-b26c-3df7b118e878",
   "metadata": {},
   "outputs": [],
   "source": [
    "death_rate = covid_df.total_deaths / covid_df.total_cases"
   ]
  },
  {
   "cell_type": "code",
   "execution_count": null,
   "id": "492b017b-4b4e-4de1-97cf-6fcd173db728",
   "metadata": {},
   "outputs": [],
   "source": [
    "death_rate.plot(title = 'Death Rate');"
   ]
  },
  {
   "cell_type": "code",
   "execution_count": null,
   "id": "3c919a30-1bfd-490b-99ae-c1ba25f4c7e8",
   "metadata": {},
   "outputs": [],
   "source": [
    "positive_rate = covid_df.total_cases / covid_df.total_tests\n",
    "positive_rate.plot(title = 'Positive Rate');"
   ]
  },
  {
   "cell_type": "code",
   "execution_count": null,
   "id": "21668dca-85a5-4729-96d2-21a65f81c10e",
   "metadata": {},
   "outputs": [],
   "source": [
    "covid_df"
   ]
  },
  {
   "cell_type": "code",
   "execution_count": null,
   "id": "59ff1490-fe5f-4149-b2c3-68d8992b1cce",
   "metadata": {},
   "outputs": [],
   "source": [
    "# Now group and sort\n",
    "covid_month_df = covid_df.groupby('month_name')[['new_cases', 'new_tests', 'new_deaths']].sum().sort_index()"
   ]
  },
  {
   "cell_type": "code",
   "execution_count": null,
   "id": "dd3815fe-6445-4d76-a05a-e19dbe6012c4",
   "metadata": {},
   "outputs": [],
   "source": [
    "covid_month_df"
   ]
  },
  {
   "cell_type": "code",
   "execution_count": null,
   "id": "e57434ac-06fc-41f7-88f8-ea2a4ec86123",
   "metadata": {},
   "outputs": [],
   "source": [
    "covid_month_df.plot(kind = 'bar')"
   ]
  },
  {
   "cell_type": "code",
   "execution_count": null,
   "id": "39a7da60-022c-42e1-8ed7-0bd4f1f626cf",
   "metadata": {},
   "outputs": [],
   "source": [
    "covid_month_df.new_cases.plot(kind = 'bar')"
   ]
  },
  {
   "cell_type": "code",
   "execution_count": null,
   "id": "d453e3c8-03ae-49ca-a4fd-e44446ed8032",
   "metadata": {},
   "outputs": [],
   "source": []
  }
 ],
 "metadata": {
  "kernelspec": {
   "display_name": "Python 3 (ipykernel)",
   "language": "python",
   "name": "python3"
  },
  "language_info": {
   "codemirror_mode": {
    "name": "ipython",
    "version": 3
   },
   "file_extension": ".py",
   "mimetype": "text/x-python",
   "name": "python",
   "nbconvert_exporter": "python",
   "pygments_lexer": "ipython3",
   "version": "3.13.2"
  }
 },
 "nbformat": 4,
 "nbformat_minor": 5
}
