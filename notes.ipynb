{
 "cells": [
  {
   "cell_type": "code",
   "execution_count": 1,
   "id": "b984a8cb-89b1-49f8-9e0d-2dd1f1be8c00",
   "metadata": {},
   "outputs": [],
   "source": [
    "from urllib.request import urlretrieve\n",
    "import pandas as pd"
   ]
  },
  {
   "cell_type": "code",
   "execution_count": 2,
   "id": "bf6aa3b3-c8af-4330-9d48-4e546beeacbe",
   "metadata": {},
   "outputs": [
    {
     "data": {
      "text/plain": [
       "('d', <http.client.HTTPMessage at 0x23874be3110>)"
      ]
     },
     "execution_count": 2,
     "metadata": {},
     "output_type": "execute_result"
    }
   ],
   "source": [
    "italy_covid_url = 'https://gist.githubusercontent.com/aakashns/f6a004fa20c84fec53262f9a8bfee775/raw/f309558b1cf5103424cef58e2ecb8704dcd4d74c/italy-covid-daywise.csv'\n",
    "\n",
    "urlretrieve(italy_covid_url, 'd') # Trying to retrive the csv file attachted to the url"
   ]
  },
  {
   "cell_type": "code",
   "execution_count": 3,
   "id": "3dd72b0c-947c-4814-b2b0-096ed2ccc4d7",
   "metadata": {},
   "outputs": [],
   "source": [
    "covid_df=pd.read_csv('italy-covid-daywise.csv') # Pandas reading csv file"
   ]
  },
  {
   "cell_type": "code",
   "execution_count": 4,
   "id": "da4dd467-7146-4787-acb2-5a1381448e3b",
   "metadata": {},
   "outputs": [
    {
     "data": {
      "text/plain": [
       "pandas.core.frame.DataFrame"
      ]
     },
     "execution_count": 4,
     "metadata": {},
     "output_type": "execute_result"
    }
   ],
   "source": [
    "type(covid_df) # Tying to check the type of the data"
   ]
  },
  {
   "cell_type": "code",
   "execution_count": 5,
   "id": "361be8d7-3079-42a1-af39-a550e187bc24",
   "metadata": {},
   "outputs": [
    {
     "data": {
      "text/html": [
       "<div>\n",
       "<style scoped>\n",
       "    .dataframe tbody tr th:only-of-type {\n",
       "        vertical-align: middle;\n",
       "    }\n",
       "\n",
       "    .dataframe tbody tr th {\n",
       "        vertical-align: top;\n",
       "    }\n",
       "\n",
       "    .dataframe thead th {\n",
       "        text-align: right;\n",
       "    }\n",
       "</style>\n",
       "<table border=\"1\" class=\"dataframe\">\n",
       "  <thead>\n",
       "    <tr style=\"text-align: right;\">\n",
       "      <th></th>\n",
       "      <th>date</th>\n",
       "      <th>new_cases</th>\n",
       "      <th>new_deaths</th>\n",
       "      <th>new_tests</th>\n",
       "    </tr>\n",
       "  </thead>\n",
       "  <tbody>\n",
       "    <tr>\n",
       "      <th>0</th>\n",
       "      <td>2019-12-31</td>\n",
       "      <td>0.0</td>\n",
       "      <td>0.0</td>\n",
       "      <td>NaN</td>\n",
       "    </tr>\n",
       "    <tr>\n",
       "      <th>1</th>\n",
       "      <td>2020-01-01</td>\n",
       "      <td>0.0</td>\n",
       "      <td>0.0</td>\n",
       "      <td>NaN</td>\n",
       "    </tr>\n",
       "    <tr>\n",
       "      <th>2</th>\n",
       "      <td>2020-01-02</td>\n",
       "      <td>0.0</td>\n",
       "      <td>0.0</td>\n",
       "      <td>NaN</td>\n",
       "    </tr>\n",
       "    <tr>\n",
       "      <th>3</th>\n",
       "      <td>2020-01-03</td>\n",
       "      <td>0.0</td>\n",
       "      <td>0.0</td>\n",
       "      <td>NaN</td>\n",
       "    </tr>\n",
       "    <tr>\n",
       "      <th>4</th>\n",
       "      <td>2020-01-04</td>\n",
       "      <td>0.0</td>\n",
       "      <td>0.0</td>\n",
       "      <td>NaN</td>\n",
       "    </tr>\n",
       "    <tr>\n",
       "      <th>...</th>\n",
       "      <td>...</td>\n",
       "      <td>...</td>\n",
       "      <td>...</td>\n",
       "      <td>...</td>\n",
       "    </tr>\n",
       "    <tr>\n",
       "      <th>243</th>\n",
       "      <td>2020-08-30</td>\n",
       "      <td>1444.0</td>\n",
       "      <td>1.0</td>\n",
       "      <td>53541.0</td>\n",
       "    </tr>\n",
       "    <tr>\n",
       "      <th>244</th>\n",
       "      <td>2020-08-31</td>\n",
       "      <td>1365.0</td>\n",
       "      <td>4.0</td>\n",
       "      <td>42583.0</td>\n",
       "    </tr>\n",
       "    <tr>\n",
       "      <th>245</th>\n",
       "      <td>2020-09-01</td>\n",
       "      <td>996.0</td>\n",
       "      <td>6.0</td>\n",
       "      <td>54395.0</td>\n",
       "    </tr>\n",
       "    <tr>\n",
       "      <th>246</th>\n",
       "      <td>2020-09-02</td>\n",
       "      <td>975.0</td>\n",
       "      <td>8.0</td>\n",
       "      <td>NaN</td>\n",
       "    </tr>\n",
       "    <tr>\n",
       "      <th>247</th>\n",
       "      <td>2020-09-03</td>\n",
       "      <td>1326.0</td>\n",
       "      <td>6.0</td>\n",
       "      <td>NaN</td>\n",
       "    </tr>\n",
       "  </tbody>\n",
       "</table>\n",
       "<p>248 rows × 4 columns</p>\n",
       "</div>"
      ],
      "text/plain": [
       "           date  new_cases  new_deaths  new_tests\n",
       "0    2019-12-31        0.0         0.0        NaN\n",
       "1    2020-01-01        0.0         0.0        NaN\n",
       "2    2020-01-02        0.0         0.0        NaN\n",
       "3    2020-01-03        0.0         0.0        NaN\n",
       "4    2020-01-04        0.0         0.0        NaN\n",
       "..          ...        ...         ...        ...\n",
       "243  2020-08-30     1444.0         1.0    53541.0\n",
       "244  2020-08-31     1365.0         4.0    42583.0\n",
       "245  2020-09-01      996.0         6.0    54395.0\n",
       "246  2020-09-02      975.0         8.0        NaN\n",
       "247  2020-09-03     1326.0         6.0        NaN\n",
       "\n",
       "[248 rows x 4 columns]"
      ]
     },
     "execution_count": 5,
     "metadata": {},
     "output_type": "execute_result"
    }
   ],
   "source": [
    "covid_df  # Printing the values stored by pandas"
   ]
  },
  {
   "cell_type": "markdown",
   "id": "2e9eec05-3b91-4a98-830f-c3ddd82b28cd",
   "metadata": {},
   "source": [
    "we can view some basic information about the data frame using the **.info** method"
   ]
  },
  {
   "cell_type": "markdown",
   "id": "bc49db9c-88ed-4b3c-b0eb-419eeb846f52",
   "metadata": {},
   "source": [
    "covid_df.info()"
   ]
  },
  {
   "cell_type": "markdown",
   "id": "84edc508-4c52-4be1-b739-32f3dc047e21",
   "metadata": {},
   "source": [
    "It appears that each column contians a values of a specific data type. For the numeric columns, you can view\n",
    "some statistical information like mean, standard deviation, minimum/maximum values and the number of non-empty\n",
    "values using the **.describe** method"
   ]
  },
  {
   "cell_type": "code",
   "execution_count": 6,
   "id": "e25d7d7d-b97c-4157-813b-199b2111148e",
   "metadata": {},
   "outputs": [
    {
     "data": {
      "text/html": [
       "<div>\n",
       "<style scoped>\n",
       "    .dataframe tbody tr th:only-of-type {\n",
       "        vertical-align: middle;\n",
       "    }\n",
       "\n",
       "    .dataframe tbody tr th {\n",
       "        vertical-align: top;\n",
       "    }\n",
       "\n",
       "    .dataframe thead th {\n",
       "        text-align: right;\n",
       "    }\n",
       "</style>\n",
       "<table border=\"1\" class=\"dataframe\">\n",
       "  <thead>\n",
       "    <tr style=\"text-align: right;\">\n",
       "      <th></th>\n",
       "      <th>new_cases</th>\n",
       "      <th>new_deaths</th>\n",
       "      <th>new_tests</th>\n",
       "    </tr>\n",
       "  </thead>\n",
       "  <tbody>\n",
       "    <tr>\n",
       "      <th>count</th>\n",
       "      <td>248.000000</td>\n",
       "      <td>248.000000</td>\n",
       "      <td>135.000000</td>\n",
       "    </tr>\n",
       "    <tr>\n",
       "      <th>mean</th>\n",
       "      <td>1094.818548</td>\n",
       "      <td>143.133065</td>\n",
       "      <td>31699.674074</td>\n",
       "    </tr>\n",
       "    <tr>\n",
       "      <th>std</th>\n",
       "      <td>1554.508002</td>\n",
       "      <td>227.105538</td>\n",
       "      <td>11622.209757</td>\n",
       "    </tr>\n",
       "    <tr>\n",
       "      <th>min</th>\n",
       "      <td>-148.000000</td>\n",
       "      <td>-31.000000</td>\n",
       "      <td>7841.000000</td>\n",
       "    </tr>\n",
       "    <tr>\n",
       "      <th>25%</th>\n",
       "      <td>123.000000</td>\n",
       "      <td>3.000000</td>\n",
       "      <td>25259.000000</td>\n",
       "    </tr>\n",
       "    <tr>\n",
       "      <th>50%</th>\n",
       "      <td>342.000000</td>\n",
       "      <td>17.000000</td>\n",
       "      <td>29545.000000</td>\n",
       "    </tr>\n",
       "    <tr>\n",
       "      <th>75%</th>\n",
       "      <td>1371.750000</td>\n",
       "      <td>175.250000</td>\n",
       "      <td>37711.000000</td>\n",
       "    </tr>\n",
       "    <tr>\n",
       "      <th>max</th>\n",
       "      <td>6557.000000</td>\n",
       "      <td>971.000000</td>\n",
       "      <td>95273.000000</td>\n",
       "    </tr>\n",
       "  </tbody>\n",
       "</table>\n",
       "</div>"
      ],
      "text/plain": [
       "         new_cases  new_deaths     new_tests\n",
       "count   248.000000  248.000000    135.000000\n",
       "mean   1094.818548  143.133065  31699.674074\n",
       "std    1554.508002  227.105538  11622.209757\n",
       "min    -148.000000  -31.000000   7841.000000\n",
       "25%     123.000000    3.000000  25259.000000\n",
       "50%     342.000000   17.000000  29545.000000\n",
       "75%    1371.750000  175.250000  37711.000000\n",
       "max    6557.000000  971.000000  95273.000000"
      ]
     },
     "execution_count": 6,
     "metadata": {},
     "output_type": "execute_result"
    }
   ],
   "source": [
    "covid_df.describe()"
   ]
  },
  {
   "cell_type": "markdown",
   "id": "c996e412-d53b-428f-b7e2-4035b4bfa988",
   "metadata": {},
   "source": [
    "The columns properlycontains the list of the columns with the data frame"
   ]
  },
  {
   "cell_type": "code",
   "execution_count": 7,
   "id": "91934236-823b-441d-8a40-d49e1762753f",
   "metadata": {},
   "outputs": [
    {
     "data": {
      "text/plain": [
       "Index(['date', 'new_cases', 'new_deaths', 'new_tests'], dtype='object')"
      ]
     },
     "execution_count": 7,
     "metadata": {},
     "output_type": "execute_result"
    }
   ],
   "source": [
    "covid_df.columns"
   ]
  },
  {
   "cell_type": "markdown",
   "id": "60722789-305c-4621-baa2-10aa124b9f27",
   "metadata": {},
   "source": [
    "You can also retrieve the number of row and columns in data frame using the **.shape** method"
   ]
  },
  {
   "cell_type": "code",
   "execution_count": 8,
   "id": "4bd3f366-7b51-4142-97c2-3a537a3e2d07",
   "metadata": {},
   "outputs": [
    {
     "data": {
      "text/plain": [
       "(248, 4)"
      ]
     },
     "execution_count": 8,
     "metadata": {},
     "output_type": "execute_result"
    }
   ],
   "source": [
    "covid_df.shape"
   ]
  },
  {
   "cell_type": "code",
   "execution_count": 9,
   "id": "8616eb97-0577-4efe-a8c8-7f1ff6b101da",
   "metadata": {},
   "outputs": [
    {
     "data": {
      "text/plain": [
       "np.float64(975.0)"
      ]
     },
     "execution_count": 9,
     "metadata": {},
     "output_type": "execute_result"
    }
   ],
   "source": [
    "covid_df.at[246,'new_cases']"
   ]
  },
  {
   "cell_type": "markdown",
   "id": "8ca05ec9-d4a9-48f6-aa48-a7039ad60599",
   "metadata": {},
   "source": [
    "You're seeing **np.float64(975.0)** even though you didn't import numpy because Pandas internally uses NumPy,\n",
    "and some of its operations (like data access with .at[], .iloc[], etc.) may return NumPy data types such as np.float64.\n",
    "\n",
    "So if you wish to work with native python float then use:\n",
    "**float(covid_df.at[246, 'new_cases'])**"
   ]
  },
  {
   "cell_type": "markdown",
   "id": "74dcb2bb-2b1a-465b-9843-84d5e0aabfef",
   "metadata": {},
   "source": [
    "## Why NumPy is used (especially by Pandas):\n",
    "NumPy (short for Numerical Python) is a powerful library that provides:\n",
    "\n",
    "* Efficient multidimensional arrays (ndarray)\n",
    "* Fast mathematical operations on these arrays\n",
    "* Built-in support for linear algebra, statistics, random sampling, etc.\n",
    "\n",
    "In short Pandas depends on NumPy for:\n",
    "* Speed\n",
    "* Memory Effiency\n",
    "* Mathematical Funtionality\n",
    "* Data Type Consistancy"
   ]
  },
  {
   "cell_type": "code",
   "execution_count": 10,
   "id": "513d4044-2748-4e0b-8775-3abbb5bb4453",
   "metadata": {},
   "outputs": [
    {
     "data": {
      "text/plain": [
       "975.0"
      ]
     },
     "execution_count": 10,
     "metadata": {},
     "output_type": "execute_result"
    }
   ],
   "source": [
    "float(covid_df.at[246, 'new_cases'])"
   ]
  },
  {
   "cell_type": "markdown",
   "id": "228162ef-ca62-47d5-b2e4-9a04b3a771f0",
   "metadata": {},
   "source": [
    "Instead of using indexing notation [], Pandas also allows accessing columns as properties of the data frame using **\".\" (dot)** notation.\n",
    "However this method only works for column whose name do not contain spaces or special characters."
   ]
  },
  {
   "cell_type": "code",
   "execution_count": 11,
   "id": "38a51294-a52f-49a8-921a-20a2b7bbae21",
   "metadata": {},
   "outputs": [
    {
     "data": {
      "text/plain": [
       "0         0.0\n",
       "1         0.0\n",
       "2         0.0\n",
       "3         0.0\n",
       "4         0.0\n",
       "        ...  \n",
       "243    1444.0\n",
       "244    1365.0\n",
       "245     996.0\n",
       "246     975.0\n",
       "247    1326.0\n",
       "Name: new_cases, Length: 248, dtype: float64"
      ]
     },
     "execution_count": 11,
     "metadata": {},
     "output_type": "execute_result"
    }
   ],
   "source": [
    "covid_df.new_cases"
   ]
  },
  {
   "cell_type": "markdown",
   "id": "c8e70a45-e475-4b9f-90e9-bd42cc8b46cc",
   "metadata": {},
   "source": [
    "you can also pass a list of columns within the indexing notation **[]** to access the subset of the data frame with just the\n",
    "given columns"
   ]
  },
  {
   "cell_type": "code",
   "execution_count": 12,
   "id": "bc89f9ef-5184-4f3d-8a1c-298b5f05c4a9",
   "metadata": {},
   "outputs": [],
   "source": [
    "cases_df = covid_df[['date', 'new_cases']]"
   ]
  },
  {
   "cell_type": "code",
   "execution_count": 13,
   "id": "160899dc-9c31-4500-931d-bbcc58ed2380",
   "metadata": {},
   "outputs": [
    {
     "data": {
      "text/html": [
       "<div>\n",
       "<style scoped>\n",
       "    .dataframe tbody tr th:only-of-type {\n",
       "        vertical-align: middle;\n",
       "    }\n",
       "\n",
       "    .dataframe tbody tr th {\n",
       "        vertical-align: top;\n",
       "    }\n",
       "\n",
       "    .dataframe thead th {\n",
       "        text-align: right;\n",
       "    }\n",
       "</style>\n",
       "<table border=\"1\" class=\"dataframe\">\n",
       "  <thead>\n",
       "    <tr style=\"text-align: right;\">\n",
       "      <th></th>\n",
       "      <th>date</th>\n",
       "      <th>new_cases</th>\n",
       "    </tr>\n",
       "  </thead>\n",
       "  <tbody>\n",
       "    <tr>\n",
       "      <th>0</th>\n",
       "      <td>2019-12-31</td>\n",
       "      <td>0.0</td>\n",
       "    </tr>\n",
       "    <tr>\n",
       "      <th>1</th>\n",
       "      <td>2020-01-01</td>\n",
       "      <td>0.0</td>\n",
       "    </tr>\n",
       "    <tr>\n",
       "      <th>2</th>\n",
       "      <td>2020-01-02</td>\n",
       "      <td>0.0</td>\n",
       "    </tr>\n",
       "    <tr>\n",
       "      <th>3</th>\n",
       "      <td>2020-01-03</td>\n",
       "      <td>0.0</td>\n",
       "    </tr>\n",
       "    <tr>\n",
       "      <th>4</th>\n",
       "      <td>2020-01-04</td>\n",
       "      <td>0.0</td>\n",
       "    </tr>\n",
       "    <tr>\n",
       "      <th>...</th>\n",
       "      <td>...</td>\n",
       "      <td>...</td>\n",
       "    </tr>\n",
       "    <tr>\n",
       "      <th>243</th>\n",
       "      <td>2020-08-30</td>\n",
       "      <td>1444.0</td>\n",
       "    </tr>\n",
       "    <tr>\n",
       "      <th>244</th>\n",
       "      <td>2020-08-31</td>\n",
       "      <td>1365.0</td>\n",
       "    </tr>\n",
       "    <tr>\n",
       "      <th>245</th>\n",
       "      <td>2020-09-01</td>\n",
       "      <td>996.0</td>\n",
       "    </tr>\n",
       "    <tr>\n",
       "      <th>246</th>\n",
       "      <td>2020-09-02</td>\n",
       "      <td>975.0</td>\n",
       "    </tr>\n",
       "    <tr>\n",
       "      <th>247</th>\n",
       "      <td>2020-09-03</td>\n",
       "      <td>1326.0</td>\n",
       "    </tr>\n",
       "  </tbody>\n",
       "</table>\n",
       "<p>248 rows × 2 columns</p>\n",
       "</div>"
      ],
      "text/plain": [
       "           date  new_cases\n",
       "0    2019-12-31        0.0\n",
       "1    2020-01-01        0.0\n",
       "2    2020-01-02        0.0\n",
       "3    2020-01-03        0.0\n",
       "4    2020-01-04        0.0\n",
       "..          ...        ...\n",
       "243  2020-08-30     1444.0\n",
       "244  2020-08-31     1365.0\n",
       "245  2020-09-01      996.0\n",
       "246  2020-09-02      975.0\n",
       "247  2020-09-03     1326.0\n",
       "\n",
       "[248 rows x 2 columns]"
      ]
     },
     "execution_count": 13,
     "metadata": {},
     "output_type": "execute_result"
    }
   ],
   "source": [
    "cases_df"
   ]
  },
  {
   "cell_type": "markdown",
   "id": "85d48510-6c1f-4d84-9003-9b778ee2285b",
   "metadata": {},
   "source": [
    "In order to access a specific row of data use **.loc** method"
   ]
  },
  {
   "cell_type": "code",
   "execution_count": 14,
   "id": "fedca9b4-06a6-41ee-be7e-97add55f2691",
   "metadata": {},
   "outputs": [
    {
     "data": {
      "text/plain": [
       "date          2020-08-30\n",
       "new_cases         1444.0\n",
       "new_deaths           1.0\n",
       "new_tests        53541.0\n",
       "Name: 243, dtype: object"
      ]
     },
     "execution_count": 14,
     "metadata": {},
     "output_type": "execute_result"
    }
   ],
   "source": [
    "covid_df.loc[243]"
   ]
  },
  {
   "cell_type": "code",
   "execution_count": 15,
   "id": "64b32ea7-6738-4c6e-afe0-0417db5316dd",
   "metadata": {},
   "outputs": [
    {
     "data": {
      "text/plain": [
       "pandas.core.series.Series"
      ]
     },
     "execution_count": 15,
     "metadata": {},
     "output_type": "execute_result"
    }
   ],
   "source": [
    "type(covid_df.loc[243])"
   ]
  },
  {
   "cell_type": "markdown",
   "id": "75efad35-b149-4637-8959-44d0cdddab6f",
   "metadata": {},
   "source": [
    "to find the first and the last row of data, we can use the **.head()** and **.tail()** methods."
   ]
  },
  {
   "cell_type": "code",
   "execution_count": 16,
   "id": "2c047018-68a3-4197-8558-7c534909b90b",
   "metadata": {},
   "outputs": [
    {
     "data": {
      "text/html": [
       "<div>\n",
       "<style scoped>\n",
       "    .dataframe tbody tr th:only-of-type {\n",
       "        vertical-align: middle;\n",
       "    }\n",
       "\n",
       "    .dataframe tbody tr th {\n",
       "        vertical-align: top;\n",
       "    }\n",
       "\n",
       "    .dataframe thead th {\n",
       "        text-align: right;\n",
       "    }\n",
       "</style>\n",
       "<table border=\"1\" class=\"dataframe\">\n",
       "  <thead>\n",
       "    <tr style=\"text-align: right;\">\n",
       "      <th></th>\n",
       "      <th>date</th>\n",
       "      <th>new_cases</th>\n",
       "      <th>new_deaths</th>\n",
       "      <th>new_tests</th>\n",
       "    </tr>\n",
       "  </thead>\n",
       "  <tbody>\n",
       "    <tr>\n",
       "      <th>0</th>\n",
       "      <td>2019-12-31</td>\n",
       "      <td>0.0</td>\n",
       "      <td>0.0</td>\n",
       "      <td>NaN</td>\n",
       "    </tr>\n",
       "    <tr>\n",
       "      <th>1</th>\n",
       "      <td>2020-01-01</td>\n",
       "      <td>0.0</td>\n",
       "      <td>0.0</td>\n",
       "      <td>NaN</td>\n",
       "    </tr>\n",
       "    <tr>\n",
       "      <th>2</th>\n",
       "      <td>2020-01-02</td>\n",
       "      <td>0.0</td>\n",
       "      <td>0.0</td>\n",
       "      <td>NaN</td>\n",
       "    </tr>\n",
       "    <tr>\n",
       "      <th>3</th>\n",
       "      <td>2020-01-03</td>\n",
       "      <td>0.0</td>\n",
       "      <td>0.0</td>\n",
       "      <td>NaN</td>\n",
       "    </tr>\n",
       "    <tr>\n",
       "      <th>4</th>\n",
       "      <td>2020-01-04</td>\n",
       "      <td>0.0</td>\n",
       "      <td>0.0</td>\n",
       "      <td>NaN</td>\n",
       "    </tr>\n",
       "  </tbody>\n",
       "</table>\n",
       "</div>"
      ],
      "text/plain": [
       "         date  new_cases  new_deaths  new_tests\n",
       "0  2019-12-31        0.0         0.0        NaN\n",
       "1  2020-01-01        0.0         0.0        NaN\n",
       "2  2020-01-02        0.0         0.0        NaN\n",
       "3  2020-01-03        0.0         0.0        NaN\n",
       "4  2020-01-04        0.0         0.0        NaN"
      ]
     },
     "execution_count": 16,
     "metadata": {},
     "output_type": "execute_result"
    }
   ],
   "source": [
    "covid_df.head(5)  # To get the first 5 rows of data"
   ]
  },
  {
   "cell_type": "code",
   "execution_count": 17,
   "id": "35bc7ea9-efb6-4089-bec6-60af83dbebc3",
   "metadata": {},
   "outputs": [
    {
     "data": {
      "text/html": [
       "<div>\n",
       "<style scoped>\n",
       "    .dataframe tbody tr th:only-of-type {\n",
       "        vertical-align: middle;\n",
       "    }\n",
       "\n",
       "    .dataframe tbody tr th {\n",
       "        vertical-align: top;\n",
       "    }\n",
       "\n",
       "    .dataframe thead th {\n",
       "        text-align: right;\n",
       "    }\n",
       "</style>\n",
       "<table border=\"1\" class=\"dataframe\">\n",
       "  <thead>\n",
       "    <tr style=\"text-align: right;\">\n",
       "      <th></th>\n",
       "      <th>date</th>\n",
       "      <th>new_cases</th>\n",
       "      <th>new_deaths</th>\n",
       "      <th>new_tests</th>\n",
       "    </tr>\n",
       "  </thead>\n",
       "  <tbody>\n",
       "    <tr>\n",
       "      <th>244</th>\n",
       "      <td>2020-08-31</td>\n",
       "      <td>1365.0</td>\n",
       "      <td>4.0</td>\n",
       "      <td>42583.0</td>\n",
       "    </tr>\n",
       "    <tr>\n",
       "      <th>245</th>\n",
       "      <td>2020-09-01</td>\n",
       "      <td>996.0</td>\n",
       "      <td>6.0</td>\n",
       "      <td>54395.0</td>\n",
       "    </tr>\n",
       "    <tr>\n",
       "      <th>246</th>\n",
       "      <td>2020-09-02</td>\n",
       "      <td>975.0</td>\n",
       "      <td>8.0</td>\n",
       "      <td>NaN</td>\n",
       "    </tr>\n",
       "    <tr>\n",
       "      <th>247</th>\n",
       "      <td>2020-09-03</td>\n",
       "      <td>1326.0</td>\n",
       "      <td>6.0</td>\n",
       "      <td>NaN</td>\n",
       "    </tr>\n",
       "  </tbody>\n",
       "</table>\n",
       "</div>"
      ],
      "text/plain": [
       "           date  new_cases  new_deaths  new_tests\n",
       "244  2020-08-31     1365.0         4.0    42583.0\n",
       "245  2020-09-01      996.0         6.0    54395.0\n",
       "246  2020-09-02      975.0         8.0        NaN\n",
       "247  2020-09-03     1326.0         6.0        NaN"
      ]
     },
     "execution_count": 17,
     "metadata": {},
     "output_type": "execute_result"
    }
   ],
   "source": [
    "covid_df.tail(4)   # To get the last 4 rows of data"
   ]
  },
  {
   "cell_type": "markdown",
   "id": "634d0ce5-de61-4021-b98e-362ea2b732da",
   "metadata": {},
   "source": [
    "The distinction between *0* and *NaN* is subtle but important. In this data set it represents that daily tests numbers\n",
    "were not reported on specific dates. In fact Italy started reportingdaily test from April 19, 2020 by thatt time, 935310\n",
    "tests had already been conducted.\n",
    "\n",
    "We can find the first index which doesn't contain *NaN* value by using **first_valid_index()** method of a series."
   ]
  },
  {
   "cell_type": "code",
   "execution_count": 18,
   "id": "f2a5ec2d-7f66-49a0-8b08-ae65a3fa1b2e",
   "metadata": {},
   "outputs": [
    {
     "data": {
      "text/plain": [
       "111"
      ]
     },
     "execution_count": 18,
     "metadata": {},
     "output_type": "execute_result"
    }
   ],
   "source": [
    "covid_df.new_tests.first_valid_index()"
   ]
  },
  {
   "cell_type": "markdown",
   "id": "619485d4-7249-4286-8a75-c350aacb908b",
   "metadata": {},
   "source": [
    "To check if the value of the new tests is changing from NaN value to an actual floating number then **use a range function in the .loc[]** method"
   ]
  },
  {
   "cell_type": "code",
   "execution_count": 19,
   "id": "987324c0-0b1f-406d-be88-f26c6601d5dd",
   "metadata": {},
   "outputs": [
    {
     "data": {
      "text/html": [
       "<div>\n",
       "<style scoped>\n",
       "    .dataframe tbody tr th:only-of-type {\n",
       "        vertical-align: middle;\n",
       "    }\n",
       "\n",
       "    .dataframe tbody tr th {\n",
       "        vertical-align: top;\n",
       "    }\n",
       "\n",
       "    .dataframe thead th {\n",
       "        text-align: right;\n",
       "    }\n",
       "</style>\n",
       "<table border=\"1\" class=\"dataframe\">\n",
       "  <thead>\n",
       "    <tr style=\"text-align: right;\">\n",
       "      <th></th>\n",
       "      <th>date</th>\n",
       "      <th>new_cases</th>\n",
       "      <th>new_deaths</th>\n",
       "      <th>new_tests</th>\n",
       "    </tr>\n",
       "  </thead>\n",
       "  <tbody>\n",
       "    <tr>\n",
       "      <th>108</th>\n",
       "      <td>2020-04-17</td>\n",
       "      <td>3786.0</td>\n",
       "      <td>525.0</td>\n",
       "      <td>NaN</td>\n",
       "    </tr>\n",
       "    <tr>\n",
       "      <th>109</th>\n",
       "      <td>2020-04-18</td>\n",
       "      <td>3493.0</td>\n",
       "      <td>575.0</td>\n",
       "      <td>NaN</td>\n",
       "    </tr>\n",
       "    <tr>\n",
       "      <th>110</th>\n",
       "      <td>2020-04-19</td>\n",
       "      <td>3491.0</td>\n",
       "      <td>480.0</td>\n",
       "      <td>NaN</td>\n",
       "    </tr>\n",
       "    <tr>\n",
       "      <th>111</th>\n",
       "      <td>2020-04-20</td>\n",
       "      <td>3047.0</td>\n",
       "      <td>433.0</td>\n",
       "      <td>7841.0</td>\n",
       "    </tr>\n",
       "    <tr>\n",
       "      <th>112</th>\n",
       "      <td>2020-04-21</td>\n",
       "      <td>2256.0</td>\n",
       "      <td>454.0</td>\n",
       "      <td>28095.0</td>\n",
       "    </tr>\n",
       "    <tr>\n",
       "      <th>113</th>\n",
       "      <td>2020-04-22</td>\n",
       "      <td>2729.0</td>\n",
       "      <td>534.0</td>\n",
       "      <td>44248.0</td>\n",
       "    </tr>\n",
       "  </tbody>\n",
       "</table>\n",
       "</div>"
      ],
      "text/plain": [
       "           date  new_cases  new_deaths  new_tests\n",
       "108  2020-04-17     3786.0       525.0        NaN\n",
       "109  2020-04-18     3493.0       575.0        NaN\n",
       "110  2020-04-19     3491.0       480.0        NaN\n",
       "111  2020-04-20     3047.0       433.0     7841.0\n",
       "112  2020-04-21     2256.0       454.0    28095.0\n",
       "113  2020-04-22     2729.0       534.0    44248.0"
      ]
     },
     "execution_count": 19,
     "metadata": {},
     "output_type": "execute_result"
    }
   ],
   "source": [
    "covid_df.loc[108 : 113]"
   ]
  },
  {
   "cell_type": "markdown",
   "id": "2a1f74d7-edb1-40f3-8fd4-8c029f2d065d",
   "metadata": {},
   "source": [
    "Use **.sample()** method to retirieve a random sample of rows from the data frame"
   ]
  },
  {
   "cell_type": "code",
   "execution_count": 20,
   "id": "6bb13365-a5f2-40d8-abf3-7b854b6c6e02",
   "metadata": {},
   "outputs": [
    {
     "data": {
      "text/html": [
       "<div>\n",
       "<style scoped>\n",
       "    .dataframe tbody tr th:only-of-type {\n",
       "        vertical-align: middle;\n",
       "    }\n",
       "\n",
       "    .dataframe tbody tr th {\n",
       "        vertical-align: top;\n",
       "    }\n",
       "\n",
       "    .dataframe thead th {\n",
       "        text-align: right;\n",
       "    }\n",
       "</style>\n",
       "<table border=\"1\" class=\"dataframe\">\n",
       "  <thead>\n",
       "    <tr style=\"text-align: right;\">\n",
       "      <th></th>\n",
       "      <th>date</th>\n",
       "      <th>new_cases</th>\n",
       "      <th>new_deaths</th>\n",
       "      <th>new_tests</th>\n",
       "    </tr>\n",
       "  </thead>\n",
       "  <tbody>\n",
       "    <tr>\n",
       "      <th>148</th>\n",
       "      <td>2020-05-27</td>\n",
       "      <td>397.0</td>\n",
       "      <td>78.0</td>\n",
       "      <td>37299.0</td>\n",
       "    </tr>\n",
       "    <tr>\n",
       "      <th>187</th>\n",
       "      <td>2020-07-05</td>\n",
       "      <td>235.0</td>\n",
       "      <td>21.0</td>\n",
       "      <td>21166.0</td>\n",
       "    </tr>\n",
       "    <tr>\n",
       "      <th>101</th>\n",
       "      <td>2020-04-10</td>\n",
       "      <td>4204.0</td>\n",
       "      <td>612.0</td>\n",
       "      <td>NaN</td>\n",
       "    </tr>\n",
       "    <tr>\n",
       "      <th>171</th>\n",
       "      <td>2020-06-19</td>\n",
       "      <td>331.0</td>\n",
       "      <td>66.0</td>\n",
       "      <td>28570.0</td>\n",
       "    </tr>\n",
       "    <tr>\n",
       "      <th>92</th>\n",
       "      <td>2020-04-01</td>\n",
       "      <td>4053.0</td>\n",
       "      <td>839.0</td>\n",
       "      <td>NaN</td>\n",
       "    </tr>\n",
       "    <tr>\n",
       "      <th>27</th>\n",
       "      <td>2020-01-27</td>\n",
       "      <td>0.0</td>\n",
       "      <td>0.0</td>\n",
       "      <td>NaN</td>\n",
       "    </tr>\n",
       "    <tr>\n",
       "      <th>95</th>\n",
       "      <td>2020-04-04</td>\n",
       "      <td>4585.0</td>\n",
       "      <td>764.0</td>\n",
       "      <td>NaN</td>\n",
       "    </tr>\n",
       "    <tr>\n",
       "      <th>200</th>\n",
       "      <td>2020-07-18</td>\n",
       "      <td>231.0</td>\n",
       "      <td>11.0</td>\n",
       "      <td>27569.0</td>\n",
       "    </tr>\n",
       "    <tr>\n",
       "      <th>80</th>\n",
       "      <td>2020-03-20</td>\n",
       "      <td>5322.0</td>\n",
       "      <td>429.0</td>\n",
       "      <td>NaN</td>\n",
       "    </tr>\n",
       "    <tr>\n",
       "      <th>120</th>\n",
       "      <td>2020-04-29</td>\n",
       "      <td>2091.0</td>\n",
       "      <td>382.0</td>\n",
       "      <td>38589.0</td>\n",
       "    </tr>\n",
       "  </tbody>\n",
       "</table>\n",
       "</div>"
      ],
      "text/plain": [
       "           date  new_cases  new_deaths  new_tests\n",
       "148  2020-05-27      397.0        78.0    37299.0\n",
       "187  2020-07-05      235.0        21.0    21166.0\n",
       "101  2020-04-10     4204.0       612.0        NaN\n",
       "171  2020-06-19      331.0        66.0    28570.0\n",
       "92   2020-04-01     4053.0       839.0        NaN\n",
       "27   2020-01-27        0.0         0.0        NaN\n",
       "95   2020-04-04     4585.0       764.0        NaN\n",
       "200  2020-07-18      231.0        11.0    27569.0\n",
       "80   2020-03-20     5322.0       429.0        NaN\n",
       "120  2020-04-29     2091.0       382.0    38589.0"
      ]
     },
     "execution_count": 20,
     "metadata": {},
     "output_type": "execute_result"
    }
   ],
   "source": [
    "covid_df.sample(10)"
   ]
  },
  {
   "cell_type": "markdown",
   "id": "2de09f27-ada2-4668-9510-a815e3bf872d",
   "metadata": {},
   "source": [
    "# Analyzing Data from the data frames"
   ]
  },
  {
   "cell_type": "markdown",
   "id": "e5990569-46fa-4975-a9b8-71c2eae3ad14",
   "metadata": {},
   "source": [
    "#### Q1: What is the total number of reported cases and deaths to covi-19 in Italy?\n",
    "-> *Similar to NumPy arrays, a Pandas series supports* **sum** *method to answer these question*"
   ]
  },
  {
   "cell_type": "code",
   "execution_count": 21,
   "id": "7bc9b5a0-e73d-481e-85c5-ab178e598a4c",
   "metadata": {},
   "outputs": [],
   "source": [
    "total_cases = covid_df.new_cases.sum()\n",
    "total_deaths = covid_df.new_deaths.sum()"
   ]
  },
  {
   "cell_type": "code",
   "execution_count": 22,
   "id": "f1e63d49-deac-4580-9cde-1fff314fc282",
   "metadata": {
    "jupyter": {
     "source_hidden": true
    }
   },
   "outputs": [
    {
     "name": "stdout",
     "output_type": "stream",
     "text": [
      "The total number of new cases in Italy during covid-19 is: 271515 \n",
      "The total number of deaths in Italy during covid-19 is: 35497\n"
     ]
    }
   ],
   "source": [
    "print(f\"The total number of new cases in Italy during covid-19 is: {int(total_cases)} \\nThe total number of deaths in Italy during covid-19 is: {int(total_deaths)}\")"
   ]
  },
  {
   "cell_type": "markdown",
   "id": "6eaae4ed-83c9-4487-ad6c-5b7478d463bd",
   "metadata": {},
   "source": [
    "#### Q2: What is the overal death rate in Italy during covid-19?"
   ]
  },
  {
   "cell_type": "code",
   "execution_count": 23,
   "id": "bd24f551-c2c8-4a01-b3d9-85648a89415e",
   "metadata": {},
   "outputs": [],
   "source": [
    "death_rate = total_deaths / total_cases"
   ]
  },
  {
   "cell_type": "code",
   "execution_count": 24,
   "id": "edaf537b-8109-42f1-bb68-28e3acd74791",
   "metadata": {},
   "outputs": [
    {
     "name": "stdout",
     "output_type": "stream",
     "text": [
      "The overal death rate in Italy during the covid-19 is: 0.1307%\n"
     ]
    }
   ],
   "source": [
    "print(f\"The overal death rate in Italy during the covid-19 is: {death_rate:.4f}%\")"
   ]
  },
  {
   "cell_type": "markdown",
   "id": "87ad477c-b07b-4fea-b792-22aa8a9644d8",
   "metadata": {},
   "source": [
    "#### Q3: What is the overal number of tests conducted if a total of 935310 tests were conducted before the daily tests were being reported?"
   ]
  },
  {
   "cell_type": "code",
   "execution_count": 25,
   "id": "caa44288-72cd-4050-baef-15ae3df1b14f",
   "metadata": {},
   "outputs": [],
   "source": [
    "total_tests = 935310 + covid_df.new_tests.sum()"
   ]
  },
  {
   "cell_type": "code",
   "execution_count": 26,
   "id": "caa0b301-e59c-4306-b04b-f1c7fd83c3c7",
   "metadata": {},
   "outputs": [
    {
     "name": "stdout",
     "output_type": "stream",
     "text": [
      "The total number of test which were conducted in Italy during the covid-19 is: 5214766\n"
     ]
    }
   ],
   "source": [
    "print(f\"The total number of test which were conducted in Italy during the covid-19 is: {int(total_tests)}\")"
   ]
  },
  {
   "cell_type": "markdown",
   "id": "8a78beb7-deed-413f-8232-fd0618759d6c",
   "metadata": {},
   "source": [
    "#### Q4: What fraction of the test was returned a positive result?"
   ]
  },
  {
   "cell_type": "code",
   "execution_count": 27,
   "id": "4a6f8c05-02a8-43f7-abdf-7ed96b0e97fb",
   "metadata": {},
   "outputs": [],
   "source": [
    "positive_tests = total_cases / covid_df.new_tests.sum()"
   ]
  },
  {
   "cell_type": "code",
   "execution_count": 28,
   "id": "1116395e-3fce-49f4-b37c-2201bd3feba2",
   "metadata": {},
   "outputs": [
    {
     "name": "stdout",
     "output_type": "stream",
     "text": [
      "The total number of tests which turned out to be positive are: 0.0634%\n"
     ]
    }
   ],
   "source": [
    "print(f\"The total number of tests which turned out to be positive are: {positive_tests:.4f}%\")"
   ]
  },
  {
   "cell_type": "markdown",
   "id": "e21223b5-9655-4c8f-9062-fa2cb42f6e73",
   "metadata": {},
   "source": [
    "#### Q5: Print all the rows of data that have 1,000 or more cases."
   ]
  },
  {
   "cell_type": "code",
   "execution_count": 29,
   "id": "497d6091-a96a-44be-a102-e3cc0d63f3da",
   "metadata": {},
   "outputs": [],
   "source": [
    "high_new_cases = covid_df.new_cases >= 1000"
   ]
  },
  {
   "cell_type": "code",
   "execution_count": 30,
   "id": "1a6111dc-32aa-4ea3-af3f-2159b4cfed6e",
   "metadata": {},
   "outputs": [
    {
     "data": {
      "text/plain": [
       "0      False\n",
       "1      False\n",
       "2      False\n",
       "3      False\n",
       "4      False\n",
       "       ...  \n",
       "243     True\n",
       "244     True\n",
       "245    False\n",
       "246    False\n",
       "247     True\n",
       "Name: new_cases, Length: 248, dtype: bool"
      ]
     },
     "execution_count": 30,
     "metadata": {},
     "output_type": "execute_result"
    }
   ],
   "source": [
    "high_new_cases"
   ]
  },
  {
   "cell_type": "code",
   "execution_count": 31,
   "id": "63d4cd3f-5198-4c91-9478-e17a2768afd9",
   "metadata": {},
   "outputs": [],
   "source": [
    "high_cases = covid_df[high_new_cases]"
   ]
  },
  {
   "cell_type": "code",
   "execution_count": 32,
   "id": "de1640fb-3163-4d12-bdba-ad0a150f80e1",
   "metadata": {},
   "outputs": [
    {
     "name": "stdout",
     "output_type": "stream",
     "text": [
      "The rows of data which had 1000 or more new cases in a day are: \n",
      "           date  new_cases  new_deaths  new_tests\n",
      "68   2020-03-08     1247.0        36.0        NaN\n",
      "69   2020-03-09     1492.0       133.0        NaN\n",
      "70   2020-03-10     1797.0        98.0        NaN\n",
      "72   2020-03-12     2313.0       196.0        NaN\n",
      "73   2020-03-13     2651.0       189.0        NaN\n",
      "..          ...        ...         ...        ...\n",
      "241  2020-08-28     1409.0         5.0    65135.0\n",
      "242  2020-08-29     1460.0         9.0    64294.0\n",
      "243  2020-08-30     1444.0         1.0    53541.0\n",
      "244  2020-08-31     1365.0         4.0    42583.0\n",
      "247  2020-09-03     1326.0         6.0        NaN\n",
      "\n",
      "[72 rows x 4 columns]\n"
     ]
    }
   ],
   "source": [
    "print(f\"The rows of data which had 1000 or more new cases in a day are: \\n{high_cases}\")"
   ]
  },
  {
   "cell_type": "markdown",
   "id": "f36cab4d-cc25-482a-b3af-975a11e8cd88",
   "metadata": {},
   "source": [
    "Well we colud also reduce them into one single line\n",
    "\n",
    "Like:"
   ]
  },
  {
   "cell_type": "code",
   "execution_count": 33,
   "id": "84e6aacf-fc7f-424e-96b4-1382a7b800ca",
   "metadata": {},
   "outputs": [
    {
     "name": "stdout",
     "output_type": "stream",
     "text": [
      "The rows of data which had 1000 or more cases in a day are:\n",
      "           date  new_cases  new_deaths  new_tests\n",
      "68   2020-03-08     1247.0        36.0        NaN\n",
      "69   2020-03-09     1492.0       133.0        NaN\n",
      "70   2020-03-10     1797.0        98.0        NaN\n",
      "72   2020-03-12     2313.0       196.0        NaN\n",
      "73   2020-03-13     2651.0       189.0        NaN\n",
      "..          ...        ...         ...        ...\n",
      "241  2020-08-28     1409.0         5.0    65135.0\n",
      "242  2020-08-29     1460.0         9.0    64294.0\n",
      "243  2020-08-30     1444.0         1.0    53541.0\n",
      "244  2020-08-31     1365.0         4.0    42583.0\n",
      "247  2020-09-03     1326.0         6.0        NaN\n",
      "\n",
      "[72 rows x 4 columns]\n"
     ]
    }
   ],
   "source": [
    "print(f\"The rows of data which had 1000 or more cases in a day are:\\n{covid_df[covid_df.new_cases >= 1000]}\")"
   ]
  },
  {
   "cell_type": "markdown",
   "id": "004f3c2a-cf20-4bd7-80b2-28b54a4ae5ba",
   "metadata": {},
   "source": [
    "The data frame contains 72 rows but only first 5 and the last 5 rows of data are being displayed by deafult\n",
    "jupyter, for brevity. So if you wish to go through all the rows, then we can modify some display options."
   ]
  },
  {
   "cell_type": "code",
   "execution_count": 34,
   "id": "e94d297f-2fe7-466d-affa-b87e0b7e35f0",
   "metadata": {},
   "outputs": [],
   "source": [
    "#from IPython.display import display\n",
    "#with pd.option_context('display.max_rows',100):   # The 100 here limits the DataFrame display to 100 rows within this block\n",
    "#    display(covid_df[covid_df.new_cases >= 1000])"
   ]
  },
  {
   "cell_type": "markdown",
   "id": "04b88406-a1e6-4689-bf3c-377e35478ba8",
   "metadata": {},
   "source": [
    "## How this works:\n",
    "\n",
    "**1. from IPython.display import diaplay**'\n",
    "\n",
    "*This imports the display() function, which is used in Jupyter Notebooks \n",
    "(and IPython environments) to nicely format and show objects like DataFrames, HTML, etc.*\n",
    "\n",
    "**2. with pd.option_context('display.max_rows', 100):**\n",
    "\n",
    "*That means:\n",
    "Inside this with block, Pandas will show up to 100 rows when displaying a DataFrame.\n",
    "Once the block is done, Pandas will return to its previous setting.*\n",
    "\n",
    "**3. covid_df[covid_df.new_cases >= 1000]**\n",
    "\n",
    "*This is a boolean filter on the DataFrame covid_df. It selects only the rows where the \n",
    "new_cases column has values greater than or equal to 1000.*\n",
    "*Which will return a subset of the original DataFrame that matches this condition.*"
   ]
  },
  {
   "cell_type": "markdown",
   "id": "f691a75e-10a1-4256-806c-e766c0ea78e6",
   "metadata": {},
   "source": [
    "#### Q6: Determine the days when the ratio of cases reported to test conducted is higher that the overal **positive_rate**"
   ]
  },
  {
   "cell_type": "code",
   "execution_count": 35,
   "id": "ca0a393f-8119-4b74-8a05-fb6d27a90fe5",
   "metadata": {},
   "outputs": [
    {
     "data": {
      "text/plain": [
       "np.float64(0.06344614829548428)"
      ]
     },
     "execution_count": 35,
     "metadata": {},
     "output_type": "execute_result"
    }
   ],
   "source": [
    "positive_tests"
   ]
  },
  {
   "cell_type": "code",
   "execution_count": 36,
   "id": "b8c5f095-9b97-4564-a26c-c5233239a6ee",
   "metadata": {},
   "outputs": [],
   "source": [
    "ratio_df = covid_df[(covid_df.new_cases / covid_df.new_tests) > positive_tests]"
   ]
  },
  {
   "cell_type": "code",
   "execution_count": 37,
   "id": "42013211-9817-496a-b191-31d443f4f30c",
   "metadata": {},
   "outputs": [
    {
     "name": "stdout",
     "output_type": "stream",
     "text": [
      "The days when the ratio of cases reported to test conducted is higher than the overal Positive rate is: \n",
      "           date  new_cases  new_deaths  new_tests\n",
      "111  2020-04-20     3047.0       433.0     7841.0\n",
      "112  2020-04-21     2256.0       454.0    28095.0\n",
      "114  2020-04-23     3370.0       437.0    37083.0\n",
      "116  2020-04-25     3021.0       420.0    38676.0\n",
      "117  2020-04-26     2357.0       415.0    24113.0\n",
      "118  2020-04-27     2324.0       260.0    26678.0\n",
      "124  2020-05-03     1900.0       474.0    27047.0\n",
      "128  2020-05-07     1444.0       369.0    13665.0\n"
     ]
    }
   ],
   "source": [
    "print(f\"The days when the ratio of cases reported to test conducted is higher than the overal Positive rate is: \\n{ratio_df}\")"
   ]
  },
  {
   "cell_type": "code",
   "execution_count": 38,
   "id": "cd5bdd73-f1b1-4ca8-b756-5c23b21cc971",
   "metadata": {},
   "outputs": [
    {
     "data": {
      "text/plain": [
       "0           NaN\n",
       "1           NaN\n",
       "2           NaN\n",
       "3           NaN\n",
       "4           NaN\n",
       "         ...   \n",
       "243    0.026970\n",
       "244    0.032055\n",
       "245    0.018311\n",
       "246         NaN\n",
       "247         NaN\n",
       "Length: 248, dtype: float64"
      ]
     },
     "execution_count": 38,
     "metadata": {},
     "output_type": "execute_result"
    }
   ],
   "source": [
    "covid_df.new_cases / covid_df.new_tests"
   ]
  },
  {
   "cell_type": "markdown",
   "id": "ef962ef9-016d-46d6-a425-24c2c3cad3d7",
   "metadata": {},
   "source": [
    "Well we could also use this series to add a new column to the data frame"
   ]
  },
  {
   "cell_type": "code",
   "execution_count": 39,
   "id": "bf8f1cd4-e55f-4492-8643-4ecca36257d0",
   "metadata": {},
   "outputs": [],
   "source": [
    "covid_df['positive_rate'] = covid_df.new_cases / covid_df.new_tests"
   ]
  },
  {
   "cell_type": "code",
   "execution_count": 40,
   "id": "02729fbd-9a78-4850-86ce-594759ebea40",
   "metadata": {},
   "outputs": [
    {
     "data": {
      "text/html": [
       "<div>\n",
       "<style scoped>\n",
       "    .dataframe tbody tr th:only-of-type {\n",
       "        vertical-align: middle;\n",
       "    }\n",
       "\n",
       "    .dataframe tbody tr th {\n",
       "        vertical-align: top;\n",
       "    }\n",
       "\n",
       "    .dataframe thead th {\n",
       "        text-align: right;\n",
       "    }\n",
       "</style>\n",
       "<table border=\"1\" class=\"dataframe\">\n",
       "  <thead>\n",
       "    <tr style=\"text-align: right;\">\n",
       "      <th></th>\n",
       "      <th>date</th>\n",
       "      <th>new_cases</th>\n",
       "      <th>new_deaths</th>\n",
       "      <th>new_tests</th>\n",
       "      <th>positive_rate</th>\n",
       "    </tr>\n",
       "  </thead>\n",
       "  <tbody>\n",
       "    <tr>\n",
       "      <th>0</th>\n",
       "      <td>2019-12-31</td>\n",
       "      <td>0.0</td>\n",
       "      <td>0.0</td>\n",
       "      <td>NaN</td>\n",
       "      <td>NaN</td>\n",
       "    </tr>\n",
       "    <tr>\n",
       "      <th>1</th>\n",
       "      <td>2020-01-01</td>\n",
       "      <td>0.0</td>\n",
       "      <td>0.0</td>\n",
       "      <td>NaN</td>\n",
       "      <td>NaN</td>\n",
       "    </tr>\n",
       "    <tr>\n",
       "      <th>2</th>\n",
       "      <td>2020-01-02</td>\n",
       "      <td>0.0</td>\n",
       "      <td>0.0</td>\n",
       "      <td>NaN</td>\n",
       "      <td>NaN</td>\n",
       "    </tr>\n",
       "    <tr>\n",
       "      <th>3</th>\n",
       "      <td>2020-01-03</td>\n",
       "      <td>0.0</td>\n",
       "      <td>0.0</td>\n",
       "      <td>NaN</td>\n",
       "      <td>NaN</td>\n",
       "    </tr>\n",
       "    <tr>\n",
       "      <th>4</th>\n",
       "      <td>2020-01-04</td>\n",
       "      <td>0.0</td>\n",
       "      <td>0.0</td>\n",
       "      <td>NaN</td>\n",
       "      <td>NaN</td>\n",
       "    </tr>\n",
       "    <tr>\n",
       "      <th>...</th>\n",
       "      <td>...</td>\n",
       "      <td>...</td>\n",
       "      <td>...</td>\n",
       "      <td>...</td>\n",
       "      <td>...</td>\n",
       "    </tr>\n",
       "    <tr>\n",
       "      <th>243</th>\n",
       "      <td>2020-08-30</td>\n",
       "      <td>1444.0</td>\n",
       "      <td>1.0</td>\n",
       "      <td>53541.0</td>\n",
       "      <td>0.026970</td>\n",
       "    </tr>\n",
       "    <tr>\n",
       "      <th>244</th>\n",
       "      <td>2020-08-31</td>\n",
       "      <td>1365.0</td>\n",
       "      <td>4.0</td>\n",
       "      <td>42583.0</td>\n",
       "      <td>0.032055</td>\n",
       "    </tr>\n",
       "    <tr>\n",
       "      <th>245</th>\n",
       "      <td>2020-09-01</td>\n",
       "      <td>996.0</td>\n",
       "      <td>6.0</td>\n",
       "      <td>54395.0</td>\n",
       "      <td>0.018311</td>\n",
       "    </tr>\n",
       "    <tr>\n",
       "      <th>246</th>\n",
       "      <td>2020-09-02</td>\n",
       "      <td>975.0</td>\n",
       "      <td>8.0</td>\n",
       "      <td>NaN</td>\n",
       "      <td>NaN</td>\n",
       "    </tr>\n",
       "    <tr>\n",
       "      <th>247</th>\n",
       "      <td>2020-09-03</td>\n",
       "      <td>1326.0</td>\n",
       "      <td>6.0</td>\n",
       "      <td>NaN</td>\n",
       "      <td>NaN</td>\n",
       "    </tr>\n",
       "  </tbody>\n",
       "</table>\n",
       "<p>248 rows × 5 columns</p>\n",
       "</div>"
      ],
      "text/plain": [
       "           date  new_cases  new_deaths  new_tests  positive_rate\n",
       "0    2019-12-31        0.0         0.0        NaN            NaN\n",
       "1    2020-01-01        0.0         0.0        NaN            NaN\n",
       "2    2020-01-02        0.0         0.0        NaN            NaN\n",
       "3    2020-01-03        0.0         0.0        NaN            NaN\n",
       "4    2020-01-04        0.0         0.0        NaN            NaN\n",
       "..          ...        ...         ...        ...            ...\n",
       "243  2020-08-30     1444.0         1.0    53541.0       0.026970\n",
       "244  2020-08-31     1365.0         4.0    42583.0       0.032055\n",
       "245  2020-09-01      996.0         6.0    54395.0       0.018311\n",
       "246  2020-09-02      975.0         8.0        NaN            NaN\n",
       "247  2020-09-03     1326.0         6.0        NaN            NaN\n",
       "\n",
       "[248 rows x 5 columns]"
      ]
     },
     "execution_count": 40,
     "metadata": {},
     "output_type": "execute_result"
    }
   ],
   "source": [
    "covid_df"
   ]
  },
  {
   "cell_type": "markdown",
   "id": "1f71cd3a-dc61-430b-86fe-ef88ff646b95",
   "metadata": {},
   "source": [
    "## Points to be noted:\n",
    "\n",
    "Sometimes it takes a few days to get the results of a test, so we can't really compare the number of new cases with the number of tests conducted on the same day. Any inference based on ***this positive_rate is most likely to be incorrect***. It's important to watch out for subtle relationships like these, which are often not conveyed within the CSV file and require some external context. It's always a good idea to read through the documentation provided with the dataset and ask for more information."
   ]
  },
  {
   "cell_type": "markdown",
   "id": "e1391079-c31c-4e5b-ac7b-2e8536988b6b",
   "metadata": {},
   "source": [
    "So in order to remove the **positive_rate** column we will use the ***drop*** method."
   ]
  },
  {
   "cell_type": "code",
   "execution_count": 41,
   "id": "3ee646e5-8d4c-4c5f-9b9b-2afca9f469cf",
   "metadata": {},
   "outputs": [],
   "source": [
    "covid_df.drop(columns = ['positive_rate'], inplace = True)"
   ]
  },
  {
   "cell_type": "code",
   "execution_count": 42,
   "id": "aca7f375-dd0b-4d53-b388-924afa93c5f1",
   "metadata": {},
   "outputs": [
    {
     "data": {
      "text/html": [
       "<div>\n",
       "<style scoped>\n",
       "    .dataframe tbody tr th:only-of-type {\n",
       "        vertical-align: middle;\n",
       "    }\n",
       "\n",
       "    .dataframe tbody tr th {\n",
       "        vertical-align: top;\n",
       "    }\n",
       "\n",
       "    .dataframe thead th {\n",
       "        text-align: right;\n",
       "    }\n",
       "</style>\n",
       "<table border=\"1\" class=\"dataframe\">\n",
       "  <thead>\n",
       "    <tr style=\"text-align: right;\">\n",
       "      <th></th>\n",
       "      <th>date</th>\n",
       "      <th>new_cases</th>\n",
       "      <th>new_deaths</th>\n",
       "      <th>new_tests</th>\n",
       "    </tr>\n",
       "  </thead>\n",
       "  <tbody>\n",
       "    <tr>\n",
       "      <th>0</th>\n",
       "      <td>2019-12-31</td>\n",
       "      <td>0.0</td>\n",
       "      <td>0.0</td>\n",
       "      <td>NaN</td>\n",
       "    </tr>\n",
       "    <tr>\n",
       "      <th>1</th>\n",
       "      <td>2020-01-01</td>\n",
       "      <td>0.0</td>\n",
       "      <td>0.0</td>\n",
       "      <td>NaN</td>\n",
       "    </tr>\n",
       "    <tr>\n",
       "      <th>2</th>\n",
       "      <td>2020-01-02</td>\n",
       "      <td>0.0</td>\n",
       "      <td>0.0</td>\n",
       "      <td>NaN</td>\n",
       "    </tr>\n",
       "    <tr>\n",
       "      <th>3</th>\n",
       "      <td>2020-01-03</td>\n",
       "      <td>0.0</td>\n",
       "      <td>0.0</td>\n",
       "      <td>NaN</td>\n",
       "    </tr>\n",
       "    <tr>\n",
       "      <th>4</th>\n",
       "      <td>2020-01-04</td>\n",
       "      <td>0.0</td>\n",
       "      <td>0.0</td>\n",
       "      <td>NaN</td>\n",
       "    </tr>\n",
       "    <tr>\n",
       "      <th>...</th>\n",
       "      <td>...</td>\n",
       "      <td>...</td>\n",
       "      <td>...</td>\n",
       "      <td>...</td>\n",
       "    </tr>\n",
       "    <tr>\n",
       "      <th>243</th>\n",
       "      <td>2020-08-30</td>\n",
       "      <td>1444.0</td>\n",
       "      <td>1.0</td>\n",
       "      <td>53541.0</td>\n",
       "    </tr>\n",
       "    <tr>\n",
       "      <th>244</th>\n",
       "      <td>2020-08-31</td>\n",
       "      <td>1365.0</td>\n",
       "      <td>4.0</td>\n",
       "      <td>42583.0</td>\n",
       "    </tr>\n",
       "    <tr>\n",
       "      <th>245</th>\n",
       "      <td>2020-09-01</td>\n",
       "      <td>996.0</td>\n",
       "      <td>6.0</td>\n",
       "      <td>54395.0</td>\n",
       "    </tr>\n",
       "    <tr>\n",
       "      <th>246</th>\n",
       "      <td>2020-09-02</td>\n",
       "      <td>975.0</td>\n",
       "      <td>8.0</td>\n",
       "      <td>NaN</td>\n",
       "    </tr>\n",
       "    <tr>\n",
       "      <th>247</th>\n",
       "      <td>2020-09-03</td>\n",
       "      <td>1326.0</td>\n",
       "      <td>6.0</td>\n",
       "      <td>NaN</td>\n",
       "    </tr>\n",
       "  </tbody>\n",
       "</table>\n",
       "<p>248 rows × 4 columns</p>\n",
       "</div>"
      ],
      "text/plain": [
       "           date  new_cases  new_deaths  new_tests\n",
       "0    2019-12-31        0.0         0.0        NaN\n",
       "1    2020-01-01        0.0         0.0        NaN\n",
       "2    2020-01-02        0.0         0.0        NaN\n",
       "3    2020-01-03        0.0         0.0        NaN\n",
       "4    2020-01-04        0.0         0.0        NaN\n",
       "..          ...        ...         ...        ...\n",
       "243  2020-08-30     1444.0         1.0    53541.0\n",
       "244  2020-08-31     1365.0         4.0    42583.0\n",
       "245  2020-09-01      996.0         6.0    54395.0\n",
       "246  2020-09-02      975.0         8.0        NaN\n",
       "247  2020-09-03     1326.0         6.0        NaN\n",
       "\n",
       "[248 rows x 4 columns]"
      ]
     },
     "execution_count": 42,
     "metadata": {},
     "output_type": "execute_result"
    }
   ],
   "source": [
    "covid_df"
   ]
  },
  {
   "cell_type": "markdown",
   "id": "0a6955dc-dc26-4e17-98b5-a7b91beabc2b",
   "metadata": {},
   "source": [
    "## Purpose of inplace=True:\n",
    "\n",
    "The inplace=True argument tells Pandas to modify the DataFrame directly rather than returning a new modified copy.\n",
    "\n",
    "#### If we don't use inplace:\n",
    "\n",
    "***covid_df = covid_df.drop(columns=['positive_rate'])***\n",
    "\n",
    "* The method returns a new DataFrame without the **'positive_rate'** column.\n",
    "\n",
    "* You must assign the result back to covid_df to save the change.\n",
    "\n",
    "#### When we use inplace:\n",
    "\n",
    "***covid_df.drop(columns=['positive_rate'], inplace=True)***\n",
    "\n",
    "* The original covid_df is changed in-place, and the **'positive_rate'** column is removed directly.\n",
    "\n",
    "* It returns None, so no reassignment is needed."
   ]
  },
  {
   "cell_type": "markdown",
   "id": "38b78c40-c218-46db-b15c-d8da8a90b10a",
   "metadata": {},
   "source": [
    "### Sorting rows with the column values\n",
    "\n",
    "The roows can also be sorted by a specific column using ***.sort_values***.\n",
    "\n",
    "Let's sort to identify the dayse which had the highest number of cases, then chain it up with the ***head()*** method to get the \n",
    "10 days with the most cases"
   ]
  },
  {
   "cell_type": "code",
   "execution_count": 43,
   "id": "1320cc3e-d451-4ab1-b1ce-c361ebac43c6",
   "metadata": {},
   "outputs": [
    {
     "data": {
      "text/html": [
       "<div>\n",
       "<style scoped>\n",
       "    .dataframe tbody tr th:only-of-type {\n",
       "        vertical-align: middle;\n",
       "    }\n",
       "\n",
       "    .dataframe tbody tr th {\n",
       "        vertical-align: top;\n",
       "    }\n",
       "\n",
       "    .dataframe thead th {\n",
       "        text-align: right;\n",
       "    }\n",
       "</style>\n",
       "<table border=\"1\" class=\"dataframe\">\n",
       "  <thead>\n",
       "    <tr style=\"text-align: right;\">\n",
       "      <th></th>\n",
       "      <th>date</th>\n",
       "      <th>new_cases</th>\n",
       "      <th>new_deaths</th>\n",
       "      <th>new_tests</th>\n",
       "    </tr>\n",
       "  </thead>\n",
       "  <tbody>\n",
       "    <tr>\n",
       "      <th>82</th>\n",
       "      <td>2020-03-22</td>\n",
       "      <td>6557.0</td>\n",
       "      <td>795.0</td>\n",
       "      <td>NaN</td>\n",
       "    </tr>\n",
       "    <tr>\n",
       "      <th>87</th>\n",
       "      <td>2020-03-27</td>\n",
       "      <td>6153.0</td>\n",
       "      <td>660.0</td>\n",
       "      <td>NaN</td>\n",
       "    </tr>\n",
       "    <tr>\n",
       "      <th>81</th>\n",
       "      <td>2020-03-21</td>\n",
       "      <td>5986.0</td>\n",
       "      <td>625.0</td>\n",
       "      <td>NaN</td>\n",
       "    </tr>\n",
       "    <tr>\n",
       "      <th>89</th>\n",
       "      <td>2020-03-29</td>\n",
       "      <td>5974.0</td>\n",
       "      <td>887.0</td>\n",
       "      <td>NaN</td>\n",
       "    </tr>\n",
       "    <tr>\n",
       "      <th>88</th>\n",
       "      <td>2020-03-28</td>\n",
       "      <td>5959.0</td>\n",
       "      <td>971.0</td>\n",
       "      <td>NaN</td>\n",
       "    </tr>\n",
       "    <tr>\n",
       "      <th>83</th>\n",
       "      <td>2020-03-23</td>\n",
       "      <td>5560.0</td>\n",
       "      <td>649.0</td>\n",
       "      <td>NaN</td>\n",
       "    </tr>\n",
       "    <tr>\n",
       "      <th>80</th>\n",
       "      <td>2020-03-20</td>\n",
       "      <td>5322.0</td>\n",
       "      <td>429.0</td>\n",
       "      <td>NaN</td>\n",
       "    </tr>\n",
       "    <tr>\n",
       "      <th>85</th>\n",
       "      <td>2020-03-25</td>\n",
       "      <td>5249.0</td>\n",
       "      <td>743.0</td>\n",
       "      <td>NaN</td>\n",
       "    </tr>\n",
       "    <tr>\n",
       "      <th>90</th>\n",
       "      <td>2020-03-30</td>\n",
       "      <td>5217.0</td>\n",
       "      <td>758.0</td>\n",
       "      <td>NaN</td>\n",
       "    </tr>\n",
       "    <tr>\n",
       "      <th>86</th>\n",
       "      <td>2020-03-26</td>\n",
       "      <td>5210.0</td>\n",
       "      <td>685.0</td>\n",
       "      <td>NaN</td>\n",
       "    </tr>\n",
       "  </tbody>\n",
       "</table>\n",
       "</div>"
      ],
      "text/plain": [
       "          date  new_cases  new_deaths  new_tests\n",
       "82  2020-03-22     6557.0       795.0        NaN\n",
       "87  2020-03-27     6153.0       660.0        NaN\n",
       "81  2020-03-21     5986.0       625.0        NaN\n",
       "89  2020-03-29     5974.0       887.0        NaN\n",
       "88  2020-03-28     5959.0       971.0        NaN\n",
       "83  2020-03-23     5560.0       649.0        NaN\n",
       "80  2020-03-20     5322.0       429.0        NaN\n",
       "85  2020-03-25     5249.0       743.0        NaN\n",
       "90  2020-03-30     5217.0       758.0        NaN\n",
       "86  2020-03-26     5210.0       685.0        NaN"
      ]
     },
     "execution_count": 43,
     "metadata": {},
     "output_type": "execute_result"
    }
   ],
   "source": [
    "covid_df.sort_values('new_cases', ascending = False).head(10)"
   ]
  },
  {
   "cell_type": "markdown",
   "id": "b374beaf-eb67-4027-a759-487bfc998450",
   "metadata": {},
   "source": [
    "It looks like the last week of March had the highest number of daily cases. Let's compare this with the days\n",
    "when the highest number of deaths were recorded."
   ]
  },
  {
   "cell_type": "code",
   "execution_count": 44,
   "id": "c63e6270-5f5b-43c4-a4e9-2a6ef45ee6ee",
   "metadata": {},
   "outputs": [
    {
     "data": {
      "text/html": [
       "<div>\n",
       "<style scoped>\n",
       "    .dataframe tbody tr th:only-of-type {\n",
       "        vertical-align: middle;\n",
       "    }\n",
       "\n",
       "    .dataframe tbody tr th {\n",
       "        vertical-align: top;\n",
       "    }\n",
       "\n",
       "    .dataframe thead th {\n",
       "        text-align: right;\n",
       "    }\n",
       "</style>\n",
       "<table border=\"1\" class=\"dataframe\">\n",
       "  <thead>\n",
       "    <tr style=\"text-align: right;\">\n",
       "      <th></th>\n",
       "      <th>date</th>\n",
       "      <th>new_cases</th>\n",
       "      <th>new_deaths</th>\n",
       "      <th>new_tests</th>\n",
       "    </tr>\n",
       "  </thead>\n",
       "  <tbody>\n",
       "    <tr>\n",
       "      <th>88</th>\n",
       "      <td>2020-03-28</td>\n",
       "      <td>5959.0</td>\n",
       "      <td>971.0</td>\n",
       "      <td>NaN</td>\n",
       "    </tr>\n",
       "    <tr>\n",
       "      <th>89</th>\n",
       "      <td>2020-03-29</td>\n",
       "      <td>5974.0</td>\n",
       "      <td>887.0</td>\n",
       "      <td>NaN</td>\n",
       "    </tr>\n",
       "    <tr>\n",
       "      <th>92</th>\n",
       "      <td>2020-04-01</td>\n",
       "      <td>4053.0</td>\n",
       "      <td>839.0</td>\n",
       "      <td>NaN</td>\n",
       "    </tr>\n",
       "    <tr>\n",
       "      <th>91</th>\n",
       "      <td>2020-03-31</td>\n",
       "      <td>4050.0</td>\n",
       "      <td>810.0</td>\n",
       "      <td>NaN</td>\n",
       "    </tr>\n",
       "    <tr>\n",
       "      <th>82</th>\n",
       "      <td>2020-03-22</td>\n",
       "      <td>6557.0</td>\n",
       "      <td>795.0</td>\n",
       "      <td>NaN</td>\n",
       "    </tr>\n",
       "    <tr>\n",
       "      <th>95</th>\n",
       "      <td>2020-04-04</td>\n",
       "      <td>4585.0</td>\n",
       "      <td>764.0</td>\n",
       "      <td>NaN</td>\n",
       "    </tr>\n",
       "    <tr>\n",
       "      <th>94</th>\n",
       "      <td>2020-04-03</td>\n",
       "      <td>4668.0</td>\n",
       "      <td>760.0</td>\n",
       "      <td>NaN</td>\n",
       "    </tr>\n",
       "    <tr>\n",
       "      <th>90</th>\n",
       "      <td>2020-03-30</td>\n",
       "      <td>5217.0</td>\n",
       "      <td>758.0</td>\n",
       "      <td>NaN</td>\n",
       "    </tr>\n",
       "    <tr>\n",
       "      <th>85</th>\n",
       "      <td>2020-03-25</td>\n",
       "      <td>5249.0</td>\n",
       "      <td>743.0</td>\n",
       "      <td>NaN</td>\n",
       "    </tr>\n",
       "    <tr>\n",
       "      <th>93</th>\n",
       "      <td>2020-04-02</td>\n",
       "      <td>4782.0</td>\n",
       "      <td>727.0</td>\n",
       "      <td>NaN</td>\n",
       "    </tr>\n",
       "  </tbody>\n",
       "</table>\n",
       "</div>"
      ],
      "text/plain": [
       "          date  new_cases  new_deaths  new_tests\n",
       "88  2020-03-28     5959.0       971.0        NaN\n",
       "89  2020-03-29     5974.0       887.0        NaN\n",
       "92  2020-04-01     4053.0       839.0        NaN\n",
       "91  2020-03-31     4050.0       810.0        NaN\n",
       "82  2020-03-22     6557.0       795.0        NaN\n",
       "95  2020-04-04     4585.0       764.0        NaN\n",
       "94  2020-04-03     4668.0       760.0        NaN\n",
       "90  2020-03-30     5217.0       758.0        NaN\n",
       "85  2020-03-25     5249.0       743.0        NaN\n",
       "93  2020-04-02     4782.0       727.0        NaN"
      ]
     },
     "execution_count": 44,
     "metadata": {},
     "output_type": "execute_result"
    }
   ],
   "source": [
    "covid_df.sort_values('new_deaths',ascending = False).head(10)"
   ]
  },
  {
   "cell_type": "markdown",
   "id": "1638bcbe-a753-4b45-beb0-4ac83b74fd13",
   "metadata": {},
   "source": [
    "It appears that daily deaths peaked about a week after the peak in daily new cases.\n",
    "\n",
    "Let’s also look at the days with the lowest number of cases."
   ]
  },
  {
   "cell_type": "code",
   "execution_count": 45,
   "id": "32292b5d-da6a-4629-b9f5-09f7c2098e2c",
   "metadata": {},
   "outputs": [
    {
     "data": {
      "text/html": [
       "<div>\n",
       "<style scoped>\n",
       "    .dataframe tbody tr th:only-of-type {\n",
       "        vertical-align: middle;\n",
       "    }\n",
       "\n",
       "    .dataframe tbody tr th {\n",
       "        vertical-align: top;\n",
       "    }\n",
       "\n",
       "    .dataframe thead th {\n",
       "        text-align: right;\n",
       "    }\n",
       "</style>\n",
       "<table border=\"1\" class=\"dataframe\">\n",
       "  <thead>\n",
       "    <tr style=\"text-align: right;\">\n",
       "      <th></th>\n",
       "      <th>date</th>\n",
       "      <th>new_cases</th>\n",
       "      <th>new_deaths</th>\n",
       "      <th>new_tests</th>\n",
       "    </tr>\n",
       "  </thead>\n",
       "  <tbody>\n",
       "    <tr>\n",
       "      <th>172</th>\n",
       "      <td>2020-06-20</td>\n",
       "      <td>-148.0</td>\n",
       "      <td>47.0</td>\n",
       "      <td>29875.0</td>\n",
       "    </tr>\n",
       "    <tr>\n",
       "      <th>0</th>\n",
       "      <td>2019-12-31</td>\n",
       "      <td>0.0</td>\n",
       "      <td>0.0</td>\n",
       "      <td>NaN</td>\n",
       "    </tr>\n",
       "    <tr>\n",
       "      <th>2</th>\n",
       "      <td>2020-01-02</td>\n",
       "      <td>0.0</td>\n",
       "      <td>0.0</td>\n",
       "      <td>NaN</td>\n",
       "    </tr>\n",
       "    <tr>\n",
       "      <th>1</th>\n",
       "      <td>2020-01-01</td>\n",
       "      <td>0.0</td>\n",
       "      <td>0.0</td>\n",
       "      <td>NaN</td>\n",
       "    </tr>\n",
       "    <tr>\n",
       "      <th>4</th>\n",
       "      <td>2020-01-04</td>\n",
       "      <td>0.0</td>\n",
       "      <td>0.0</td>\n",
       "      <td>NaN</td>\n",
       "    </tr>\n",
       "    <tr>\n",
       "      <th>5</th>\n",
       "      <td>2020-01-05</td>\n",
       "      <td>0.0</td>\n",
       "      <td>0.0</td>\n",
       "      <td>NaN</td>\n",
       "    </tr>\n",
       "    <tr>\n",
       "      <th>6</th>\n",
       "      <td>2020-01-06</td>\n",
       "      <td>0.0</td>\n",
       "      <td>0.0</td>\n",
       "      <td>NaN</td>\n",
       "    </tr>\n",
       "    <tr>\n",
       "      <th>3</th>\n",
       "      <td>2020-01-03</td>\n",
       "      <td>0.0</td>\n",
       "      <td>0.0</td>\n",
       "      <td>NaN</td>\n",
       "    </tr>\n",
       "    <tr>\n",
       "      <th>8</th>\n",
       "      <td>2020-01-08</td>\n",
       "      <td>0.0</td>\n",
       "      <td>0.0</td>\n",
       "      <td>NaN</td>\n",
       "    </tr>\n",
       "    <tr>\n",
       "      <th>9</th>\n",
       "      <td>2020-01-09</td>\n",
       "      <td>0.0</td>\n",
       "      <td>0.0</td>\n",
       "      <td>NaN</td>\n",
       "    </tr>\n",
       "  </tbody>\n",
       "</table>\n",
       "</div>"
      ],
      "text/plain": [
       "           date  new_cases  new_deaths  new_tests\n",
       "172  2020-06-20     -148.0        47.0    29875.0\n",
       "0    2019-12-31        0.0         0.0        NaN\n",
       "2    2020-01-02        0.0         0.0        NaN\n",
       "1    2020-01-01        0.0         0.0        NaN\n",
       "4    2020-01-04        0.0         0.0        NaN\n",
       "5    2020-01-05        0.0         0.0        NaN\n",
       "6    2020-01-06        0.0         0.0        NaN\n",
       "3    2020-01-03        0.0         0.0        NaN\n",
       "8    2020-01-08        0.0         0.0        NaN\n",
       "9    2020-01-09        0.0         0.0        NaN"
      ]
     },
     "execution_count": 45,
     "metadata": {},
     "output_type": "execute_result"
    }
   ],
   "source": [
    "covid_df.sort_values('new_cases',ascending = True).head(10)"
   ]
  },
  {
   "cell_type": "markdown",
   "id": "aaa73fbc-e03e-4f34-b720-00693c523e93",
   "metadata": {},
   "source": [
    "It looks like the count of new cases on June 20th was -148 — a negative number, which we didn’t expect to see. But that’s the nature of real-world data. It could be a data entry error, or perhaps the government issued a correction for a previous miscount."
   ]
  },
  {
   "cell_type": "markdown",
   "id": "a0cb3763-ad42-42b3-8b39-723c92775f2c",
   "metadata": {},
   "source": [
    "If this was indeed a data entry error, then we can use one of the following approaches to deal with the missing or faulty values:\n",
    "\n",
    "1. Replace it with **0**\n",
    "\n",
    "2. Replace it with the average of the entire column\n",
    "\n",
    "3. Replace it with the average of the values on the previous and the next date\n",
    "\n",
    "4. Discard the row entirely\n",
    "\n",
    "Whichever approach you choose requires some context about the data and the problem. In this case, since the data is ordered by dates, we can go with the third approach."
   ]
  },
  {
   "cell_type": "markdown",
   "id": "0e6eb70b-5668-400d-9018-fd441ed95c30",
   "metadata": {},
   "source": [
    "The **.at** method can be used to modify a specific value within the DataFrame."
   ]
  },
  {
   "cell_type": "code",
   "execution_count": 46,
   "id": "f5cad3a1-6247-470e-b025-c2eb54a61715",
   "metadata": {},
   "outputs": [
    {
     "data": {
      "text/html": [
       "<div>\n",
       "<style scoped>\n",
       "    .dataframe tbody tr th:only-of-type {\n",
       "        vertical-align: middle;\n",
       "    }\n",
       "\n",
       "    .dataframe tbody tr th {\n",
       "        vertical-align: top;\n",
       "    }\n",
       "\n",
       "    .dataframe thead th {\n",
       "        text-align: right;\n",
       "    }\n",
       "</style>\n",
       "<table border=\"1\" class=\"dataframe\">\n",
       "  <thead>\n",
       "    <tr style=\"text-align: right;\">\n",
       "      <th></th>\n",
       "      <th>date</th>\n",
       "      <th>new_cases</th>\n",
       "      <th>new_deaths</th>\n",
       "      <th>new_tests</th>\n",
       "    </tr>\n",
       "  </thead>\n",
       "  <tbody>\n",
       "    <tr>\n",
       "      <th>170</th>\n",
       "      <td>2020-06-18</td>\n",
       "      <td>328.0</td>\n",
       "      <td>43.0</td>\n",
       "      <td>32921.0</td>\n",
       "    </tr>\n",
       "    <tr>\n",
       "      <th>171</th>\n",
       "      <td>2020-06-19</td>\n",
       "      <td>331.0</td>\n",
       "      <td>66.0</td>\n",
       "      <td>28570.0</td>\n",
       "    </tr>\n",
       "    <tr>\n",
       "      <th>172</th>\n",
       "      <td>2020-06-20</td>\n",
       "      <td>-148.0</td>\n",
       "      <td>47.0</td>\n",
       "      <td>29875.0</td>\n",
       "    </tr>\n",
       "    <tr>\n",
       "      <th>173</th>\n",
       "      <td>2020-06-21</td>\n",
       "      <td>264.0</td>\n",
       "      <td>49.0</td>\n",
       "      <td>24581.0</td>\n",
       "    </tr>\n",
       "    <tr>\n",
       "      <th>174</th>\n",
       "      <td>2020-06-22</td>\n",
       "      <td>224.0</td>\n",
       "      <td>24.0</td>\n",
       "      <td>16152.0</td>\n",
       "    </tr>\n",
       "    <tr>\n",
       "      <th>175</th>\n",
       "      <td>2020-06-23</td>\n",
       "      <td>221.0</td>\n",
       "      <td>23.0</td>\n",
       "      <td>23225.0</td>\n",
       "    </tr>\n",
       "  </tbody>\n",
       "</table>\n",
       "</div>"
      ],
      "text/plain": [
       "           date  new_cases  new_deaths  new_tests\n",
       "170  2020-06-18      328.0        43.0    32921.0\n",
       "171  2020-06-19      331.0        66.0    28570.0\n",
       "172  2020-06-20     -148.0        47.0    29875.0\n",
       "173  2020-06-21      264.0        49.0    24581.0\n",
       "174  2020-06-22      224.0        24.0    16152.0\n",
       "175  2020-06-23      221.0        23.0    23225.0"
      ]
     },
     "execution_count": 46,
     "metadata": {},
     "output_type": "execute_result"
    }
   ],
   "source": [
    "covid_df.loc[170 : 175]"
   ]
  },
  {
   "cell_type": "code",
   "execution_count": 47,
   "id": "cd596d83-f67a-48c2-856e-ceeaa63ab553",
   "metadata": {},
   "outputs": [],
   "source": [
    "covid_df.at[172,'new_cases'] = (covid_df.at[171, 'new_cases'] + covid_df.at[173, 'new_cases']) * 0.5"
   ]
  },
  {
   "cell_type": "code",
   "execution_count": 48,
   "id": "ea825487-7261-4243-abed-100dd3301ffc",
   "metadata": {},
   "outputs": [
    {
     "data": {
      "text/html": [
       "<div>\n",
       "<style scoped>\n",
       "    .dataframe tbody tr th:only-of-type {\n",
       "        vertical-align: middle;\n",
       "    }\n",
       "\n",
       "    .dataframe tbody tr th {\n",
       "        vertical-align: top;\n",
       "    }\n",
       "\n",
       "    .dataframe thead th {\n",
       "        text-align: right;\n",
       "    }\n",
       "</style>\n",
       "<table border=\"1\" class=\"dataframe\">\n",
       "  <thead>\n",
       "    <tr style=\"text-align: right;\">\n",
       "      <th></th>\n",
       "      <th>date</th>\n",
       "      <th>new_cases</th>\n",
       "      <th>new_deaths</th>\n",
       "      <th>new_tests</th>\n",
       "    </tr>\n",
       "  </thead>\n",
       "  <tbody>\n",
       "    <tr>\n",
       "      <th>170</th>\n",
       "      <td>2020-06-18</td>\n",
       "      <td>328.0</td>\n",
       "      <td>43.0</td>\n",
       "      <td>32921.0</td>\n",
       "    </tr>\n",
       "    <tr>\n",
       "      <th>171</th>\n",
       "      <td>2020-06-19</td>\n",
       "      <td>331.0</td>\n",
       "      <td>66.0</td>\n",
       "      <td>28570.0</td>\n",
       "    </tr>\n",
       "    <tr>\n",
       "      <th>172</th>\n",
       "      <td>2020-06-20</td>\n",
       "      <td>297.5</td>\n",
       "      <td>47.0</td>\n",
       "      <td>29875.0</td>\n",
       "    </tr>\n",
       "    <tr>\n",
       "      <th>173</th>\n",
       "      <td>2020-06-21</td>\n",
       "      <td>264.0</td>\n",
       "      <td>49.0</td>\n",
       "      <td>24581.0</td>\n",
       "    </tr>\n",
       "    <tr>\n",
       "      <th>174</th>\n",
       "      <td>2020-06-22</td>\n",
       "      <td>224.0</td>\n",
       "      <td>24.0</td>\n",
       "      <td>16152.0</td>\n",
       "    </tr>\n",
       "    <tr>\n",
       "      <th>175</th>\n",
       "      <td>2020-06-23</td>\n",
       "      <td>221.0</td>\n",
       "      <td>23.0</td>\n",
       "      <td>23225.0</td>\n",
       "    </tr>\n",
       "  </tbody>\n",
       "</table>\n",
       "</div>"
      ],
      "text/plain": [
       "           date  new_cases  new_deaths  new_tests\n",
       "170  2020-06-18      328.0        43.0    32921.0\n",
       "171  2020-06-19      331.0        66.0    28570.0\n",
       "172  2020-06-20      297.5        47.0    29875.0\n",
       "173  2020-06-21      264.0        49.0    24581.0\n",
       "174  2020-06-22      224.0        24.0    16152.0\n",
       "175  2020-06-23      221.0        23.0    23225.0"
      ]
     },
     "execution_count": 48,
     "metadata": {},
     "output_type": "execute_result"
    }
   ],
   "source": [
    "covid_df.loc[170 : 175]"
   ]
  },
  {
   "cell_type": "markdown",
   "id": "04584b25-0a1c-42cc-946c-8325def54b44",
   "metadata": {},
   "source": [
    "## Best Practices for Managing Data Corrections and Anomalies\n",
    "The government corrects a past mistake using a negative value, and I overwrite it with a calculated mean (like the average of neighboring values), am I removing a real correction and making the data less accurate?\n",
    "\n",
    "***Yes — potentially.***\n",
    "\n",
    "If that negative value was intentional and meaningful, then replacing it blindly could distort the truth. You're losing the correction and inserting your own assumption.\n",
    "\n",
    "And so that's why we should know about the context of the data first.\n",
    "\n",
    "Here are some data aware approaches:\n",
    "1. Understand the context first-\n",
    "   * Was the negative value an error, or a correction?\n",
    "   * Did the source mention a data revision or reclassification?\n",
    "\n",
    "2. Don’t rush to clean — annotate instead:\n",
    "   * You can keep the negative value, but flag it in a new column like note = \"government correction\".\n",
    "\n",
    "3. Create two different versions:\n",
    "   * Keep one dataset original, and make a cleaned copy only for analysis that needs it.\n",
    "   * You can then test how much your imputation changes the trends.\n",
    "\n",
    "4. Be transparent:\n",
    "   * Always mention in your report or code comments: “Value modified due to government correction; original value was -148.”\n",
    "\n",
    "\n",
    "Many governments during COVID-19 revised counts retroactively:\n",
    "\n",
    "* Some days showed negative new cases due to removal of duplicates.\n",
    "* Others showed spikes from delayed reporting.\n",
    "\n",
    "Analysts would:\n",
    "\n",
    "* Keep the original data intact for auditability\n",
    "* But smooth the data when plotting trends, using rolling averages or filtered views"
   ]
  },
  {
   "cell_type": "code",
   "execution_count": 49,
   "id": "cb71085f-9e4e-437b-be69-b481353c547b",
   "metadata": {},
   "outputs": [
    {
     "data": {
      "text/plain": [
       "0      2019-12-31\n",
       "1      2020-01-01\n",
       "2      2020-01-02\n",
       "3      2020-01-03\n",
       "4      2020-01-04\n",
       "          ...    \n",
       "243    2020-08-30\n",
       "244    2020-08-31\n",
       "245    2020-09-01\n",
       "246    2020-09-02\n",
       "247    2020-09-03\n",
       "Name: date, Length: 248, dtype: object"
      ]
     },
     "execution_count": 49,
     "metadata": {},
     "output_type": "execute_result"
    }
   ],
   "source": [
    "covid_df.date"
   ]
  },
  {
   "cell_type": "markdown",
   "id": "66fbb192-8f56-44e1-a5a9-4466b32bd689",
   "metadata": {},
   "source": [
    "## Working with dates\n",
    "The data type of dates is currently an object, so Pandas doesn't recognize that this column contains dates.\n",
    "However, we can convert it into a datetime column using the ***pd.to_datetime*** method."
   ]
  },
  {
   "cell_type": "code",
   "execution_count": 50,
   "id": "14f72b4a-3ce0-433a-9bf7-7987602b6171",
   "metadata": {},
   "outputs": [],
   "source": [
    "covid_df['date'] = pd.to_datetime(covid_df.date)"
   ]
  },
  {
   "cell_type": "code",
   "execution_count": 51,
   "id": "cb166822-6297-4ed7-9956-424458bcf061",
   "metadata": {},
   "outputs": [
    {
     "data": {
      "text/plain": [
       "0     2019-12-31\n",
       "1     2020-01-01\n",
       "2     2020-01-02\n",
       "3     2020-01-03\n",
       "4     2020-01-04\n",
       "         ...    \n",
       "243   2020-08-30\n",
       "244   2020-08-31\n",
       "245   2020-09-01\n",
       "246   2020-09-02\n",
       "247   2020-09-03\n",
       "Name: date, Length: 248, dtype: datetime64[ns]"
      ]
     },
     "execution_count": 51,
     "metadata": {},
     "output_type": "execute_result"
    }
   ],
   "source": [
    "covid_df.date"
   ]
  },
  {
   "cell_type": "markdown",
   "id": "3800dc7e-cbad-4d6c-b364-dfa03660ea2d",
   "metadata": {},
   "source": [
    "Now, as you can see, the data type of **covid_df['date']** has changed from object to datetime64[ns] (where ns indicates that the \n",
    "date and time are stored as float64 values with nanosecond precision).\n",
    "We can now extract different parts of the date into separate columns using ***DatetimeIndex*** class."
   ]
  },
  {
   "cell_type": "code",
   "execution_count": 52,
   "id": "bfc80fd1-a6d0-41a3-97d2-910bc6420c95",
   "metadata": {},
   "outputs": [],
   "source": [
    "covid_df['year'] = pd.DatetimeIndex(covid_df.date).year\n",
    "covid_df['month'] = pd.DatetimeIndex(covid_df.date).month\n",
    "covid_df['day'] = pd.DatetimeIndex(covid_df.date).day\n",
    "covid_df['weekday'] = pd.DatetimeIndex(covid_df.date).weekday"
   ]
  },
  {
   "cell_type": "code",
   "execution_count": 53,
   "id": "3729e238-5e04-4bc0-abb4-952e8be248a3",
   "metadata": {},
   "outputs": [
    {
     "data": {
      "text/html": [
       "<div>\n",
       "<style scoped>\n",
       "    .dataframe tbody tr th:only-of-type {\n",
       "        vertical-align: middle;\n",
       "    }\n",
       "\n",
       "    .dataframe tbody tr th {\n",
       "        vertical-align: top;\n",
       "    }\n",
       "\n",
       "    .dataframe thead th {\n",
       "        text-align: right;\n",
       "    }\n",
       "</style>\n",
       "<table border=\"1\" class=\"dataframe\">\n",
       "  <thead>\n",
       "    <tr style=\"text-align: right;\">\n",
       "      <th></th>\n",
       "      <th>date</th>\n",
       "      <th>new_cases</th>\n",
       "      <th>new_deaths</th>\n",
       "      <th>new_tests</th>\n",
       "      <th>year</th>\n",
       "      <th>month</th>\n",
       "      <th>day</th>\n",
       "      <th>weekday</th>\n",
       "    </tr>\n",
       "  </thead>\n",
       "  <tbody>\n",
       "    <tr>\n",
       "      <th>0</th>\n",
       "      <td>2019-12-31</td>\n",
       "      <td>0.0</td>\n",
       "      <td>0.0</td>\n",
       "      <td>NaN</td>\n",
       "      <td>2019</td>\n",
       "      <td>12</td>\n",
       "      <td>31</td>\n",
       "      <td>1</td>\n",
       "    </tr>\n",
       "    <tr>\n",
       "      <th>1</th>\n",
       "      <td>2020-01-01</td>\n",
       "      <td>0.0</td>\n",
       "      <td>0.0</td>\n",
       "      <td>NaN</td>\n",
       "      <td>2020</td>\n",
       "      <td>1</td>\n",
       "      <td>1</td>\n",
       "      <td>2</td>\n",
       "    </tr>\n",
       "    <tr>\n",
       "      <th>2</th>\n",
       "      <td>2020-01-02</td>\n",
       "      <td>0.0</td>\n",
       "      <td>0.0</td>\n",
       "      <td>NaN</td>\n",
       "      <td>2020</td>\n",
       "      <td>1</td>\n",
       "      <td>2</td>\n",
       "      <td>3</td>\n",
       "    </tr>\n",
       "    <tr>\n",
       "      <th>3</th>\n",
       "      <td>2020-01-03</td>\n",
       "      <td>0.0</td>\n",
       "      <td>0.0</td>\n",
       "      <td>NaN</td>\n",
       "      <td>2020</td>\n",
       "      <td>1</td>\n",
       "      <td>3</td>\n",
       "      <td>4</td>\n",
       "    </tr>\n",
       "    <tr>\n",
       "      <th>4</th>\n",
       "      <td>2020-01-04</td>\n",
       "      <td>0.0</td>\n",
       "      <td>0.0</td>\n",
       "      <td>NaN</td>\n",
       "      <td>2020</td>\n",
       "      <td>1</td>\n",
       "      <td>4</td>\n",
       "      <td>5</td>\n",
       "    </tr>\n",
       "    <tr>\n",
       "      <th>...</th>\n",
       "      <td>...</td>\n",
       "      <td>...</td>\n",
       "      <td>...</td>\n",
       "      <td>...</td>\n",
       "      <td>...</td>\n",
       "      <td>...</td>\n",
       "      <td>...</td>\n",
       "      <td>...</td>\n",
       "    </tr>\n",
       "    <tr>\n",
       "      <th>243</th>\n",
       "      <td>2020-08-30</td>\n",
       "      <td>1444.0</td>\n",
       "      <td>1.0</td>\n",
       "      <td>53541.0</td>\n",
       "      <td>2020</td>\n",
       "      <td>8</td>\n",
       "      <td>30</td>\n",
       "      <td>6</td>\n",
       "    </tr>\n",
       "    <tr>\n",
       "      <th>244</th>\n",
       "      <td>2020-08-31</td>\n",
       "      <td>1365.0</td>\n",
       "      <td>4.0</td>\n",
       "      <td>42583.0</td>\n",
       "      <td>2020</td>\n",
       "      <td>8</td>\n",
       "      <td>31</td>\n",
       "      <td>0</td>\n",
       "    </tr>\n",
       "    <tr>\n",
       "      <th>245</th>\n",
       "      <td>2020-09-01</td>\n",
       "      <td>996.0</td>\n",
       "      <td>6.0</td>\n",
       "      <td>54395.0</td>\n",
       "      <td>2020</td>\n",
       "      <td>9</td>\n",
       "      <td>1</td>\n",
       "      <td>1</td>\n",
       "    </tr>\n",
       "    <tr>\n",
       "      <th>246</th>\n",
       "      <td>2020-09-02</td>\n",
       "      <td>975.0</td>\n",
       "      <td>8.0</td>\n",
       "      <td>NaN</td>\n",
       "      <td>2020</td>\n",
       "      <td>9</td>\n",
       "      <td>2</td>\n",
       "      <td>2</td>\n",
       "    </tr>\n",
       "    <tr>\n",
       "      <th>247</th>\n",
       "      <td>2020-09-03</td>\n",
       "      <td>1326.0</td>\n",
       "      <td>6.0</td>\n",
       "      <td>NaN</td>\n",
       "      <td>2020</td>\n",
       "      <td>9</td>\n",
       "      <td>3</td>\n",
       "      <td>3</td>\n",
       "    </tr>\n",
       "  </tbody>\n",
       "</table>\n",
       "<p>248 rows × 8 columns</p>\n",
       "</div>"
      ],
      "text/plain": [
       "          date  new_cases  new_deaths  new_tests  year  month  day  weekday\n",
       "0   2019-12-31        0.0         0.0        NaN  2019     12   31        1\n",
       "1   2020-01-01        0.0         0.0        NaN  2020      1    1        2\n",
       "2   2020-01-02        0.0         0.0        NaN  2020      1    2        3\n",
       "3   2020-01-03        0.0         0.0        NaN  2020      1    3        4\n",
       "4   2020-01-04        0.0         0.0        NaN  2020      1    4        5\n",
       "..         ...        ...         ...        ...   ...    ...  ...      ...\n",
       "243 2020-08-30     1444.0         1.0    53541.0  2020      8   30        6\n",
       "244 2020-08-31     1365.0         4.0    42583.0  2020      8   31        0\n",
       "245 2020-09-01      996.0         6.0    54395.0  2020      9    1        1\n",
       "246 2020-09-02      975.0         8.0        NaN  2020      9    2        2\n",
       "247 2020-09-03     1326.0         6.0        NaN  2020      9    3        3\n",
       "\n",
       "[248 rows x 8 columns]"
      ]
     },
     "execution_count": 53,
     "metadata": {},
     "output_type": "execute_result"
    }
   ],
   "source": [
    "covid_df"
   ]
  },
  {
   "cell_type": "markdown",
   "id": "8c764b02-ad54-4b19-903d-d63052e86d00",
   "metadata": {},
   "source": [
    "If in case you are wondering about the 0 1 2 3 4 5 6 and so on the weekday column it's all because \n",
    "the numbers in the weekday column represent the day of the week, and they are based on\n",
    "Python convention where:\n",
    "* 0 = Monday\n",
    "* 1 = Tuesday\n",
    "* 2 = Wednusday\n",
    "* 3 = Thrusday\n",
    "* 4 = Friday\n",
    "* 5 = Saturday\n",
    "* 6 = Sunday\n",
    "\n",
    "So in the data:\n",
    "\n",
    "**2019-12-31 → weekday = 1 → Tuesday  \n",
    "2020-01-01 → weekday = 2 → Wednesday  \n",
    "2020-01-02 → weekday = 3 → Thursday  \n",
    "2020-01-03 → weekday = 4 → Friday  \n",
    "2020-01-04 → weekday = 5 → Saturday**\n",
    "\n",
    "If you wish to add the weekday names (like \"Tuesday\", \"Wednesday\"), you can create a new column like this:\n",
    "\n",
    "First drop the existing coulmn with the numerical weekday:\n",
    "\n",
    "***covid_df.drop(columns = ['weekday'], inplace = True)***\n",
    "\n",
    "Then add the new weekday which contains the week_name\n",
    "\n",
    "***covid_df['weekday_name'] = covid_df['date'].dt.day_name()***\n",
    "\n",
    "The same could be done for the months as well. \n",
    "To get the month names (like January, February, etc.) from a datetime column in Pandas,\n",
    "you can use the ***.dt.month_name()*** method — just like you did with weekday names.\n",
    "\n",
    "***covid_df['month_name'] = covid_df['date'].dt.month_name()***"
   ]
  },
  {
   "cell_type": "code",
   "execution_count": 54,
   "id": "47c42093-5d88-4af3-9a1c-907c569ec5ef",
   "metadata": {},
   "outputs": [],
   "source": [
    "covid_df.drop(columns = ['weekday'], inplace = True)"
   ]
  },
  {
   "cell_type": "code",
   "execution_count": 55,
   "id": "00713d78-cef2-4911-9882-ae01ce2d7dcb",
   "metadata": {},
   "outputs": [],
   "source": [
    "covid_df.drop(columns = ['month'], inplace = True)"
   ]
  },
  {
   "cell_type": "code",
   "execution_count": 56,
   "id": "977e2013-0c15-4f39-a01a-891a2cc914d8",
   "metadata": {},
   "outputs": [
    {
     "data": {
      "text/html": [
       "<div>\n",
       "<style scoped>\n",
       "    .dataframe tbody tr th:only-of-type {\n",
       "        vertical-align: middle;\n",
       "    }\n",
       "\n",
       "    .dataframe tbody tr th {\n",
       "        vertical-align: top;\n",
       "    }\n",
       "\n",
       "    .dataframe thead th {\n",
       "        text-align: right;\n",
       "    }\n",
       "</style>\n",
       "<table border=\"1\" class=\"dataframe\">\n",
       "  <thead>\n",
       "    <tr style=\"text-align: right;\">\n",
       "      <th></th>\n",
       "      <th>date</th>\n",
       "      <th>new_cases</th>\n",
       "      <th>new_deaths</th>\n",
       "      <th>new_tests</th>\n",
       "      <th>year</th>\n",
       "      <th>day</th>\n",
       "    </tr>\n",
       "  </thead>\n",
       "  <tbody>\n",
       "    <tr>\n",
       "      <th>0</th>\n",
       "      <td>2019-12-31</td>\n",
       "      <td>0.0</td>\n",
       "      <td>0.0</td>\n",
       "      <td>NaN</td>\n",
       "      <td>2019</td>\n",
       "      <td>31</td>\n",
       "    </tr>\n",
       "    <tr>\n",
       "      <th>1</th>\n",
       "      <td>2020-01-01</td>\n",
       "      <td>0.0</td>\n",
       "      <td>0.0</td>\n",
       "      <td>NaN</td>\n",
       "      <td>2020</td>\n",
       "      <td>1</td>\n",
       "    </tr>\n",
       "    <tr>\n",
       "      <th>2</th>\n",
       "      <td>2020-01-02</td>\n",
       "      <td>0.0</td>\n",
       "      <td>0.0</td>\n",
       "      <td>NaN</td>\n",
       "      <td>2020</td>\n",
       "      <td>2</td>\n",
       "    </tr>\n",
       "    <tr>\n",
       "      <th>3</th>\n",
       "      <td>2020-01-03</td>\n",
       "      <td>0.0</td>\n",
       "      <td>0.0</td>\n",
       "      <td>NaN</td>\n",
       "      <td>2020</td>\n",
       "      <td>3</td>\n",
       "    </tr>\n",
       "    <tr>\n",
       "      <th>4</th>\n",
       "      <td>2020-01-04</td>\n",
       "      <td>0.0</td>\n",
       "      <td>0.0</td>\n",
       "      <td>NaN</td>\n",
       "      <td>2020</td>\n",
       "      <td>4</td>\n",
       "    </tr>\n",
       "    <tr>\n",
       "      <th>...</th>\n",
       "      <td>...</td>\n",
       "      <td>...</td>\n",
       "      <td>...</td>\n",
       "      <td>...</td>\n",
       "      <td>...</td>\n",
       "      <td>...</td>\n",
       "    </tr>\n",
       "    <tr>\n",
       "      <th>243</th>\n",
       "      <td>2020-08-30</td>\n",
       "      <td>1444.0</td>\n",
       "      <td>1.0</td>\n",
       "      <td>53541.0</td>\n",
       "      <td>2020</td>\n",
       "      <td>30</td>\n",
       "    </tr>\n",
       "    <tr>\n",
       "      <th>244</th>\n",
       "      <td>2020-08-31</td>\n",
       "      <td>1365.0</td>\n",
       "      <td>4.0</td>\n",
       "      <td>42583.0</td>\n",
       "      <td>2020</td>\n",
       "      <td>31</td>\n",
       "    </tr>\n",
       "    <tr>\n",
       "      <th>245</th>\n",
       "      <td>2020-09-01</td>\n",
       "      <td>996.0</td>\n",
       "      <td>6.0</td>\n",
       "      <td>54395.0</td>\n",
       "      <td>2020</td>\n",
       "      <td>1</td>\n",
       "    </tr>\n",
       "    <tr>\n",
       "      <th>246</th>\n",
       "      <td>2020-09-02</td>\n",
       "      <td>975.0</td>\n",
       "      <td>8.0</td>\n",
       "      <td>NaN</td>\n",
       "      <td>2020</td>\n",
       "      <td>2</td>\n",
       "    </tr>\n",
       "    <tr>\n",
       "      <th>247</th>\n",
       "      <td>2020-09-03</td>\n",
       "      <td>1326.0</td>\n",
       "      <td>6.0</td>\n",
       "      <td>NaN</td>\n",
       "      <td>2020</td>\n",
       "      <td>3</td>\n",
       "    </tr>\n",
       "  </tbody>\n",
       "</table>\n",
       "<p>248 rows × 6 columns</p>\n",
       "</div>"
      ],
      "text/plain": [
       "          date  new_cases  new_deaths  new_tests  year  day\n",
       "0   2019-12-31        0.0         0.0        NaN  2019   31\n",
       "1   2020-01-01        0.0         0.0        NaN  2020    1\n",
       "2   2020-01-02        0.0         0.0        NaN  2020    2\n",
       "3   2020-01-03        0.0         0.0        NaN  2020    3\n",
       "4   2020-01-04        0.0         0.0        NaN  2020    4\n",
       "..         ...        ...         ...        ...   ...  ...\n",
       "243 2020-08-30     1444.0         1.0    53541.0  2020   30\n",
       "244 2020-08-31     1365.0         4.0    42583.0  2020   31\n",
       "245 2020-09-01      996.0         6.0    54395.0  2020    1\n",
       "246 2020-09-02      975.0         8.0        NaN  2020    2\n",
       "247 2020-09-03     1326.0         6.0        NaN  2020    3\n",
       "\n",
       "[248 rows x 6 columns]"
      ]
     },
     "execution_count": 56,
     "metadata": {},
     "output_type": "execute_result"
    }
   ],
   "source": [
    "covid_df"
   ]
  },
  {
   "cell_type": "code",
   "execution_count": 57,
   "id": "7295de9f-c7d2-4d48-9b59-b9610b305b4a",
   "metadata": {},
   "outputs": [],
   "source": [
    "covid_df['weekday_name'] = covid_df['date'].dt.day_name()"
   ]
  },
  {
   "cell_type": "code",
   "execution_count": 58,
   "id": "283f7538-557e-4ad3-892f-dc01a1c4b184",
   "metadata": {},
   "outputs": [],
   "source": [
    "covid_df['month_name'] = covid_df['date'].dt.month_name()"
   ]
  },
  {
   "cell_type": "code",
   "execution_count": 59,
   "id": "8144fec7-f6ea-4409-8c40-6cde2882af76",
   "metadata": {},
   "outputs": [
    {
     "data": {
      "text/html": [
       "<div>\n",
       "<style scoped>\n",
       "    .dataframe tbody tr th:only-of-type {\n",
       "        vertical-align: middle;\n",
       "    }\n",
       "\n",
       "    .dataframe tbody tr th {\n",
       "        vertical-align: top;\n",
       "    }\n",
       "\n",
       "    .dataframe thead th {\n",
       "        text-align: right;\n",
       "    }\n",
       "</style>\n",
       "<table border=\"1\" class=\"dataframe\">\n",
       "  <thead>\n",
       "    <tr style=\"text-align: right;\">\n",
       "      <th></th>\n",
       "      <th>date</th>\n",
       "      <th>new_cases</th>\n",
       "      <th>new_deaths</th>\n",
       "      <th>new_tests</th>\n",
       "      <th>year</th>\n",
       "      <th>day</th>\n",
       "      <th>weekday_name</th>\n",
       "      <th>month_name</th>\n",
       "    </tr>\n",
       "  </thead>\n",
       "  <tbody>\n",
       "    <tr>\n",
       "      <th>0</th>\n",
       "      <td>2019-12-31</td>\n",
       "      <td>0.0</td>\n",
       "      <td>0.0</td>\n",
       "      <td>NaN</td>\n",
       "      <td>2019</td>\n",
       "      <td>31</td>\n",
       "      <td>Tuesday</td>\n",
       "      <td>December</td>\n",
       "    </tr>\n",
       "    <tr>\n",
       "      <th>1</th>\n",
       "      <td>2020-01-01</td>\n",
       "      <td>0.0</td>\n",
       "      <td>0.0</td>\n",
       "      <td>NaN</td>\n",
       "      <td>2020</td>\n",
       "      <td>1</td>\n",
       "      <td>Wednesday</td>\n",
       "      <td>January</td>\n",
       "    </tr>\n",
       "    <tr>\n",
       "      <th>2</th>\n",
       "      <td>2020-01-02</td>\n",
       "      <td>0.0</td>\n",
       "      <td>0.0</td>\n",
       "      <td>NaN</td>\n",
       "      <td>2020</td>\n",
       "      <td>2</td>\n",
       "      <td>Thursday</td>\n",
       "      <td>January</td>\n",
       "    </tr>\n",
       "    <tr>\n",
       "      <th>3</th>\n",
       "      <td>2020-01-03</td>\n",
       "      <td>0.0</td>\n",
       "      <td>0.0</td>\n",
       "      <td>NaN</td>\n",
       "      <td>2020</td>\n",
       "      <td>3</td>\n",
       "      <td>Friday</td>\n",
       "      <td>January</td>\n",
       "    </tr>\n",
       "    <tr>\n",
       "      <th>4</th>\n",
       "      <td>2020-01-04</td>\n",
       "      <td>0.0</td>\n",
       "      <td>0.0</td>\n",
       "      <td>NaN</td>\n",
       "      <td>2020</td>\n",
       "      <td>4</td>\n",
       "      <td>Saturday</td>\n",
       "      <td>January</td>\n",
       "    </tr>\n",
       "    <tr>\n",
       "      <th>...</th>\n",
       "      <td>...</td>\n",
       "      <td>...</td>\n",
       "      <td>...</td>\n",
       "      <td>...</td>\n",
       "      <td>...</td>\n",
       "      <td>...</td>\n",
       "      <td>...</td>\n",
       "      <td>...</td>\n",
       "    </tr>\n",
       "    <tr>\n",
       "      <th>243</th>\n",
       "      <td>2020-08-30</td>\n",
       "      <td>1444.0</td>\n",
       "      <td>1.0</td>\n",
       "      <td>53541.0</td>\n",
       "      <td>2020</td>\n",
       "      <td>30</td>\n",
       "      <td>Sunday</td>\n",
       "      <td>August</td>\n",
       "    </tr>\n",
       "    <tr>\n",
       "      <th>244</th>\n",
       "      <td>2020-08-31</td>\n",
       "      <td>1365.0</td>\n",
       "      <td>4.0</td>\n",
       "      <td>42583.0</td>\n",
       "      <td>2020</td>\n",
       "      <td>31</td>\n",
       "      <td>Monday</td>\n",
       "      <td>August</td>\n",
       "    </tr>\n",
       "    <tr>\n",
       "      <th>245</th>\n",
       "      <td>2020-09-01</td>\n",
       "      <td>996.0</td>\n",
       "      <td>6.0</td>\n",
       "      <td>54395.0</td>\n",
       "      <td>2020</td>\n",
       "      <td>1</td>\n",
       "      <td>Tuesday</td>\n",
       "      <td>September</td>\n",
       "    </tr>\n",
       "    <tr>\n",
       "      <th>246</th>\n",
       "      <td>2020-09-02</td>\n",
       "      <td>975.0</td>\n",
       "      <td>8.0</td>\n",
       "      <td>NaN</td>\n",
       "      <td>2020</td>\n",
       "      <td>2</td>\n",
       "      <td>Wednesday</td>\n",
       "      <td>September</td>\n",
       "    </tr>\n",
       "    <tr>\n",
       "      <th>247</th>\n",
       "      <td>2020-09-03</td>\n",
       "      <td>1326.0</td>\n",
       "      <td>6.0</td>\n",
       "      <td>NaN</td>\n",
       "      <td>2020</td>\n",
       "      <td>3</td>\n",
       "      <td>Thursday</td>\n",
       "      <td>September</td>\n",
       "    </tr>\n",
       "  </tbody>\n",
       "</table>\n",
       "<p>248 rows × 8 columns</p>\n",
       "</div>"
      ],
      "text/plain": [
       "          date  new_cases  new_deaths  new_tests  year  day weekday_name  \\\n",
       "0   2019-12-31        0.0         0.0        NaN  2019   31      Tuesday   \n",
       "1   2020-01-01        0.0         0.0        NaN  2020    1    Wednesday   \n",
       "2   2020-01-02        0.0         0.0        NaN  2020    2     Thursday   \n",
       "3   2020-01-03        0.0         0.0        NaN  2020    3       Friday   \n",
       "4   2020-01-04        0.0         0.0        NaN  2020    4     Saturday   \n",
       "..         ...        ...         ...        ...   ...  ...          ...   \n",
       "243 2020-08-30     1444.0         1.0    53541.0  2020   30       Sunday   \n",
       "244 2020-08-31     1365.0         4.0    42583.0  2020   31       Monday   \n",
       "245 2020-09-01      996.0         6.0    54395.0  2020    1      Tuesday   \n",
       "246 2020-09-02      975.0         8.0        NaN  2020    2    Wednesday   \n",
       "247 2020-09-03     1326.0         6.0        NaN  2020    3     Thursday   \n",
       "\n",
       "    month_name  \n",
       "0     December  \n",
       "1      January  \n",
       "2      January  \n",
       "3      January  \n",
       "4      January  \n",
       "..         ...  \n",
       "243     August  \n",
       "244     August  \n",
       "245  September  \n",
       "246  September  \n",
       "247  September  \n",
       "\n",
       "[248 rows x 8 columns]"
      ]
     },
     "execution_count": 59,
     "metadata": {},
     "output_type": "execute_result"
    }
   ],
   "source": [
    "covid_df"
   ]
  },
  {
   "cell_type": "markdown",
   "id": "9c068575-de2c-4abc-9cd8-88e664ab8699",
   "metadata": {},
   "source": [
    "Let's check the overal matrics for the month of May. We can query the row for May, choose a subset that we want to aggregate,\n",
    "and use the **sum** method of the Data Fame to get the sum of the values of each chosen columns."
   ]
  },
  {
   "cell_type": "code",
   "execution_count": 60,
   "id": "b4c0ecec-1838-4c83-bb6a-73418c9c257c",
   "metadata": {},
   "outputs": [],
   "source": [
    "# Query for the row for May\n",
    "covid_df_may = covid_df[covid_df['month_name'] == 'May']\n",
    "\n",
    "# Extracting the subset of the column to be aggregated\n",
    "covid_df_may_matric = covid_df_may[['new_cases', 'new_deaths', 'new_tests']]\n",
    "\n",
    "# Now getting the column-wise sum\n",
    "covid_may_total = covid_df_may_matric.sum()"
   ]
  },
  {
   "cell_type": "code",
   "execution_count": 61,
   "id": "0b8372b8-f9eb-4bb1-a2e6-b5ebb895d500",
   "metadata": {},
   "outputs": [
    {
     "data": {
      "text/plain": [
       "new_cases       29073.0\n",
       "new_deaths       5658.0\n",
       "new_tests     1078720.0\n",
       "dtype: float64"
      ]
     },
     "execution_count": 61,
     "metadata": {},
     "output_type": "execute_result"
    }
   ],
   "source": [
    "covid_may_total"
   ]
  },
  {
   "cell_type": "code",
   "execution_count": 62,
   "id": "b661770a-4758-46d0-b121-458abf4b7110",
   "metadata": {},
   "outputs": [
    {
     "data": {
      "text/plain": [
       "pandas.core.series.Series"
      ]
     },
     "execution_count": 62,
     "metadata": {},
     "output_type": "execute_result"
    }
   ],
   "source": [
    "type(covid_may_total)"
   ]
  },
  {
   "cell_type": "markdown",
   "id": "f5efbbe2-35fb-4a25-ab55-eb93001a7ec2",
   "metadata": {},
   "source": [
    "Well apperantly the above operations can be performed within a single line."
   ]
  },
  {
   "cell_type": "code",
   "execution_count": 63,
   "id": "ab6859b8-24d1-427b-a049-719e5e69380d",
   "metadata": {},
   "outputs": [],
   "source": [
    "covid_df_may_total = covid_df[covid_df['month_name'] == 'May'][['new_cases', 'new_deaths', 'new_tests']].sum()"
   ]
  },
  {
   "cell_type": "code",
   "execution_count": 64,
   "id": "e79f06ad-bd83-4ec1-abd2-3946da742be5",
   "metadata": {},
   "outputs": [
    {
     "data": {
      "text/plain": [
       "new_cases       29073.0\n",
       "new_deaths       5658.0\n",
       "new_tests     1078720.0\n",
       "dtype: float64"
      ]
     },
     "execution_count": 64,
     "metadata": {},
     "output_type": "execute_result"
    }
   ],
   "source": [
    "covid_df_may_total"
   ]
  },
  {
   "cell_type": "markdown",
   "id": "c56a1bb2-d128-4002-8c0b-c7f2a1fc9780",
   "metadata": {},
   "source": [
    "Let's check if the number of cases reported on Sunday is higher than the average number of cases reported every day.\n",
    "\n",
    "But this time we will use the **.mean()** method to aggregate"
   ]
  },
  {
   "cell_type": "code",
   "execution_count": 65,
   "id": "60c83ea1-d7e0-4573-8faf-9132fc13424b",
   "metadata": {},
   "outputs": [],
   "source": [
    "# Overal average \n",
    "covid_avg = covid_df.new_cases.mean()"
   ]
  },
  {
   "cell_type": "code",
   "execution_count": 66,
   "id": "9e665149-2839-4136-8b1d-48692d044a51",
   "metadata": {},
   "outputs": [],
   "source": [
    "covid_avg_may = covid_df[covid_df['weekday_name'] == 'Sunday'].new_cases.mean()"
   ]
  },
  {
   "cell_type": "code",
   "execution_count": 67,
   "id": "2a452911-6aaa-4d49-be44-bc4d8ffd0ff5",
   "metadata": {},
   "outputs": [
    {
     "name": "stdout",
     "output_type": "stream",
     "text": [
      "The average number of cases reported on Sundays was actually higher than the overall average in the data frame.\n"
     ]
    }
   ],
   "source": [
    "if covid_avg > covid_avg_may:\n",
    "    print(\"The average number of cases in the entire data frame is higher than that of Sundays.\")\n",
    "else:\n",
    "    print(\"The average number of cases reported on Sundays was actually higher than the overall average in the data frame.\")"
   ]
  },
  {
   "cell_type": "markdown",
   "id": "67ba2235-d105-43cf-9b50-f15df9c9529a",
   "metadata": {},
   "source": [
    "## Grouping and Aggregation\n",
    "We might want to summarize the day-wise DataFrame and create a new DataFrame with month-wise data. This is where the **groupby** function becomes useful. Along with grouping, we also need to specify a method to aggregate the data within each group."
   ]
  },
  {
   "cell_type": "code",
   "execution_count": 68,
   "id": "793c3fb6-da5e-4c22-b90b-cbf03836d32b",
   "metadata": {},
   "outputs": [],
   "source": [
    "covid_month_df = covid_df.groupby('month_name')[['new_cases', 'new_tests', 'new_deaths']].sum()"
   ]
  },
  {
   "cell_type": "code",
   "execution_count": 69,
   "id": "2363d8c8-cf89-4f74-a820-93ae4cce607b",
   "metadata": {},
   "outputs": [
    {
     "data": {
      "text/html": [
       "<div>\n",
       "<style scoped>\n",
       "    .dataframe tbody tr th:only-of-type {\n",
       "        vertical-align: middle;\n",
       "    }\n",
       "\n",
       "    .dataframe tbody tr th {\n",
       "        vertical-align: top;\n",
       "    }\n",
       "\n",
       "    .dataframe thead th {\n",
       "        text-align: right;\n",
       "    }\n",
       "</style>\n",
       "<table border=\"1\" class=\"dataframe\">\n",
       "  <thead>\n",
       "    <tr style=\"text-align: right;\">\n",
       "      <th></th>\n",
       "      <th>new_cases</th>\n",
       "      <th>new_tests</th>\n",
       "      <th>new_deaths</th>\n",
       "    </tr>\n",
       "    <tr>\n",
       "      <th>month_name</th>\n",
       "      <th></th>\n",
       "      <th></th>\n",
       "      <th></th>\n",
       "    </tr>\n",
       "  </thead>\n",
       "  <tbody>\n",
       "    <tr>\n",
       "      <th>April</th>\n",
       "      <td>101852.0</td>\n",
       "      <td>419591.0</td>\n",
       "      <td>16091.0</td>\n",
       "    </tr>\n",
       "    <tr>\n",
       "      <th>August</th>\n",
       "      <td>21060.0</td>\n",
       "      <td>1098704.0</td>\n",
       "      <td>345.0</td>\n",
       "    </tr>\n",
       "    <tr>\n",
       "      <th>December</th>\n",
       "      <td>0.0</td>\n",
       "      <td>0.0</td>\n",
       "      <td>0.0</td>\n",
       "    </tr>\n",
       "    <tr>\n",
       "      <th>February</th>\n",
       "      <td>885.0</td>\n",
       "      <td>0.0</td>\n",
       "      <td>21.0</td>\n",
       "    </tr>\n",
       "    <tr>\n",
       "      <th>January</th>\n",
       "      <td>3.0</td>\n",
       "      <td>0.0</td>\n",
       "      <td>0.0</td>\n",
       "    </tr>\n",
       "    <tr>\n",
       "      <th>July</th>\n",
       "      <td>6722.0</td>\n",
       "      <td>797692.0</td>\n",
       "      <td>388.0</td>\n",
       "    </tr>\n",
       "    <tr>\n",
       "      <th>June</th>\n",
       "      <td>8217.5</td>\n",
       "      <td>830354.0</td>\n",
       "      <td>1404.0</td>\n",
       "    </tr>\n",
       "    <tr>\n",
       "      <th>March</th>\n",
       "      <td>100851.0</td>\n",
       "      <td>0.0</td>\n",
       "      <td>11570.0</td>\n",
       "    </tr>\n",
       "    <tr>\n",
       "      <th>May</th>\n",
       "      <td>29073.0</td>\n",
       "      <td>1078720.0</td>\n",
       "      <td>5658.0</td>\n",
       "    </tr>\n",
       "    <tr>\n",
       "      <th>September</th>\n",
       "      <td>3297.0</td>\n",
       "      <td>54395.0</td>\n",
       "      <td>20.0</td>\n",
       "    </tr>\n",
       "  </tbody>\n",
       "</table>\n",
       "</div>"
      ],
      "text/plain": [
       "            new_cases  new_tests  new_deaths\n",
       "month_name                                  \n",
       "April        101852.0   419591.0     16091.0\n",
       "August        21060.0  1098704.0       345.0\n",
       "December          0.0        0.0         0.0\n",
       "February        885.0        0.0        21.0\n",
       "January           3.0        0.0         0.0\n",
       "July           6722.0   797692.0       388.0\n",
       "June           8217.5   830354.0      1404.0\n",
       "March        100851.0        0.0     11570.0\n",
       "May           29073.0  1078720.0      5658.0\n",
       "September      3297.0    54395.0        20.0"
      ]
     },
     "execution_count": 69,
     "metadata": {},
     "output_type": "execute_result"
    }
   ],
   "source": [
    "covid_month_df"
   ]
  },
  {
   "cell_type": "markdown",
   "id": "68899834-cf5f-4b6b-b4f1-f3b22f75600d",
   "metadata": {},
   "source": [
    "The above table seems a bit unordered, so if you wish to assign it a specific order, you could use:"
   ]
  },
  {
   "cell_type": "markdown",
   "id": "30776d7f-e510-46d4-a8fd-0c9cf106e044",
   "metadata": {},
   "source": [
    "Here we are giving the pandas the order of values we want in our DataFrame"
   ]
  },
  {
   "cell_type": "code",
   "execution_count": 70,
   "id": "4c485992-b1a4-4c9b-8d1a-642494b9cf2c",
   "metadata": {},
   "outputs": [],
   "source": [
    "# Defining the correct order of months\n",
    "month_order = ['January', 'February', 'March', 'April', 'May', 'June', 'July', 'August', 'September', 'October', 'November', 'December']"
   ]
  },
  {
   "cell_type": "code",
   "execution_count": 71,
   "id": "8b8d0b22-6347-4173-b346-3e4dd0ac7828",
   "metadata": {},
   "outputs": [],
   "source": [
    "# Making sure 'month_name' column exists and is ordered correctly\n",
    "covid_df['month_name'] = pd.Categorical(covid_df['month_name'], categories=month_order, ordered=True)"
   ]
  },
  {
   "cell_type": "markdown",
   "id": "bbd4a052-9200-437b-9d2b-c7bf96141800",
   "metadata": {},
   "source": [
    "Well the above codes can be described as\n",
    "\n",
    "covid_df['month_name'] = pd.Categorical(\n",
    "\n",
    "    covid_df['month_name'],           # the column to convert\n",
    "    \n",
    "    categories=month_order,           # the correct month order\n",
    "    \n",
    "    ordered=True                      # tells pandas to treat it as ordered\n",
    ")"
   ]
  },
  {
   "cell_type": "markdown",
   "id": "6bb26f52-315d-443f-bb85-a6a6e06dfbf1",
   "metadata": {},
   "source": [
    "Now when you do:\n",
    "\n",
    "**covid_month_df = covid_df.groupby('month_name')[['new_cases', 'new_tests', 'new_deaths']].sum().sort_index()**\n",
    "\n",
    "It ussees the calender order you defined previously—instead of defaulting to A–Z."
   ]
  },
  {
   "cell_type": "code",
   "execution_count": 72,
   "id": "125208f0-2921-47e8-a3cb-cf398466e86e",
   "metadata": {},
   "outputs": [
    {
     "name": "stderr",
     "output_type": "stream",
     "text": [
      "C:\\Users\\LENOVO\\AppData\\Local\\Temp\\ipykernel_20072\\1730805980.py:2: FutureWarning: The default of observed=False is deprecated and will be changed to True in a future version of pandas. Pass observed=False to retain current behavior or observed=True to adopt the future default and silence this warning.\n",
      "  covid_month_df = covid_df.groupby('month_name')[['new_cases', 'new_tests', 'new_deaths']].sum().sort_index()\n"
     ]
    }
   ],
   "source": [
    "# Now group and sort\n",
    "covid_month_df = covid_df.groupby('month_name')[['new_cases', 'new_tests', 'new_deaths']].sum().sort_index()"
   ]
  },
  {
   "cell_type": "markdown",
   "id": "b4f004ba-2768-4e5a-836b-89f4b5144644",
   "metadata": {},
   "source": [
    "## Brainstorming\n",
    "\n",
    "### What is pd.Categorical?\n",
    "In Pandas, a categorical variable is like a column that contains fixed possible values, often used for:\n",
    "\n",
    "* Sorting\n",
    "\n",
    "* Grouping\n",
    "\n",
    "* Reducing memory\n",
    "\n",
    "By default, strings like \"April\", \"May\", etc., are treated as plain text and are sorted alphabetically, not in calendar order.\n",
    "\n",
    "### Why Categorical Helps??\n",
    "When you convert a column (like month_name) into a Categorical,so what you doing is you’re telling Pandas:\n",
    "\n",
    "**“Hey, here's the specific order of these values — please follow this order when sorting, grouping, or displaying them.”**\n",
    "\n",
    "### Future Error??\n",
    "Well, the output seems promising, but why does this show up?\n",
    "\n",
    "**FutureWarning: The default of observed=False is deprecated and will be changed to True in a future version of pandas. Pass observed=False to retain current behavior or observed=True to adopt the future default and silence this warning.**\n",
    "\n",
    "**covid_month_df = covid_df.groupby('month_name')[['new_cases', 'new_tests', 'new_deaths']].sum().sort_index()**\n",
    "\n",
    "This warning is displayed by Pandas. It's basically saying:\n",
    "\n",
    "**“Hey, when you're grouping by a categorical column like month_name, we used to include all categories — even if some of them don’t appear in your data.\n",
    "But soon, the default behavior will change to only include the ones that are actually present.”**\n",
    "\n",
    "This happens because:\n",
    "\n",
    "* You converted month_name to a Categorical with all 12 months.\n",
    "\n",
    "* But your data might only have, say, 10 months (there is no October, November and December in our DataFrame).\n",
    "\n",
    "* Pandas includes all 12 anyway (because observed=False is the current default).\n",
    "\n",
    "* This will change in future Pandas versions — so they warn you now."
   ]
  },
  {
   "cell_type": "code",
   "execution_count": 73,
   "id": "f2dca123-3d84-470a-ad49-9a5a313d889c",
   "metadata": {},
   "outputs": [
    {
     "data": {
      "text/html": [
       "<div>\n",
       "<style scoped>\n",
       "    .dataframe tbody tr th:only-of-type {\n",
       "        vertical-align: middle;\n",
       "    }\n",
       "\n",
       "    .dataframe tbody tr th {\n",
       "        vertical-align: top;\n",
       "    }\n",
       "\n",
       "    .dataframe thead th {\n",
       "        text-align: right;\n",
       "    }\n",
       "</style>\n",
       "<table border=\"1\" class=\"dataframe\">\n",
       "  <thead>\n",
       "    <tr style=\"text-align: right;\">\n",
       "      <th></th>\n",
       "      <th>new_cases</th>\n",
       "      <th>new_tests</th>\n",
       "      <th>new_deaths</th>\n",
       "    </tr>\n",
       "    <tr>\n",
       "      <th>month_name</th>\n",
       "      <th></th>\n",
       "      <th></th>\n",
       "      <th></th>\n",
       "    </tr>\n",
       "  </thead>\n",
       "  <tbody>\n",
       "    <tr>\n",
       "      <th>January</th>\n",
       "      <td>3.0</td>\n",
       "      <td>0.0</td>\n",
       "      <td>0.0</td>\n",
       "    </tr>\n",
       "    <tr>\n",
       "      <th>February</th>\n",
       "      <td>885.0</td>\n",
       "      <td>0.0</td>\n",
       "      <td>21.0</td>\n",
       "    </tr>\n",
       "    <tr>\n",
       "      <th>March</th>\n",
       "      <td>100851.0</td>\n",
       "      <td>0.0</td>\n",
       "      <td>11570.0</td>\n",
       "    </tr>\n",
       "    <tr>\n",
       "      <th>April</th>\n",
       "      <td>101852.0</td>\n",
       "      <td>419591.0</td>\n",
       "      <td>16091.0</td>\n",
       "    </tr>\n",
       "    <tr>\n",
       "      <th>May</th>\n",
       "      <td>29073.0</td>\n",
       "      <td>1078720.0</td>\n",
       "      <td>5658.0</td>\n",
       "    </tr>\n",
       "    <tr>\n",
       "      <th>June</th>\n",
       "      <td>8217.5</td>\n",
       "      <td>830354.0</td>\n",
       "      <td>1404.0</td>\n",
       "    </tr>\n",
       "    <tr>\n",
       "      <th>July</th>\n",
       "      <td>6722.0</td>\n",
       "      <td>797692.0</td>\n",
       "      <td>388.0</td>\n",
       "    </tr>\n",
       "    <tr>\n",
       "      <th>August</th>\n",
       "      <td>21060.0</td>\n",
       "      <td>1098704.0</td>\n",
       "      <td>345.0</td>\n",
       "    </tr>\n",
       "    <tr>\n",
       "      <th>September</th>\n",
       "      <td>3297.0</td>\n",
       "      <td>54395.0</td>\n",
       "      <td>20.0</td>\n",
       "    </tr>\n",
       "    <tr>\n",
       "      <th>October</th>\n",
       "      <td>0.0</td>\n",
       "      <td>0.0</td>\n",
       "      <td>0.0</td>\n",
       "    </tr>\n",
       "    <tr>\n",
       "      <th>November</th>\n",
       "      <td>0.0</td>\n",
       "      <td>0.0</td>\n",
       "      <td>0.0</td>\n",
       "    </tr>\n",
       "    <tr>\n",
       "      <th>December</th>\n",
       "      <td>0.0</td>\n",
       "      <td>0.0</td>\n",
       "      <td>0.0</td>\n",
       "    </tr>\n",
       "  </tbody>\n",
       "</table>\n",
       "</div>"
      ],
      "text/plain": [
       "            new_cases  new_tests  new_deaths\n",
       "month_name                                  \n",
       "January           3.0        0.0         0.0\n",
       "February        885.0        0.0        21.0\n",
       "March        100851.0        0.0     11570.0\n",
       "April        101852.0   419591.0     16091.0\n",
       "May           29073.0  1078720.0      5658.0\n",
       "June           8217.5   830354.0      1404.0\n",
       "July           6722.0   797692.0       388.0\n",
       "August        21060.0  1098704.0       345.0\n",
       "September      3297.0    54395.0        20.0\n",
       "October           0.0        0.0         0.0\n",
       "November          0.0        0.0         0.0\n",
       "December          0.0        0.0         0.0"
      ]
     },
     "execution_count": 73,
     "metadata": {},
     "output_type": "execute_result"
    }
   ],
   "source": [
    "covid_month_df"
   ]
  },
  {
   "cell_type": "markdown",
   "id": "96b5d998-ee13-4b15-9a09-62c74082054e",
   "metadata": {},
   "source": [
    "Apart from grouping, there is another form of aggregation which is used to calculate running or the cumulative sum of cases, tests, or deaths upto the current\n",
    "date for each row. This could be using **cumsum** method. Let's add three new columns: **total_cases**, **total_deaths** and **total_tests**"
   ]
  },
  {
   "cell_type": "code",
   "execution_count": 74,
   "id": "8073b5aa-358d-4240-8224-f95658595b3d",
   "metadata": {},
   "outputs": [],
   "source": [
    "covid_df['total_cases'] = covid_df.new_cases.cumsum()"
   ]
  },
  {
   "cell_type": "code",
   "execution_count": 75,
   "id": "5f0e86c9-3921-452c-97a7-e2ac3ac563a4",
   "metadata": {},
   "outputs": [],
   "source": [
    "covid_df['total_deaths'] = covid_df.new_deaths.cumsum()"
   ]
  },
  {
   "cell_type": "code",
   "execution_count": 76,
   "id": "5744220a-517a-4827-b191-e1653dc26991",
   "metadata": {},
   "outputs": [],
   "source": [
    "covid_df['total_tests'] = covid_df.new_tests.cumsum() "
   ]
  },
  {
   "cell_type": "code",
   "execution_count": 77,
   "id": "2ea0c623-3afd-4b36-81a7-10274c40f9e9",
   "metadata": {},
   "outputs": [
    {
     "data": {
      "text/html": [
       "<div>\n",
       "<style scoped>\n",
       "    .dataframe tbody tr th:only-of-type {\n",
       "        vertical-align: middle;\n",
       "    }\n",
       "\n",
       "    .dataframe tbody tr th {\n",
       "        vertical-align: top;\n",
       "    }\n",
       "\n",
       "    .dataframe thead th {\n",
       "        text-align: right;\n",
       "    }\n",
       "</style>\n",
       "<table border=\"1\" class=\"dataframe\">\n",
       "  <thead>\n",
       "    <tr style=\"text-align: right;\">\n",
       "      <th></th>\n",
       "      <th>date</th>\n",
       "      <th>new_cases</th>\n",
       "      <th>new_deaths</th>\n",
       "      <th>new_tests</th>\n",
       "      <th>year</th>\n",
       "      <th>day</th>\n",
       "      <th>weekday_name</th>\n",
       "      <th>month_name</th>\n",
       "      <th>total_cases</th>\n",
       "      <th>total_deaths</th>\n",
       "      <th>total_tests</th>\n",
       "    </tr>\n",
       "  </thead>\n",
       "  <tbody>\n",
       "    <tr>\n",
       "      <th>0</th>\n",
       "      <td>2019-12-31</td>\n",
       "      <td>0.0</td>\n",
       "      <td>0.0</td>\n",
       "      <td>NaN</td>\n",
       "      <td>2019</td>\n",
       "      <td>31</td>\n",
       "      <td>Tuesday</td>\n",
       "      <td>December</td>\n",
       "      <td>0.0</td>\n",
       "      <td>0.0</td>\n",
       "      <td>NaN</td>\n",
       "    </tr>\n",
       "    <tr>\n",
       "      <th>1</th>\n",
       "      <td>2020-01-01</td>\n",
       "      <td>0.0</td>\n",
       "      <td>0.0</td>\n",
       "      <td>NaN</td>\n",
       "      <td>2020</td>\n",
       "      <td>1</td>\n",
       "      <td>Wednesday</td>\n",
       "      <td>January</td>\n",
       "      <td>0.0</td>\n",
       "      <td>0.0</td>\n",
       "      <td>NaN</td>\n",
       "    </tr>\n",
       "    <tr>\n",
       "      <th>2</th>\n",
       "      <td>2020-01-02</td>\n",
       "      <td>0.0</td>\n",
       "      <td>0.0</td>\n",
       "      <td>NaN</td>\n",
       "      <td>2020</td>\n",
       "      <td>2</td>\n",
       "      <td>Thursday</td>\n",
       "      <td>January</td>\n",
       "      <td>0.0</td>\n",
       "      <td>0.0</td>\n",
       "      <td>NaN</td>\n",
       "    </tr>\n",
       "    <tr>\n",
       "      <th>3</th>\n",
       "      <td>2020-01-03</td>\n",
       "      <td>0.0</td>\n",
       "      <td>0.0</td>\n",
       "      <td>NaN</td>\n",
       "      <td>2020</td>\n",
       "      <td>3</td>\n",
       "      <td>Friday</td>\n",
       "      <td>January</td>\n",
       "      <td>0.0</td>\n",
       "      <td>0.0</td>\n",
       "      <td>NaN</td>\n",
       "    </tr>\n",
       "    <tr>\n",
       "      <th>4</th>\n",
       "      <td>2020-01-04</td>\n",
       "      <td>0.0</td>\n",
       "      <td>0.0</td>\n",
       "      <td>NaN</td>\n",
       "      <td>2020</td>\n",
       "      <td>4</td>\n",
       "      <td>Saturday</td>\n",
       "      <td>January</td>\n",
       "      <td>0.0</td>\n",
       "      <td>0.0</td>\n",
       "      <td>NaN</td>\n",
       "    </tr>\n",
       "    <tr>\n",
       "      <th>...</th>\n",
       "      <td>...</td>\n",
       "      <td>...</td>\n",
       "      <td>...</td>\n",
       "      <td>...</td>\n",
       "      <td>...</td>\n",
       "      <td>...</td>\n",
       "      <td>...</td>\n",
       "      <td>...</td>\n",
       "      <td>...</td>\n",
       "      <td>...</td>\n",
       "      <td>...</td>\n",
       "    </tr>\n",
       "    <tr>\n",
       "      <th>243</th>\n",
       "      <td>2020-08-30</td>\n",
       "      <td>1444.0</td>\n",
       "      <td>1.0</td>\n",
       "      <td>53541.0</td>\n",
       "      <td>2020</td>\n",
       "      <td>30</td>\n",
       "      <td>Sunday</td>\n",
       "      <td>August</td>\n",
       "      <td>267298.5</td>\n",
       "      <td>35473.0</td>\n",
       "      <td>4182478.0</td>\n",
       "    </tr>\n",
       "    <tr>\n",
       "      <th>244</th>\n",
       "      <td>2020-08-31</td>\n",
       "      <td>1365.0</td>\n",
       "      <td>4.0</td>\n",
       "      <td>42583.0</td>\n",
       "      <td>2020</td>\n",
       "      <td>31</td>\n",
       "      <td>Monday</td>\n",
       "      <td>August</td>\n",
       "      <td>268663.5</td>\n",
       "      <td>35477.0</td>\n",
       "      <td>4225061.0</td>\n",
       "    </tr>\n",
       "    <tr>\n",
       "      <th>245</th>\n",
       "      <td>2020-09-01</td>\n",
       "      <td>996.0</td>\n",
       "      <td>6.0</td>\n",
       "      <td>54395.0</td>\n",
       "      <td>2020</td>\n",
       "      <td>1</td>\n",
       "      <td>Tuesday</td>\n",
       "      <td>September</td>\n",
       "      <td>269659.5</td>\n",
       "      <td>35483.0</td>\n",
       "      <td>4279456.0</td>\n",
       "    </tr>\n",
       "    <tr>\n",
       "      <th>246</th>\n",
       "      <td>2020-09-02</td>\n",
       "      <td>975.0</td>\n",
       "      <td>8.0</td>\n",
       "      <td>NaN</td>\n",
       "      <td>2020</td>\n",
       "      <td>2</td>\n",
       "      <td>Wednesday</td>\n",
       "      <td>September</td>\n",
       "      <td>270634.5</td>\n",
       "      <td>35491.0</td>\n",
       "      <td>NaN</td>\n",
       "    </tr>\n",
       "    <tr>\n",
       "      <th>247</th>\n",
       "      <td>2020-09-03</td>\n",
       "      <td>1326.0</td>\n",
       "      <td>6.0</td>\n",
       "      <td>NaN</td>\n",
       "      <td>2020</td>\n",
       "      <td>3</td>\n",
       "      <td>Thursday</td>\n",
       "      <td>September</td>\n",
       "      <td>271960.5</td>\n",
       "      <td>35497.0</td>\n",
       "      <td>NaN</td>\n",
       "    </tr>\n",
       "  </tbody>\n",
       "</table>\n",
       "<p>248 rows × 11 columns</p>\n",
       "</div>"
      ],
      "text/plain": [
       "          date  new_cases  new_deaths  new_tests  year  day weekday_name  \\\n",
       "0   2019-12-31        0.0         0.0        NaN  2019   31      Tuesday   \n",
       "1   2020-01-01        0.0         0.0        NaN  2020    1    Wednesday   \n",
       "2   2020-01-02        0.0         0.0        NaN  2020    2     Thursday   \n",
       "3   2020-01-03        0.0         0.0        NaN  2020    3       Friday   \n",
       "4   2020-01-04        0.0         0.0        NaN  2020    4     Saturday   \n",
       "..         ...        ...         ...        ...   ...  ...          ...   \n",
       "243 2020-08-30     1444.0         1.0    53541.0  2020   30       Sunday   \n",
       "244 2020-08-31     1365.0         4.0    42583.0  2020   31       Monday   \n",
       "245 2020-09-01      996.0         6.0    54395.0  2020    1      Tuesday   \n",
       "246 2020-09-02      975.0         8.0        NaN  2020    2    Wednesday   \n",
       "247 2020-09-03     1326.0         6.0        NaN  2020    3     Thursday   \n",
       "\n",
       "    month_name  total_cases  total_deaths  total_tests  \n",
       "0     December          0.0           0.0          NaN  \n",
       "1      January          0.0           0.0          NaN  \n",
       "2      January          0.0           0.0          NaN  \n",
       "3      January          0.0           0.0          NaN  \n",
       "4      January          0.0           0.0          NaN  \n",
       "..         ...          ...           ...          ...  \n",
       "243     August     267298.5       35473.0    4182478.0  \n",
       "244     August     268663.5       35477.0    4225061.0  \n",
       "245  September     269659.5       35483.0    4279456.0  \n",
       "246  September     270634.5       35491.0          NaN  \n",
       "247  September     271960.5       35497.0          NaN  \n",
       "\n",
       "[248 rows x 11 columns]"
      ]
     },
     "execution_count": 77,
     "metadata": {},
     "output_type": "execute_result"
    }
   ],
   "source": [
    "covid_df"
   ]
  },
  {
   "cell_type": "code",
   "execution_count": 78,
   "id": "99708fda-2c97-41e4-ab46-8226e7157c98",
   "metadata": {},
   "outputs": [
    {
     "data": {
      "text/plain": [
       "238    3883814.0\n",
       "239    3941868.0\n",
       "240    3999508.0\n",
       "241    4064643.0\n",
       "242    4128937.0\n",
       "243    4182478.0\n",
       "244    4225061.0\n",
       "245    4279456.0\n",
       "246          NaN\n",
       "247          NaN\n",
       "Name: total_tests, dtype: float64"
      ]
     },
     "execution_count": 78,
     "metadata": {},
     "output_type": "execute_result"
    }
   ],
   "source": [
    "covid_df.total_tests.tail(10)"
   ]
  },
  {
   "cell_type": "markdown",
   "id": "4dd90171-3c6b-4684-84a0-4279e2f32163",
   "metadata": {},
   "source": [
    "## Merging data drom multiple sources"
   ]
  },
  {
   "cell_type": "code",
   "execution_count": null,
   "id": "7d9d263b-cd16-4c96-a8fc-b73b394d4d17",
   "metadata": {},
   "outputs": [],
   "source": []
  }
 ],
 "metadata": {
  "kernelspec": {
   "display_name": "Python 3 (ipykernel)",
   "language": "python",
   "name": "python3"
  },
  "language_info": {
   "codemirror_mode": {
    "name": "ipython",
    "version": 3
   },
   "file_extension": ".py",
   "mimetype": "text/x-python",
   "name": "python",
   "nbconvert_exporter": "python",
   "pygments_lexer": "ipython3",
   "version": "3.13.2"
  }
 },
 "nbformat": 4,
 "nbformat_minor": 5
}
