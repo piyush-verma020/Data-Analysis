{
 "cells": [
  {
   "cell_type": "code",
   "execution_count": 1,
   "id": "b984a8cb-89b1-49f8-9e0d-2dd1f1be8c00",
   "metadata": {},
   "outputs": [],
   "source": [
    "from urllib.request import urlretrieve\n",
    "import pandas as pd"
   ]
  },
  {
   "cell_type": "code",
   "execution_count": 2,
   "id": "bf6aa3b3-c8af-4330-9d48-4e546beeacbe",
   "metadata": {},
   "outputs": [
    {
     "data": {
      "text/plain": [
       "('d', <http.client.HTTPMessage at 0x1d17e76f110>)"
      ]
     },
     "execution_count": 2,
     "metadata": {},
     "output_type": "execute_result"
    }
   ],
   "source": [
    "italy_covid_url = 'https://gist.githubusercontent.com/aakashns/f6a004fa20c84fec53262f9a8bfee775/raw/f309558b1cf5103424cef58e2ecb8704dcd4d74c/italy-covid-daywise.csv'\n",
    "\n",
    "urlretrieve(italy_covid_url, 'd') # Trying to retrive the csv file attachted to the url"
   ]
  },
  {
   "cell_type": "code",
   "execution_count": 3,
   "id": "3dd72b0c-947c-4814-b2b0-096ed2ccc4d7",
   "metadata": {},
   "outputs": [],
   "source": [
    "covid_df=pd.read_csv('italy-covid-daywise.csv') # Pandas reading csv file"
   ]
  },
  {
   "cell_type": "code",
   "execution_count": 4,
   "id": "da4dd467-7146-4787-acb2-5a1381448e3b",
   "metadata": {},
   "outputs": [
    {
     "data": {
      "text/plain": [
       "pandas.core.frame.DataFrame"
      ]
     },
     "execution_count": 4,
     "metadata": {},
     "output_type": "execute_result"
    }
   ],
   "source": [
    "type(covid_df) # Tying to check the type of the data"
   ]
  },
  {
   "cell_type": "code",
   "execution_count": 5,
   "id": "361be8d7-3079-42a1-af39-a550e187bc24",
   "metadata": {},
   "outputs": [
    {
     "data": {
      "text/html": [
       "<div>\n",
       "<style scoped>\n",
       "    .dataframe tbody tr th:only-of-type {\n",
       "        vertical-align: middle;\n",
       "    }\n",
       "\n",
       "    .dataframe tbody tr th {\n",
       "        vertical-align: top;\n",
       "    }\n",
       "\n",
       "    .dataframe thead th {\n",
       "        text-align: right;\n",
       "    }\n",
       "</style>\n",
       "<table border=\"1\" class=\"dataframe\">\n",
       "  <thead>\n",
       "    <tr style=\"text-align: right;\">\n",
       "      <th></th>\n",
       "      <th>date</th>\n",
       "      <th>new_cases</th>\n",
       "      <th>new_deaths</th>\n",
       "      <th>new_tests</th>\n",
       "    </tr>\n",
       "  </thead>\n",
       "  <tbody>\n",
       "    <tr>\n",
       "      <th>0</th>\n",
       "      <td>2019-12-31</td>\n",
       "      <td>0.0</td>\n",
       "      <td>0.0</td>\n",
       "      <td>NaN</td>\n",
       "    </tr>\n",
       "    <tr>\n",
       "      <th>1</th>\n",
       "      <td>2020-01-01</td>\n",
       "      <td>0.0</td>\n",
       "      <td>0.0</td>\n",
       "      <td>NaN</td>\n",
       "    </tr>\n",
       "    <tr>\n",
       "      <th>2</th>\n",
       "      <td>2020-01-02</td>\n",
       "      <td>0.0</td>\n",
       "      <td>0.0</td>\n",
       "      <td>NaN</td>\n",
       "    </tr>\n",
       "    <tr>\n",
       "      <th>3</th>\n",
       "      <td>2020-01-03</td>\n",
       "      <td>0.0</td>\n",
       "      <td>0.0</td>\n",
       "      <td>NaN</td>\n",
       "    </tr>\n",
       "    <tr>\n",
       "      <th>4</th>\n",
       "      <td>2020-01-04</td>\n",
       "      <td>0.0</td>\n",
       "      <td>0.0</td>\n",
       "      <td>NaN</td>\n",
       "    </tr>\n",
       "    <tr>\n",
       "      <th>...</th>\n",
       "      <td>...</td>\n",
       "      <td>...</td>\n",
       "      <td>...</td>\n",
       "      <td>...</td>\n",
       "    </tr>\n",
       "    <tr>\n",
       "      <th>243</th>\n",
       "      <td>2020-08-30</td>\n",
       "      <td>1444.0</td>\n",
       "      <td>1.0</td>\n",
       "      <td>53541.0</td>\n",
       "    </tr>\n",
       "    <tr>\n",
       "      <th>244</th>\n",
       "      <td>2020-08-31</td>\n",
       "      <td>1365.0</td>\n",
       "      <td>4.0</td>\n",
       "      <td>42583.0</td>\n",
       "    </tr>\n",
       "    <tr>\n",
       "      <th>245</th>\n",
       "      <td>2020-09-01</td>\n",
       "      <td>996.0</td>\n",
       "      <td>6.0</td>\n",
       "      <td>54395.0</td>\n",
       "    </tr>\n",
       "    <tr>\n",
       "      <th>246</th>\n",
       "      <td>2020-09-02</td>\n",
       "      <td>975.0</td>\n",
       "      <td>8.0</td>\n",
       "      <td>NaN</td>\n",
       "    </tr>\n",
       "    <tr>\n",
       "      <th>247</th>\n",
       "      <td>2020-09-03</td>\n",
       "      <td>1326.0</td>\n",
       "      <td>6.0</td>\n",
       "      <td>NaN</td>\n",
       "    </tr>\n",
       "  </tbody>\n",
       "</table>\n",
       "<p>248 rows × 4 columns</p>\n",
       "</div>"
      ],
      "text/plain": [
       "           date  new_cases  new_deaths  new_tests\n",
       "0    2019-12-31        0.0         0.0        NaN\n",
       "1    2020-01-01        0.0         0.0        NaN\n",
       "2    2020-01-02        0.0         0.0        NaN\n",
       "3    2020-01-03        0.0         0.0        NaN\n",
       "4    2020-01-04        0.0         0.0        NaN\n",
       "..          ...        ...         ...        ...\n",
       "243  2020-08-30     1444.0         1.0    53541.0\n",
       "244  2020-08-31     1365.0         4.0    42583.0\n",
       "245  2020-09-01      996.0         6.0    54395.0\n",
       "246  2020-09-02      975.0         8.0        NaN\n",
       "247  2020-09-03     1326.0         6.0        NaN\n",
       "\n",
       "[248 rows x 4 columns]"
      ]
     },
     "execution_count": 5,
     "metadata": {},
     "output_type": "execute_result"
    }
   ],
   "source": [
    "covid_df  # Printing the values stored by pandas"
   ]
  },
  {
   "cell_type": "markdown",
   "id": "2e9eec05-3b91-4a98-830f-c3ddd82b28cd",
   "metadata": {},
   "source": [
    "we can view some basic information about the data frame using the **.info** method"
   ]
  },
  {
   "cell_type": "markdown",
   "id": "bc49db9c-88ed-4b3c-b0eb-419eeb846f52",
   "metadata": {},
   "source": [
    "covid_df.info()"
   ]
  },
  {
   "cell_type": "markdown",
   "id": "84edc508-4c52-4be1-b739-32f3dc047e21",
   "metadata": {},
   "source": [
    "It appears that each column contians a values of a specific data type. For the numeric columns, you can view\n",
    "some statistical information like mean, standard deviation, minimum/maximum values and the number of non-empty\n",
    "values using the **.describe** method"
   ]
  },
  {
   "cell_type": "code",
   "execution_count": 6,
   "id": "e25d7d7d-b97c-4157-813b-199b2111148e",
   "metadata": {},
   "outputs": [
    {
     "data": {
      "text/html": [
       "<div>\n",
       "<style scoped>\n",
       "    .dataframe tbody tr th:only-of-type {\n",
       "        vertical-align: middle;\n",
       "    }\n",
       "\n",
       "    .dataframe tbody tr th {\n",
       "        vertical-align: top;\n",
       "    }\n",
       "\n",
       "    .dataframe thead th {\n",
       "        text-align: right;\n",
       "    }\n",
       "</style>\n",
       "<table border=\"1\" class=\"dataframe\">\n",
       "  <thead>\n",
       "    <tr style=\"text-align: right;\">\n",
       "      <th></th>\n",
       "      <th>new_cases</th>\n",
       "      <th>new_deaths</th>\n",
       "      <th>new_tests</th>\n",
       "    </tr>\n",
       "  </thead>\n",
       "  <tbody>\n",
       "    <tr>\n",
       "      <th>count</th>\n",
       "      <td>248.000000</td>\n",
       "      <td>248.000000</td>\n",
       "      <td>135.000000</td>\n",
       "    </tr>\n",
       "    <tr>\n",
       "      <th>mean</th>\n",
       "      <td>1094.818548</td>\n",
       "      <td>143.133065</td>\n",
       "      <td>31699.674074</td>\n",
       "    </tr>\n",
       "    <tr>\n",
       "      <th>std</th>\n",
       "      <td>1554.508002</td>\n",
       "      <td>227.105538</td>\n",
       "      <td>11622.209757</td>\n",
       "    </tr>\n",
       "    <tr>\n",
       "      <th>min</th>\n",
       "      <td>-148.000000</td>\n",
       "      <td>-31.000000</td>\n",
       "      <td>7841.000000</td>\n",
       "    </tr>\n",
       "    <tr>\n",
       "      <th>25%</th>\n",
       "      <td>123.000000</td>\n",
       "      <td>3.000000</td>\n",
       "      <td>25259.000000</td>\n",
       "    </tr>\n",
       "    <tr>\n",
       "      <th>50%</th>\n",
       "      <td>342.000000</td>\n",
       "      <td>17.000000</td>\n",
       "      <td>29545.000000</td>\n",
       "    </tr>\n",
       "    <tr>\n",
       "      <th>75%</th>\n",
       "      <td>1371.750000</td>\n",
       "      <td>175.250000</td>\n",
       "      <td>37711.000000</td>\n",
       "    </tr>\n",
       "    <tr>\n",
       "      <th>max</th>\n",
       "      <td>6557.000000</td>\n",
       "      <td>971.000000</td>\n",
       "      <td>95273.000000</td>\n",
       "    </tr>\n",
       "  </tbody>\n",
       "</table>\n",
       "</div>"
      ],
      "text/plain": [
       "         new_cases  new_deaths     new_tests\n",
       "count   248.000000  248.000000    135.000000\n",
       "mean   1094.818548  143.133065  31699.674074\n",
       "std    1554.508002  227.105538  11622.209757\n",
       "min    -148.000000  -31.000000   7841.000000\n",
       "25%     123.000000    3.000000  25259.000000\n",
       "50%     342.000000   17.000000  29545.000000\n",
       "75%    1371.750000  175.250000  37711.000000\n",
       "max    6557.000000  971.000000  95273.000000"
      ]
     },
     "execution_count": 6,
     "metadata": {},
     "output_type": "execute_result"
    }
   ],
   "source": [
    "covid_df.describe()"
   ]
  },
  {
   "cell_type": "markdown",
   "id": "c996e412-d53b-428f-b7e2-4035b4bfa988",
   "metadata": {},
   "source": [
    "The columns properlycontains the list of the columns with the data frame"
   ]
  },
  {
   "cell_type": "code",
   "execution_count": 7,
   "id": "91934236-823b-441d-8a40-d49e1762753f",
   "metadata": {},
   "outputs": [
    {
     "data": {
      "text/plain": [
       "Index(['date', 'new_cases', 'new_deaths', 'new_tests'], dtype='object')"
      ]
     },
     "execution_count": 7,
     "metadata": {},
     "output_type": "execute_result"
    }
   ],
   "source": [
    "covid_df.columns"
   ]
  },
  {
   "cell_type": "markdown",
   "id": "60722789-305c-4621-baa2-10aa124b9f27",
   "metadata": {},
   "source": [
    "You can also retrieve the number of row and columns in data frame using the **.shape** method"
   ]
  },
  {
   "cell_type": "code",
   "execution_count": 8,
   "id": "4bd3f366-7b51-4142-97c2-3a537a3e2d07",
   "metadata": {},
   "outputs": [
    {
     "data": {
      "text/plain": [
       "(248, 4)"
      ]
     },
     "execution_count": 8,
     "metadata": {},
     "output_type": "execute_result"
    }
   ],
   "source": [
    "covid_df.shape"
   ]
  },
  {
   "cell_type": "code",
   "execution_count": 9,
   "id": "8616eb97-0577-4efe-a8c8-7f1ff6b101da",
   "metadata": {},
   "outputs": [
    {
     "data": {
      "text/plain": [
       "np.float64(975.0)"
      ]
     },
     "execution_count": 9,
     "metadata": {},
     "output_type": "execute_result"
    }
   ],
   "source": [
    "covid_df.at[246,'new_cases']"
   ]
  },
  {
   "cell_type": "markdown",
   "id": "8ca05ec9-d4a9-48f6-aa48-a7039ad60599",
   "metadata": {},
   "source": [
    "You're seeing **np.float64(975.0)** even though you didn't import numpy because Pandas internally uses NumPy,\n",
    "and some of its operations (like data access with .at[], .iloc[], etc.) may return NumPy data types such as np.float64.\n",
    "\n",
    "So if you wish to work with native python float then use:\n",
    "**float(covid_df.at[246, 'new_cases'])**"
   ]
  },
  {
   "cell_type": "markdown",
   "id": "74dcb2bb-2b1a-465b-9843-84d5e0aabfef",
   "metadata": {},
   "source": [
    "## Why NumPy is used (especially by Pandas):\n",
    "NumPy (short for Numerical Python) is a powerful library that provides:\n",
    "\n",
    "* Efficient multidimensional arrays (ndarray)\n",
    "* Fast mathematical operations on these arrays\n",
    "* Built-in support for linear algebra, statistics, random sampling, etc.\n",
    "\n",
    "In short Pandas depends on NumPy for:\n",
    "* Speed\n",
    "* Memory Effiency\n",
    "* Mathematical Funtionality\n",
    "* Data Type Consistancy"
   ]
  },
  {
   "cell_type": "code",
   "execution_count": 10,
   "id": "513d4044-2748-4e0b-8775-3abbb5bb4453",
   "metadata": {},
   "outputs": [
    {
     "data": {
      "text/plain": [
       "975.0"
      ]
     },
     "execution_count": 10,
     "metadata": {},
     "output_type": "execute_result"
    }
   ],
   "source": [
    "float(covid_df.at[246, 'new_cases'])"
   ]
  },
  {
   "cell_type": "markdown",
   "id": "228162ef-ca62-47d5-b2e4-9a04b3a771f0",
   "metadata": {},
   "source": [
    "Instead of using indexing notation [], Pandas also allows accessing columns as properties of the data frame using **\".\" (dot)** notation.\n",
    "However this method only works for column whose name do not contain spaces or special characters."
   ]
  },
  {
   "cell_type": "code",
   "execution_count": 11,
   "id": "38a51294-a52f-49a8-921a-20a2b7bbae21",
   "metadata": {},
   "outputs": [
    {
     "data": {
      "text/plain": [
       "0         0.0\n",
       "1         0.0\n",
       "2         0.0\n",
       "3         0.0\n",
       "4         0.0\n",
       "        ...  \n",
       "243    1444.0\n",
       "244    1365.0\n",
       "245     996.0\n",
       "246     975.0\n",
       "247    1326.0\n",
       "Name: new_cases, Length: 248, dtype: float64"
      ]
     },
     "execution_count": 11,
     "metadata": {},
     "output_type": "execute_result"
    }
   ],
   "source": [
    "covid_df.new_cases"
   ]
  },
  {
   "cell_type": "markdown",
   "id": "c8e70a45-e475-4b9f-90e9-bd42cc8b46cc",
   "metadata": {},
   "source": [
    "you can also pass a list of columns within the indexing notation **[]** to access the subset of the data frame with just the\n",
    "given columns"
   ]
  },
  {
   "cell_type": "code",
   "execution_count": 12,
   "id": "bc89f9ef-5184-4f3d-8a1c-298b5f05c4a9",
   "metadata": {},
   "outputs": [],
   "source": [
    "cases_df = covid_df[['date', 'new_cases']]"
   ]
  },
  {
   "cell_type": "code",
   "execution_count": 13,
   "id": "160899dc-9c31-4500-931d-bbcc58ed2380",
   "metadata": {},
   "outputs": [
    {
     "data": {
      "text/html": [
       "<div>\n",
       "<style scoped>\n",
       "    .dataframe tbody tr th:only-of-type {\n",
       "        vertical-align: middle;\n",
       "    }\n",
       "\n",
       "    .dataframe tbody tr th {\n",
       "        vertical-align: top;\n",
       "    }\n",
       "\n",
       "    .dataframe thead th {\n",
       "        text-align: right;\n",
       "    }\n",
       "</style>\n",
       "<table border=\"1\" class=\"dataframe\">\n",
       "  <thead>\n",
       "    <tr style=\"text-align: right;\">\n",
       "      <th></th>\n",
       "      <th>date</th>\n",
       "      <th>new_cases</th>\n",
       "    </tr>\n",
       "  </thead>\n",
       "  <tbody>\n",
       "    <tr>\n",
       "      <th>0</th>\n",
       "      <td>2019-12-31</td>\n",
       "      <td>0.0</td>\n",
       "    </tr>\n",
       "    <tr>\n",
       "      <th>1</th>\n",
       "      <td>2020-01-01</td>\n",
       "      <td>0.0</td>\n",
       "    </tr>\n",
       "    <tr>\n",
       "      <th>2</th>\n",
       "      <td>2020-01-02</td>\n",
       "      <td>0.0</td>\n",
       "    </tr>\n",
       "    <tr>\n",
       "      <th>3</th>\n",
       "      <td>2020-01-03</td>\n",
       "      <td>0.0</td>\n",
       "    </tr>\n",
       "    <tr>\n",
       "      <th>4</th>\n",
       "      <td>2020-01-04</td>\n",
       "      <td>0.0</td>\n",
       "    </tr>\n",
       "    <tr>\n",
       "      <th>...</th>\n",
       "      <td>...</td>\n",
       "      <td>...</td>\n",
       "    </tr>\n",
       "    <tr>\n",
       "      <th>243</th>\n",
       "      <td>2020-08-30</td>\n",
       "      <td>1444.0</td>\n",
       "    </tr>\n",
       "    <tr>\n",
       "      <th>244</th>\n",
       "      <td>2020-08-31</td>\n",
       "      <td>1365.0</td>\n",
       "    </tr>\n",
       "    <tr>\n",
       "      <th>245</th>\n",
       "      <td>2020-09-01</td>\n",
       "      <td>996.0</td>\n",
       "    </tr>\n",
       "    <tr>\n",
       "      <th>246</th>\n",
       "      <td>2020-09-02</td>\n",
       "      <td>975.0</td>\n",
       "    </tr>\n",
       "    <tr>\n",
       "      <th>247</th>\n",
       "      <td>2020-09-03</td>\n",
       "      <td>1326.0</td>\n",
       "    </tr>\n",
       "  </tbody>\n",
       "</table>\n",
       "<p>248 rows × 2 columns</p>\n",
       "</div>"
      ],
      "text/plain": [
       "           date  new_cases\n",
       "0    2019-12-31        0.0\n",
       "1    2020-01-01        0.0\n",
       "2    2020-01-02        0.0\n",
       "3    2020-01-03        0.0\n",
       "4    2020-01-04        0.0\n",
       "..          ...        ...\n",
       "243  2020-08-30     1444.0\n",
       "244  2020-08-31     1365.0\n",
       "245  2020-09-01      996.0\n",
       "246  2020-09-02      975.0\n",
       "247  2020-09-03     1326.0\n",
       "\n",
       "[248 rows x 2 columns]"
      ]
     },
     "execution_count": 13,
     "metadata": {},
     "output_type": "execute_result"
    }
   ],
   "source": [
    "cases_df"
   ]
  },
  {
   "cell_type": "markdown",
   "id": "85d48510-6c1f-4d84-9003-9b778ee2285b",
   "metadata": {},
   "source": [
    "In order to access a specific row of data use **.loc** method"
   ]
  },
  {
   "cell_type": "code",
   "execution_count": 14,
   "id": "fedca9b4-06a6-41ee-be7e-97add55f2691",
   "metadata": {},
   "outputs": [
    {
     "data": {
      "text/plain": [
       "date          2020-08-30\n",
       "new_cases         1444.0\n",
       "new_deaths           1.0\n",
       "new_tests        53541.0\n",
       "Name: 243, dtype: object"
      ]
     },
     "execution_count": 14,
     "metadata": {},
     "output_type": "execute_result"
    }
   ],
   "source": [
    "covid_df.loc[243]"
   ]
  },
  {
   "cell_type": "code",
   "execution_count": 15,
   "id": "64b32ea7-6738-4c6e-afe0-0417db5316dd",
   "metadata": {},
   "outputs": [
    {
     "data": {
      "text/plain": [
       "pandas.core.series.Series"
      ]
     },
     "execution_count": 15,
     "metadata": {},
     "output_type": "execute_result"
    }
   ],
   "source": [
    "type(covid_df.loc[243])"
   ]
  },
  {
   "cell_type": "markdown",
   "id": "75efad35-b149-4637-8959-44d0cdddab6f",
   "metadata": {},
   "source": [
    "to find the first and the last row of data, we can use the **.head()** and **.tail()** methods."
   ]
  },
  {
   "cell_type": "code",
   "execution_count": 16,
   "id": "2c047018-68a3-4197-8558-7c534909b90b",
   "metadata": {},
   "outputs": [
    {
     "data": {
      "text/html": [
       "<div>\n",
       "<style scoped>\n",
       "    .dataframe tbody tr th:only-of-type {\n",
       "        vertical-align: middle;\n",
       "    }\n",
       "\n",
       "    .dataframe tbody tr th {\n",
       "        vertical-align: top;\n",
       "    }\n",
       "\n",
       "    .dataframe thead th {\n",
       "        text-align: right;\n",
       "    }\n",
       "</style>\n",
       "<table border=\"1\" class=\"dataframe\">\n",
       "  <thead>\n",
       "    <tr style=\"text-align: right;\">\n",
       "      <th></th>\n",
       "      <th>date</th>\n",
       "      <th>new_cases</th>\n",
       "      <th>new_deaths</th>\n",
       "      <th>new_tests</th>\n",
       "    </tr>\n",
       "  </thead>\n",
       "  <tbody>\n",
       "    <tr>\n",
       "      <th>0</th>\n",
       "      <td>2019-12-31</td>\n",
       "      <td>0.0</td>\n",
       "      <td>0.0</td>\n",
       "      <td>NaN</td>\n",
       "    </tr>\n",
       "    <tr>\n",
       "      <th>1</th>\n",
       "      <td>2020-01-01</td>\n",
       "      <td>0.0</td>\n",
       "      <td>0.0</td>\n",
       "      <td>NaN</td>\n",
       "    </tr>\n",
       "    <tr>\n",
       "      <th>2</th>\n",
       "      <td>2020-01-02</td>\n",
       "      <td>0.0</td>\n",
       "      <td>0.0</td>\n",
       "      <td>NaN</td>\n",
       "    </tr>\n",
       "    <tr>\n",
       "      <th>3</th>\n",
       "      <td>2020-01-03</td>\n",
       "      <td>0.0</td>\n",
       "      <td>0.0</td>\n",
       "      <td>NaN</td>\n",
       "    </tr>\n",
       "    <tr>\n",
       "      <th>4</th>\n",
       "      <td>2020-01-04</td>\n",
       "      <td>0.0</td>\n",
       "      <td>0.0</td>\n",
       "      <td>NaN</td>\n",
       "    </tr>\n",
       "  </tbody>\n",
       "</table>\n",
       "</div>"
      ],
      "text/plain": [
       "         date  new_cases  new_deaths  new_tests\n",
       "0  2019-12-31        0.0         0.0        NaN\n",
       "1  2020-01-01        0.0         0.0        NaN\n",
       "2  2020-01-02        0.0         0.0        NaN\n",
       "3  2020-01-03        0.0         0.0        NaN\n",
       "4  2020-01-04        0.0         0.0        NaN"
      ]
     },
     "execution_count": 16,
     "metadata": {},
     "output_type": "execute_result"
    }
   ],
   "source": [
    "covid_df.head(5)  # To get the first 5 rows of data"
   ]
  },
  {
   "cell_type": "code",
   "execution_count": 17,
   "id": "35bc7ea9-efb6-4089-bec6-60af83dbebc3",
   "metadata": {},
   "outputs": [
    {
     "data": {
      "text/html": [
       "<div>\n",
       "<style scoped>\n",
       "    .dataframe tbody tr th:only-of-type {\n",
       "        vertical-align: middle;\n",
       "    }\n",
       "\n",
       "    .dataframe tbody tr th {\n",
       "        vertical-align: top;\n",
       "    }\n",
       "\n",
       "    .dataframe thead th {\n",
       "        text-align: right;\n",
       "    }\n",
       "</style>\n",
       "<table border=\"1\" class=\"dataframe\">\n",
       "  <thead>\n",
       "    <tr style=\"text-align: right;\">\n",
       "      <th></th>\n",
       "      <th>date</th>\n",
       "      <th>new_cases</th>\n",
       "      <th>new_deaths</th>\n",
       "      <th>new_tests</th>\n",
       "    </tr>\n",
       "  </thead>\n",
       "  <tbody>\n",
       "    <tr>\n",
       "      <th>244</th>\n",
       "      <td>2020-08-31</td>\n",
       "      <td>1365.0</td>\n",
       "      <td>4.0</td>\n",
       "      <td>42583.0</td>\n",
       "    </tr>\n",
       "    <tr>\n",
       "      <th>245</th>\n",
       "      <td>2020-09-01</td>\n",
       "      <td>996.0</td>\n",
       "      <td>6.0</td>\n",
       "      <td>54395.0</td>\n",
       "    </tr>\n",
       "    <tr>\n",
       "      <th>246</th>\n",
       "      <td>2020-09-02</td>\n",
       "      <td>975.0</td>\n",
       "      <td>8.0</td>\n",
       "      <td>NaN</td>\n",
       "    </tr>\n",
       "    <tr>\n",
       "      <th>247</th>\n",
       "      <td>2020-09-03</td>\n",
       "      <td>1326.0</td>\n",
       "      <td>6.0</td>\n",
       "      <td>NaN</td>\n",
       "    </tr>\n",
       "  </tbody>\n",
       "</table>\n",
       "</div>"
      ],
      "text/plain": [
       "           date  new_cases  new_deaths  new_tests\n",
       "244  2020-08-31     1365.0         4.0    42583.0\n",
       "245  2020-09-01      996.0         6.0    54395.0\n",
       "246  2020-09-02      975.0         8.0        NaN\n",
       "247  2020-09-03     1326.0         6.0        NaN"
      ]
     },
     "execution_count": 17,
     "metadata": {},
     "output_type": "execute_result"
    }
   ],
   "source": [
    "covid_df.tail(4)   # To get the last 4 rows of data"
   ]
  },
  {
   "cell_type": "markdown",
   "id": "634d0ce5-de61-4021-b98e-362ea2b732da",
   "metadata": {},
   "source": [
    "The distinction between *0* and *NaN* is subtle but important. In this data set it represents that daily tests numbers\n",
    "were not reported on specific dates. In fact Italy started reportingdaily test from April 19, 2020 by thatt time, 935310\n",
    "tests had already been conducted.\n",
    "\n",
    "We can find the first index which doesn't contain *NaN* value by using **first_valid_index()** method of a series."
   ]
  },
  {
   "cell_type": "code",
   "execution_count": 18,
   "id": "f2a5ec2d-7f66-49a0-8b08-ae65a3fa1b2e",
   "metadata": {},
   "outputs": [
    {
     "data": {
      "text/plain": [
       "111"
      ]
     },
     "execution_count": 18,
     "metadata": {},
     "output_type": "execute_result"
    }
   ],
   "source": [
    "covid_df.new_tests.first_valid_index()"
   ]
  },
  {
   "cell_type": "markdown",
   "id": "619485d4-7249-4286-8a75-c350aacb908b",
   "metadata": {},
   "source": [
    "To check if the value of the new tests is changing from NaN value to an actual floating number then **use a range function in the .loc[]** method"
   ]
  },
  {
   "cell_type": "code",
   "execution_count": 19,
   "id": "987324c0-0b1f-406d-be88-f26c6601d5dd",
   "metadata": {},
   "outputs": [
    {
     "data": {
      "text/html": [
       "<div>\n",
       "<style scoped>\n",
       "    .dataframe tbody tr th:only-of-type {\n",
       "        vertical-align: middle;\n",
       "    }\n",
       "\n",
       "    .dataframe tbody tr th {\n",
       "        vertical-align: top;\n",
       "    }\n",
       "\n",
       "    .dataframe thead th {\n",
       "        text-align: right;\n",
       "    }\n",
       "</style>\n",
       "<table border=\"1\" class=\"dataframe\">\n",
       "  <thead>\n",
       "    <tr style=\"text-align: right;\">\n",
       "      <th></th>\n",
       "      <th>date</th>\n",
       "      <th>new_cases</th>\n",
       "      <th>new_deaths</th>\n",
       "      <th>new_tests</th>\n",
       "    </tr>\n",
       "  </thead>\n",
       "  <tbody>\n",
       "    <tr>\n",
       "      <th>108</th>\n",
       "      <td>2020-04-17</td>\n",
       "      <td>3786.0</td>\n",
       "      <td>525.0</td>\n",
       "      <td>NaN</td>\n",
       "    </tr>\n",
       "    <tr>\n",
       "      <th>109</th>\n",
       "      <td>2020-04-18</td>\n",
       "      <td>3493.0</td>\n",
       "      <td>575.0</td>\n",
       "      <td>NaN</td>\n",
       "    </tr>\n",
       "    <tr>\n",
       "      <th>110</th>\n",
       "      <td>2020-04-19</td>\n",
       "      <td>3491.0</td>\n",
       "      <td>480.0</td>\n",
       "      <td>NaN</td>\n",
       "    </tr>\n",
       "    <tr>\n",
       "      <th>111</th>\n",
       "      <td>2020-04-20</td>\n",
       "      <td>3047.0</td>\n",
       "      <td>433.0</td>\n",
       "      <td>7841.0</td>\n",
       "    </tr>\n",
       "    <tr>\n",
       "      <th>112</th>\n",
       "      <td>2020-04-21</td>\n",
       "      <td>2256.0</td>\n",
       "      <td>454.0</td>\n",
       "      <td>28095.0</td>\n",
       "    </tr>\n",
       "    <tr>\n",
       "      <th>113</th>\n",
       "      <td>2020-04-22</td>\n",
       "      <td>2729.0</td>\n",
       "      <td>534.0</td>\n",
       "      <td>44248.0</td>\n",
       "    </tr>\n",
       "  </tbody>\n",
       "</table>\n",
       "</div>"
      ],
      "text/plain": [
       "           date  new_cases  new_deaths  new_tests\n",
       "108  2020-04-17     3786.0       525.0        NaN\n",
       "109  2020-04-18     3493.0       575.0        NaN\n",
       "110  2020-04-19     3491.0       480.0        NaN\n",
       "111  2020-04-20     3047.0       433.0     7841.0\n",
       "112  2020-04-21     2256.0       454.0    28095.0\n",
       "113  2020-04-22     2729.0       534.0    44248.0"
      ]
     },
     "execution_count": 19,
     "metadata": {},
     "output_type": "execute_result"
    }
   ],
   "source": [
    "covid_df.loc[108 : 113]"
   ]
  },
  {
   "cell_type": "markdown",
   "id": "2a1f74d7-edb1-40f3-8fd4-8c029f2d065d",
   "metadata": {},
   "source": [
    "Use **.sample()** method to retirieve a random sample of rows from the data frame"
   ]
  },
  {
   "cell_type": "code",
   "execution_count": 20,
   "id": "6bb13365-a5f2-40d8-abf3-7b854b6c6e02",
   "metadata": {},
   "outputs": [
    {
     "data": {
      "text/html": [
       "<div>\n",
       "<style scoped>\n",
       "    .dataframe tbody tr th:only-of-type {\n",
       "        vertical-align: middle;\n",
       "    }\n",
       "\n",
       "    .dataframe tbody tr th {\n",
       "        vertical-align: top;\n",
       "    }\n",
       "\n",
       "    .dataframe thead th {\n",
       "        text-align: right;\n",
       "    }\n",
       "</style>\n",
       "<table border=\"1\" class=\"dataframe\">\n",
       "  <thead>\n",
       "    <tr style=\"text-align: right;\">\n",
       "      <th></th>\n",
       "      <th>date</th>\n",
       "      <th>new_cases</th>\n",
       "      <th>new_deaths</th>\n",
       "      <th>new_tests</th>\n",
       "    </tr>\n",
       "  </thead>\n",
       "  <tbody>\n",
       "    <tr>\n",
       "      <th>221</th>\n",
       "      <td>2020-08-08</td>\n",
       "      <td>552.0</td>\n",
       "      <td>3.0</td>\n",
       "      <td>26631.0</td>\n",
       "    </tr>\n",
       "    <tr>\n",
       "      <th>20</th>\n",
       "      <td>2020-01-20</td>\n",
       "      <td>0.0</td>\n",
       "      <td>0.0</td>\n",
       "      <td>NaN</td>\n",
       "    </tr>\n",
       "    <tr>\n",
       "      <th>209</th>\n",
       "      <td>2020-07-27</td>\n",
       "      <td>254.0</td>\n",
       "      <td>5.0</td>\n",
       "      <td>19374.0</td>\n",
       "    </tr>\n",
       "    <tr>\n",
       "      <th>226</th>\n",
       "      <td>2020-08-13</td>\n",
       "      <td>476.0</td>\n",
       "      <td>10.0</td>\n",
       "      <td>25629.0</td>\n",
       "    </tr>\n",
       "    <tr>\n",
       "      <th>204</th>\n",
       "      <td>2020-07-22</td>\n",
       "      <td>128.0</td>\n",
       "      <td>15.0</td>\n",
       "      <td>29288.0</td>\n",
       "    </tr>\n",
       "    <tr>\n",
       "      <th>232</th>\n",
       "      <td>2020-08-19</td>\n",
       "      <td>401.0</td>\n",
       "      <td>5.0</td>\n",
       "      <td>41290.0</td>\n",
       "    </tr>\n",
       "    <tr>\n",
       "      <th>100</th>\n",
       "      <td>2020-04-09</td>\n",
       "      <td>3836.0</td>\n",
       "      <td>540.0</td>\n",
       "      <td>NaN</td>\n",
       "    </tr>\n",
       "    <tr>\n",
       "      <th>214</th>\n",
       "      <td>2020-08-01</td>\n",
       "      <td>379.0</td>\n",
       "      <td>9.0</td>\n",
       "      <td>31905.0</td>\n",
       "    </tr>\n",
       "    <tr>\n",
       "      <th>43</th>\n",
       "      <td>2020-02-12</td>\n",
       "      <td>0.0</td>\n",
       "      <td>0.0</td>\n",
       "      <td>NaN</td>\n",
       "    </tr>\n",
       "    <tr>\n",
       "      <th>0</th>\n",
       "      <td>2019-12-31</td>\n",
       "      <td>0.0</td>\n",
       "      <td>0.0</td>\n",
       "      <td>NaN</td>\n",
       "    </tr>\n",
       "  </tbody>\n",
       "</table>\n",
       "</div>"
      ],
      "text/plain": [
       "           date  new_cases  new_deaths  new_tests\n",
       "221  2020-08-08      552.0         3.0    26631.0\n",
       "20   2020-01-20        0.0         0.0        NaN\n",
       "209  2020-07-27      254.0         5.0    19374.0\n",
       "226  2020-08-13      476.0        10.0    25629.0\n",
       "204  2020-07-22      128.0        15.0    29288.0\n",
       "232  2020-08-19      401.0         5.0    41290.0\n",
       "100  2020-04-09     3836.0       540.0        NaN\n",
       "214  2020-08-01      379.0         9.0    31905.0\n",
       "43   2020-02-12        0.0         0.0        NaN\n",
       "0    2019-12-31        0.0         0.0        NaN"
      ]
     },
     "execution_count": 20,
     "metadata": {},
     "output_type": "execute_result"
    }
   ],
   "source": [
    "covid_df.sample(10)"
   ]
  },
  {
   "cell_type": "markdown",
   "id": "2de09f27-ada2-4668-9510-a815e3bf872d",
   "metadata": {},
   "source": [
    "# Analyzing Data from the data frames"
   ]
  },
  {
   "cell_type": "markdown",
   "id": "e5990569-46fa-4975-a9b8-71c2eae3ad14",
   "metadata": {},
   "source": [
    "#### Q1: What is the total number of reported cases and deaths to covi-19 in Italy?\n",
    "-> *Similar to NumPy arrays, a Pandas series supports* **sum** *method to answer these question*"
   ]
  },
  {
   "cell_type": "code",
   "execution_count": 21,
   "id": "7bc9b5a0-e73d-481e-85c5-ab178e598a4c",
   "metadata": {},
   "outputs": [],
   "source": [
    "total_cases = covid_df.new_cases.sum()\n",
    "total_deaths = covid_df.new_deaths.sum()"
   ]
  },
  {
   "cell_type": "code",
   "execution_count": 22,
   "id": "f1e63d49-deac-4580-9cde-1fff314fc282",
   "metadata": {
    "jupyter": {
     "source_hidden": true
    }
   },
   "outputs": [
    {
     "name": "stdout",
     "output_type": "stream",
     "text": [
      "The total number of new cases in Italy during covid-19 is: 271515 \n",
      "The total number of deaths in Italy during covid-19 is: 35497\n"
     ]
    }
   ],
   "source": [
    "print(f\"The total number of new cases in Italy during covid-19 is: {int(total_cases)} \\nThe total number of deaths in Italy during covid-19 is: {int(total_deaths)}\")"
   ]
  },
  {
   "cell_type": "markdown",
   "id": "6eaae4ed-83c9-4487-ad6c-5b7478d463bd",
   "metadata": {},
   "source": [
    "#### Q2: What is the overal death rate in Italy during covid-19?"
   ]
  },
  {
   "cell_type": "code",
   "execution_count": 23,
   "id": "bd24f551-c2c8-4a01-b3d9-85648a89415e",
   "metadata": {},
   "outputs": [],
   "source": [
    "death_rate = total_deaths / total_cases"
   ]
  },
  {
   "cell_type": "code",
   "execution_count": 24,
   "id": "edaf537b-8109-42f1-bb68-28e3acd74791",
   "metadata": {},
   "outputs": [
    {
     "name": "stdout",
     "output_type": "stream",
     "text": [
      "The overal death rate in Italy during the covid-19 is: 0.1307%\n"
     ]
    }
   ],
   "source": [
    "print(f\"The overal death rate in Italy during the covid-19 is: {death_rate:.4f}%\")"
   ]
  },
  {
   "cell_type": "markdown",
   "id": "87ad477c-b07b-4fea-b792-22aa8a9644d8",
   "metadata": {},
   "source": [
    "#### Q3: What is the overal number of tests conducted if a total of 935310 tests were conducted before the daily tests were being reported?"
   ]
  },
  {
   "cell_type": "code",
   "execution_count": 25,
   "id": "caa44288-72cd-4050-baef-15ae3df1b14f",
   "metadata": {},
   "outputs": [],
   "source": [
    "total_tests = 935310 + covid_df.new_tests.sum()"
   ]
  },
  {
   "cell_type": "code",
   "execution_count": 26,
   "id": "caa0b301-e59c-4306-b04b-f1c7fd83c3c7",
   "metadata": {},
   "outputs": [
    {
     "name": "stdout",
     "output_type": "stream",
     "text": [
      "The total number of test which were conducted in Italy during the covid-19 is: 5214766\n"
     ]
    }
   ],
   "source": [
    "print(f\"The total number of test which were conducted in Italy during the covid-19 is: {int(total_tests)}\")"
   ]
  },
  {
   "cell_type": "markdown",
   "id": "8a78beb7-deed-413f-8232-fd0618759d6c",
   "metadata": {},
   "source": [
    "#### Q4: What fraction of the test was returned a positive result?"
   ]
  },
  {
   "cell_type": "code",
   "execution_count": 27,
   "id": "4a6f8c05-02a8-43f7-abdf-7ed96b0e97fb",
   "metadata": {},
   "outputs": [],
   "source": [
    "positive_tests = total_cases / covid_df.new_tests.sum()"
   ]
  },
  {
   "cell_type": "code",
   "execution_count": 28,
   "id": "1116395e-3fce-49f4-b37c-2201bd3feba2",
   "metadata": {},
   "outputs": [
    {
     "name": "stdout",
     "output_type": "stream",
     "text": [
      "The total number of tests which turned out to be positive are: 0.0634%\n"
     ]
    }
   ],
   "source": [
    "print(f\"The total number of tests which turned out to be positive are: {positive_tests:.4f}%\")"
   ]
  },
  {
   "cell_type": "markdown",
   "id": "e21223b5-9655-4c8f-9062-fa2cb42f6e73",
   "metadata": {},
   "source": [
    "#### Q5: Print all the rows of data that have 1,000 or more cases."
   ]
  },
  {
   "cell_type": "code",
   "execution_count": 29,
   "id": "497d6091-a96a-44be-a102-e3cc0d63f3da",
   "metadata": {},
   "outputs": [],
   "source": [
    "high_new_cases = covid_df.new_cases >= 1000"
   ]
  },
  {
   "cell_type": "code",
   "execution_count": 30,
   "id": "1a6111dc-32aa-4ea3-af3f-2159b4cfed6e",
   "metadata": {},
   "outputs": [
    {
     "data": {
      "text/plain": [
       "0      False\n",
       "1      False\n",
       "2      False\n",
       "3      False\n",
       "4      False\n",
       "       ...  \n",
       "243     True\n",
       "244     True\n",
       "245    False\n",
       "246    False\n",
       "247     True\n",
       "Name: new_cases, Length: 248, dtype: bool"
      ]
     },
     "execution_count": 30,
     "metadata": {},
     "output_type": "execute_result"
    }
   ],
   "source": [
    "high_new_cases"
   ]
  },
  {
   "cell_type": "code",
   "execution_count": 31,
   "id": "63d4cd3f-5198-4c91-9478-e17a2768afd9",
   "metadata": {},
   "outputs": [],
   "source": [
    "high_cases = covid_df[high_new_cases]"
   ]
  },
  {
   "cell_type": "code",
   "execution_count": 32,
   "id": "de1640fb-3163-4d12-bdba-ad0a150f80e1",
   "metadata": {},
   "outputs": [
    {
     "name": "stdout",
     "output_type": "stream",
     "text": [
      "The rows of data which had 1000 or more new cases in a day are: \n",
      "           date  new_cases  new_deaths  new_tests\n",
      "68   2020-03-08     1247.0        36.0        NaN\n",
      "69   2020-03-09     1492.0       133.0        NaN\n",
      "70   2020-03-10     1797.0        98.0        NaN\n",
      "72   2020-03-12     2313.0       196.0        NaN\n",
      "73   2020-03-13     2651.0       189.0        NaN\n",
      "..          ...        ...         ...        ...\n",
      "241  2020-08-28     1409.0         5.0    65135.0\n",
      "242  2020-08-29     1460.0         9.0    64294.0\n",
      "243  2020-08-30     1444.0         1.0    53541.0\n",
      "244  2020-08-31     1365.0         4.0    42583.0\n",
      "247  2020-09-03     1326.0         6.0        NaN\n",
      "\n",
      "[72 rows x 4 columns]\n"
     ]
    }
   ],
   "source": [
    "print(f\"The rows of data which had 1000 or more new cases in a day are: \\n{high_cases}\")"
   ]
  },
  {
   "cell_type": "markdown",
   "id": "f36cab4d-cc25-482a-b3af-975a11e8cd88",
   "metadata": {},
   "source": [
    "Well we colud also reduce them into one single line\n",
    "\n",
    "Like:"
   ]
  },
  {
   "cell_type": "code",
   "execution_count": 33,
   "id": "84e6aacf-fc7f-424e-96b4-1382a7b800ca",
   "metadata": {},
   "outputs": [
    {
     "name": "stdout",
     "output_type": "stream",
     "text": [
      "The rows of data which had 1000 or more cases in a day are:\n",
      "           date  new_cases  new_deaths  new_tests\n",
      "68   2020-03-08     1247.0        36.0        NaN\n",
      "69   2020-03-09     1492.0       133.0        NaN\n",
      "70   2020-03-10     1797.0        98.0        NaN\n",
      "72   2020-03-12     2313.0       196.0        NaN\n",
      "73   2020-03-13     2651.0       189.0        NaN\n",
      "..          ...        ...         ...        ...\n",
      "241  2020-08-28     1409.0         5.0    65135.0\n",
      "242  2020-08-29     1460.0         9.0    64294.0\n",
      "243  2020-08-30     1444.0         1.0    53541.0\n",
      "244  2020-08-31     1365.0         4.0    42583.0\n",
      "247  2020-09-03     1326.0         6.0        NaN\n",
      "\n",
      "[72 rows x 4 columns]\n"
     ]
    }
   ],
   "source": [
    "print(f\"The rows of data which had 1000 or more cases in a day are:\\n{covid_df[covid_df.new_cases >= 1000]}\")"
   ]
  },
  {
   "cell_type": "markdown",
   "id": "004f3c2a-cf20-4bd7-80b2-28b54a4ae5ba",
   "metadata": {},
   "source": [
    "The data frame contains 72 rows but only first 5 and the last 5 rows of data are being displayed by deafult\n",
    "jupyter, for brevity. So if you wish to go through all the rows, then we can modify some display options."
   ]
  },
  {
   "cell_type": "code",
   "execution_count": 38,
   "id": "e94d297f-2fe7-466d-affa-b87e0b7e35f0",
   "metadata": {},
   "outputs": [],
   "source": [
    "#from IPython.display import display\n",
    "#with pd.option_context('display.max_rows',100):   # The 100 here limits the DataFrame display to 100 rows within this block\n",
    "#    display(covid_df[covid_df.new_cases >= 1000])"
   ]
  },
  {
   "cell_type": "markdown",
   "id": "04b88406-a1e6-4689-bf3c-377e35478ba8",
   "metadata": {},
   "source": [
    "## How this works:\n",
    "\n",
    "**1. from IPython.display import diaplay**'\n",
    "\n",
    "*This imports the display() function, which is used in Jupyter Notebooks \n",
    "(and IPython environments) to nicely format and show objects like DataFrames, HTML, etc.*\n",
    "\n",
    "**2. with pd.option_context('display.max_rows', 100):**\n",
    "\n",
    "*That means:\n",
    "Inside this with block, Pandas will show up to 100 rows when displaying a DataFrame.\n",
    "Once the block is done, Pandas will return to its previous setting.*\n",
    "\n",
    "**3. covid_df[covid_df.new_cases >= 1000]**\n",
    "\n",
    "*This is a boolean filter on the DataFrame covid_df. It selects only the rows where the \n",
    "new_cases column has values greater than or equal to 1000.*\n",
    "*Which will return a subset of the original DataFrame that matches this condition.*"
   ]
  },
  {
   "cell_type": "code",
   "execution_count": null,
   "id": "862388ba-3a56-470b-b658-2fe8c689aeea",
   "metadata": {},
   "outputs": [],
   "source": []
  }
 ],
 "metadata": {
  "kernelspec": {
   "display_name": "Python 3 (ipykernel)",
   "language": "python",
   "name": "python3"
  },
  "language_info": {
   "codemirror_mode": {
    "name": "ipython",
    "version": 3
   },
   "file_extension": ".py",
   "mimetype": "text/x-python",
   "name": "python",
   "nbconvert_exporter": "python",
   "pygments_lexer": "ipython3",
   "version": "3.13.2"
  }
 },
 "nbformat": 4,
 "nbformat_minor": 5
}
