{
 "cells": [
  {
   "cell_type": "code",
   "execution_count": 3,
   "id": "5ed12896-f76c-478f-a1d7-70cb1210fc45",
   "metadata": {},
   "outputs": [],
   "source": [
    "import numpy as np"
   ]
  },
  {
   "cell_type": "code",
   "execution_count": 4,
   "id": "7f1fe0ac-5a70-4630-b283-ed222aed384b",
   "metadata": {},
   "outputs": [],
   "source": [
    "ar = np.array([1,2,3])"
   ]
  },
  {
   "cell_type": "code",
   "execution_count": 5,
   "id": "f076abd4-bcd0-4198-a6e1-75cbd0e94919",
   "metadata": {},
   "outputs": [],
   "source": [
    "arr = np.array([3,2,1])"
   ]
  },
  {
   "cell_type": "code",
   "execution_count": 6,
   "id": "bddb41e4-29a2-4d41-a95a-92a69ee8bd16",
   "metadata": {},
   "outputs": [
    {
     "data": {
      "text/plain": [
       "np.int64(10)"
      ]
     },
     "execution_count": 6,
     "metadata": {},
     "output_type": "execute_result"
    }
   ],
   "source": [
    "np.dot(ar,arr)"
   ]
  },
  {
   "cell_type": "code",
   "execution_count": 7,
   "id": "932e978a-6e39-4a91-823d-cd718ea34924",
   "metadata": {},
   "outputs": [
    {
     "data": {
      "text/plain": [
       "array([-4,  8, -4])"
      ]
     },
     "execution_count": 7,
     "metadata": {},
     "output_type": "execute_result"
    }
   ],
   "source": [
    "np.cross(ar,arr)"
   ]
  },
  {
   "cell_type": "code",
   "execution_count": 8,
   "id": "920ac1ad-2fba-430b-85c2-8be92c4b4848",
   "metadata": {},
   "outputs": [
    {
     "name": "stdout",
     "output_type": "stream",
     "text": [
      "CPU times: total: 0 ns\n",
      "Wall time: 88.9 μs\n"
     ]
    },
    {
     "data": {
      "text/plain": [
       "np.int64(10)"
      ]
     },
     "execution_count": 8,
     "metadata": {},
     "output_type": "execute_result"
    }
   ],
   "source": [
    "(ar*arr).sum()"
   ]
  },
  {
   "cell_type": "code",
   "execution_count": 31,
   "id": "03f47bc7-35f4-4ab7-9d5b-f4e288ba98f9",
   "metadata": {},
   "outputs": [],
   "source": [
    "l1 = [1,2,3,4]\n",
    "l2 = [5,6,7,8]\n",
    "l3 = [9,10,11,12]\n",
    "l4 = [13,14,15,16]"
   ]
  },
  {
   "cell_type": "code",
   "execution_count": 32,
   "id": "e060a65a-bd08-47ff-8bfd-80fdbb726a09",
   "metadata": {},
   "outputs": [
    {
     "data": {
      "text/plain": [
       "array([[ 1,  2,  3,  4],\n",
       "       [ 5,  6,  7,  8],\n",
       "       [ 9, 10, 11, 12],\n",
       "       [13, 14, 15, 16]])"
      ]
     },
     "execution_count": 32,
     "metadata": {},
     "output_type": "execute_result"
    }
   ],
   "source": [
    "arr = np.array([l1,l2,l3,l4])\n",
    "arr"
   ]
  },
  {
   "cell_type": "code",
   "execution_count": 33,
   "id": "8e501689-8228-4c7d-a636-e45f7cbf97d4",
   "metadata": {},
   "outputs": [
    {
     "data": {
      "text/plain": [
       "(4, 4)"
      ]
     },
     "execution_count": 33,
     "metadata": {},
     "output_type": "execute_result"
    }
   ],
   "source": [
    "arr.shape"
   ]
  },
  {
   "cell_type": "code",
   "execution_count": 16,
   "id": "ce545bd7-c816-4a2e-9614-f0ba71062365",
   "metadata": {},
   "outputs": [],
   "source": [
    "l1 = [1,2]\n",
    "l2 = [3,4]\n",
    "l3 = [5,6]\n",
    "l4 = [7,8]"
   ]
  },
  {
   "cell_type": "code",
   "execution_count": 17,
   "id": "36fe5499-c861-4a01-a2c1-ee9ca320b991",
   "metadata": {},
   "outputs": [],
   "source": [
    "ln = [l1,l2]\n",
    "lN = [l3,l4]"
   ]
  },
  {
   "cell_type": "code",
   "execution_count": 35,
   "id": "2dbc0b75-66dc-4db0-99ea-2230a13e0ede",
   "metadata": {},
   "outputs": [
    {
     "data": {
      "text/plain": [
       "array([[[1, 2],\n",
       "        [3, 4]],\n",
       "\n",
       "       [[5, 6],\n",
       "        [7, 8]]])"
      ]
     },
     "execution_count": 35,
     "metadata": {},
     "output_type": "execute_result"
    }
   ],
   "source": [
    "arr_3D = np.array([ln,lN])\n",
    "arr_3D"
   ]
  },
  {
   "cell_type": "code",
   "execution_count": 36,
   "id": "4cedaf0e-30a2-4808-af8e-9e4489b5d0b1",
   "metadata": {},
   "outputs": [
    {
     "data": {
      "text/plain": [
       "(2, 2, 2)"
      ]
     },
     "execution_count": 36,
     "metadata": {},
     "output_type": "execute_result"
    }
   ],
   "source": [
    "arr_3D.shape"
   ]
  },
  {
   "cell_type": "code",
   "execution_count": 37,
   "id": "a14b52c7-c686-4b53-8355-6fae85128b86",
   "metadata": {},
   "outputs": [
    {
     "data": {
      "image/png": "[encoded data removed]",
      "text/plain": [
       "<Figure size 800x400 with 4 Axes>"
      ]
     },
     "metadata": {},
     "output_type": "display_data"
    }
   ],
   "source": [
    "import numpy as np\n",
    "import matplotlib.pyplot as plt\n",
    "\n",
    "# Define the array\n",
    "arr = np.array([[[1, 2],\n",
    "                 [3, 4]],\n",
    "\n",
    "                [[5, 6],\n",
    "                 [7, 8]]])\n",
    "\n",
    "# Plot each 2D matrix slice\n",
    "fig, axes = plt.subplots(1, 2, figsize=(8, 4))\n",
    "\n",
    "for i in range(2):\n",
    "    ax = axes[i]\n",
    "    cax = ax.matshow(arr[i], cmap='viridis')\n",
    "    ax.set_title(f'Matrix {i}')\n",
    "    for (j, k), val in np.ndenumerate(arr[i]):\n",
    "        ax.text(k, j, f'{val}', ha='center', va='center', color='black')\n",
    "    fig.colorbar(cax, ax=ax)\n",
    "\n",
    "plt.tight_layout()\n",
    "plt.show()\n"
   ]
  },
  {
   "cell_type": "code",
   "execution_count": null,
   "id": "4e5ad2b4-c0ae-4983-93a7-4671411caf76",
   "metadata": {},
   "outputs": [],
   "source": []
  }
 ],
 "metadata": {
  "kernelspec": {
   "display_name": "Python 3 (ipykernel)",
   "language": "python",
   "name": "python3"
  },
  "language_info": {
   "codemirror_mode": {
    "name": "ipython",
    "version": 3
   },
   "file_extension": ".py",
   "mimetype": "text/x-python",
   "name": "python",
   "nbconvert_exporter": "python",
   "pygments_lexer": "ipython3",
   "version": "3.13.2"
  }
 },
 "nbformat": 4,
 "nbformat_minor": 5
}
